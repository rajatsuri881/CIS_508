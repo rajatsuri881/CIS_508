{
 "cells": [
  {
   "cell_type": "code",
   "execution_count": 2,
   "metadata": {
    "colab": {
     "base_uri": "https://localhost:8080/",
     "height": 84
    },
    "executionInfo": {
     "elapsed": 26984,
     "status": "ok",
     "timestamp": 1603344737856,
     "user": {
      "displayName": "Asim Roy",
      "photoUrl": "",
      "userId": "05146077416249051154"
     },
     "user_tz": 420
    },
    "id": "w1hDk9hDvOH7",
    "outputId": "fff9f6a1-8d7d-4c3f-d600-f533f636b7fe"
   },
   "outputs": [
    {
     "name": "stdout",
     "output_type": "stream",
     "text": [
      "[nltk_data] Downloading package punkt to /root/nltk_data...\n",
      "[nltk_data]   Unzipping tokenizers/punkt.zip.\n",
      "Mounted at /gdrive\n",
      "/gdrive\n"
     ]
    }
   ],
   "source": [
    "\n",
    "import pandas as pd\n",
    "import numpy as np\n",
    "\n",
    "from sklearn.feature_extraction.text import CountVectorizer\n",
    "from sklearn.feature_extraction.text import TfidfTransformer\n",
    "\n",
    "from sklearn.ensemble import ExtraTreesClassifier\n",
    "from sklearn.feature_selection import SelectFromModel\n",
    "\n",
    "\n",
    "#NLTK-------------------------------\n",
    "import nltk\n",
    "nltk.download('punkt')\n",
    "from nltk.tokenize import word_tokenize\n",
    "from nltk.stem.snowball import SnowballStemmer\n",
    "from nltk.corpus import stopwords\n",
    "#from nltk.stemporter import PorterStemmer\n",
    "\n",
    "# Import libraries for feature \n",
    "from sklearn.feature_selection import SelectKBest\n",
    "from sklearn.feature_selection import chi2\n",
    "\n",
    "\n",
    "from sklearn.ensemble import GradientBoostingClassifier\n",
    "from sklearn.tree import DecisionTreeClassifier\n",
    "from sklearn.ensemble import RandomForestClassifier\n",
    "from sklearn.neural_network import MLPClassifier\n",
    "from sklearn.svm import SVC\n",
    "from sklearn.metrics import confusion_matrix,classification_report\n",
    "from sklearn import metrics\n",
    "from sklearn.model_selection import cross_val_score\n",
    "\n",
    "import warnings\n",
    "warnings.filterwarnings(\"ignore\")\n",
    "\n",
    "\n",
    "from google.colab import drive\n",
    "drive.mount('/gdrive')\n",
    "#Change current working directory to gdrive\n",
    "%cd /gdrive\n"
   ]
  },
  {
   "cell_type": "code",
   "execution_count": 3,
   "metadata": {
    "colab": {
     "base_uri": "https://localhost:8080/",
     "height": 50
    },
    "executionInfo": {
     "elapsed": 1167,
     "status": "ok",
     "timestamp": 1603344741783,
     "user": {
      "displayName": "Asim Roy",
      "photoUrl": "",
      "userId": "05146077416249051154"
     },
     "user_tz": 420
    },
    "id": "BMwGQK7KAd7T",
    "outputId": "eaffde1b-9648-4197-a927-5cdaddfb7056"
   },
   "outputs": [
    {
     "name": "stdout",
     "output_type": "stream",
     "text": [
      "(2070, 2)\n",
      "(2070, 17)\n"
     ]
    }
   ],
   "source": [
    "#Read files\n",
    "textfile = r'/gdrive/My Drive/CIS508-FALL2020/PT5A/Comments.csv'\n",
    "textData = pd.read_csv(textfile) #creates a dataframe\n",
    "\n",
    "CustInfofile = r'/gdrive/My Drive/CIS508-FALL2020/PT5A/Customers.csv'\n",
    "CustInfoData = pd.read_csv(CustInfofile)  #creates a dataframe\n",
    "\n",
    "print(textData.shape)\n",
    "print(CustInfoData.shape)\n"
   ]
  },
  {
   "cell_type": "code",
   "execution_count": 4,
   "metadata": {
    "colab": {
     "base_uri": "https://localhost:8080/",
     "height": 353
    },
    "executionInfo": {
     "elapsed": 350,
     "status": "ok",
     "timestamp": 1603344744311,
     "user": {
      "displayName": "Asim Roy",
      "photoUrl": "",
      "userId": "05146077416249051154"
     },
     "user_tz": 420
    },
    "id": "SWOTk6C1Ao45",
    "outputId": "eab507c7-1305-474a-955d-d32090e43d1f"
   },
   "outputs": [
    {
     "name": "stdout",
     "output_type": "stream",
     "text": [
      "(2070, 16)\n",
      "(2070, 2)\n",
      "     ID                                           Comments\n",
      "0  1309  Does not like the way the phone works. It is t...\n",
      "1  3556  Wanted to know the nearest store location. Wan...\n",
      "2  2230  Wants to know how to do text messaging. Referr...\n",
      "3  2312  Asked how to disable call waiting. referred hi...\n",
      "4  3327  Needs help learning how to use the phone. I su...\n",
      "0       Cancelled\n",
      "1         Current\n",
      "2         Current\n",
      "3         Current\n",
      "4       Cancelled\n",
      "          ...    \n",
      "2065    Cancelled\n",
      "2066    Cancelled\n",
      "2067    Cancelled\n",
      "2068    Cancelled\n",
      "2069    Cancelled\n",
      "Name: TARGET, Length: 2070, dtype: object\n"
     ]
    }
   ],
   "source": [
    "#Extract target column from Customer Info file\n",
    "y_train = CustInfoData[\"TARGET\"]\n",
    "X_train = CustInfoData.drop(columns=[\"TARGET\"]) #extracting training data without the target column\n",
    "                     \n",
    "print(X_train.shape)\n",
    "print(textData.shape)\n",
    "print(textData.head())\n",
    "print(y_train)"
   ]
  },
  {
   "cell_type": "code",
   "execution_count": 5,
   "metadata": {
    "executionInfo": {
     "elapsed": 1001,
     "status": "ok",
     "timestamp": 1603344748276,
     "user": {
      "displayName": "Asim Roy",
      "photoUrl": "",
      "userId": "05146077416249051154"
     },
     "user_tz": 420
    },
    "id": "cuWYNz2Ep17l"
   },
   "outputs": [],
   "source": [
    "#Tokenize - Split the sentences to lists of words\n",
    "textData['CommentsTokenized'] = textData['Comments'].apply(word_tokenize)\n",
    "\n",
    "export_csv = textData.to_csv(r'/gdrive/My Drive/CIS508-FALL2020/PT5A/TextDataTokenized1.csv')\n",
    "\n",
    "\n"
   ]
  },
  {
   "cell_type": "code",
   "execution_count": 6,
   "metadata": {
    "executionInfo": {
     "elapsed": 886,
     "status": "ok",
     "timestamp": 1603344751844,
     "user": {
      "displayName": "Asim Roy",
      "photoUrl": "",
      "userId": "05146077416249051154"
     },
     "user_tz": 420
    },
    "id": "XeYXLU-u_v9R"
   },
   "outputs": [],
   "source": [
    "# Use English stemmer.\n",
    "stemmer = SnowballStemmer(\"english\")\n",
    "\n",
    "#Now do stemming - create a new dataframe to store stemmed version\n",
    "newTextData=pd.DataFrame()\n",
    "newTextData=textData.drop(columns=[\"CommentsTokenized\",\"Comments\"])\n",
    "newTextData['CommentsTokenizedStemmed'] = textData['CommentsTokenized'].apply(lambda x: [stemmer.stem(y) for y in x]) # Stem every word.\n",
    "\n",
    "export_csv = newTextData.to_csv(r'/gdrive/My Drive/CIS508-FALL2020/PT5A/newTextDataTS.csv')\n"
   ]
  },
  {
   "cell_type": "code",
   "execution_count": 7,
   "metadata": {
    "executionInfo": {
     "elapsed": 525,
     "status": "ok",
     "timestamp": 1603344755140,
     "user": {
      "displayName": "Asim Roy",
      "photoUrl": "",
      "userId": "05146077416249051154"
     },
     "user_tz": 420
    },
    "id": "M07E7VW7_y0d"
   },
   "outputs": [],
   "source": [
    "\n",
    "#Join stemmed strings\n",
    "newTextData['CommentsTokenizedStemmed'] = newTextData['CommentsTokenizedStemmed'].apply(lambda x: \" \".join(x))\n",
    "\n",
    "export_csv = newTextData.to_csv(r'/gdrive/My Drive/CIS508-FALL2020/PT5A/newTextData-Joined.csv')"
   ]
  },
  {
   "cell_type": "code",
   "execution_count": 8,
   "metadata": {
    "colab": {
     "base_uri": "https://localhost:8080/",
     "height": 322
    },
    "executionInfo": {
     "elapsed": 606,
     "status": "ok",
     "timestamp": 1603344758356,
     "user": {
      "displayName": "Asim Roy",
      "photoUrl": "",
      "userId": "05146077416249051154"
     },
     "user_tz": 420
    },
    "id": "WiBguQloljam",
    "outputId": "16eabe31-ad89-455c-dc90-780b7a2bfaa8"
   },
   "outputs": [
    {
     "name": "stdout",
     "output_type": "stream",
     "text": [
      "(2070, 354)\n",
      "int64\n",
      "['3399', '3g', 'abysm', 'access', 'accessori', 'adapt', 'add', 'addit', 'additon', 'address', 'adit', 'adress', 'advertis', 'afraid', 'alway', 'angel', 'angri', 'ani', 'anoth', 'anyth', 'anytim', 'area', 'asap', 'ask', 'bad', 'basic', 'bateri', 'batteri', 'becaus', 'believ', 'better', 'bigger', 'book', 'bought', 'brain', 'bring', 'built', 'busi', 'button', 'buy', 'cancel', 'cancer', 'car', 'care', 'carrier', 'caus', 'cc', 'cell', 'certain', 'chang', 'charg', 'charger', 'check', 'chip', 'citi', 'claim', 'cleariti', 'cold', 'comapr', 'compani', 'compar', 'competit', 'complain', 'complaint', 'concept', 'connect', 'consisit', 'consist', 'constan', 'contact', 'continu', 'contract', 'correct', 'cost', 'coupl', 'cover', 'coverag', 'creat', 'credit', 'cstmer', 'cstmr', 'current', 'cust', 'custom', 'customr', 'date', 'day', 'dead', 'decent', 'defect', 'deo', 'did', 'die', 'differ', 'difficult', 'digiti', 'direct', 'disabl', 'doe', 'don', 'dont', 'drop', 'dure', 'easier', 'effect', 'encount', 'end', 'enemi', 'equip', 'everytim', 'everywher', 'evrey', 'exact', 'expect', 'expir', 'explain', 'facepl', 'fals', 'famili', 'featur', 'fed', 'figur', 'fine', 'fix', 'forev', 'forward', 'friend', 'function', 'furthermor', 'futur', 'gave', 'goat', 'good', 'great', 'gsm', 'handset', 'happi', 'hard', 'hate', 'hear', 'heard', 'help', 'higher', 'highway', 'hochi', 'hole', 'home', 'hope', 'horribl', 'hous', 'implement', 'improv', 'inadequ', 'includ', 'info', 'inform', 'ing', 'internet', 'intersect', 'issu', 'june', 'just', 'kid', 'kno', 'know', 'lame', 'later', 'lctn', 'learn', 'leroy', 'like', 'line', 'list', 'local', 'locat', 'locatn', 'long', 'los', 'lost', 'lot', 'love', 'major', 'make', 'manag', 'mani', 'manual', 'market', 'mean', 'messag', 'metropolitian', 'minut', 'misl', 'mistak', 'model', 'momma', 'mr', 'napeleon', 'near', 'nearest', 'need', 'network', 'new', 'news', 'notic', 'number', 'numer', 'offer', 'old', 'om', 'open', 'option', 'ori', 'ot', 'outbound', 'pass', 'pay', 'pda', 'peopl', 'perform', 'person', 'phone', 'piec', 'plan', 'pleas', 'point', 'polici', 'poor', 'possibl', 'probabl', 'problem', 'proper', 'provid', 'provis', 'purpos', 'rate', 'rater', 'realiz', 'realli', 'reason', 'receiv', 'recept', 'recption', 'reenter', 'refer', 'relat', 'rep', 'replac', 'respect', 'result', 'rid', 'right', 'ring', 'roam', 'roll', 'rubbish', 'rude', 'said', 'sale', 'say', 'screen', 'self', 'send', 'servic', 'shitti', 'shut', 'sign', 'signal', 'signific', 'simm', 'simpli', 'sinc', 'site', 'slow', 'sold', 'someon', 'sometim', 'soon', 'speak', 'speed', 'start', 'static', 'stole', 'store', 'stuff', 'stupid', 'substant', 'subtract', 'suck', 'suggest', 'supervisor', 'support', 'sure', 'surpris', 'suspect', 'suspend', 'switch', 'teach', 'technic', 'tell', 'terribl', 'test', 'text', 'think', 'thought', 'ticket', 'till', 'time', 'tire', 'today', 'toilet', 'told', 'tone', 'tower', 'transeff', 'transf', 'transfer', 'travel', 'tri', 'trust', 'turn', 'uncomfort', 'understand', 'unhappi', 'unlimit', 'unreli', 'unwil', 'upset', 'usag', 'use', 'useless', 'valu', 'veri', 'vm', 'wa', 'wait', 'want', 'wast', 'way', 'weak', 'web', 'websit', 'week', 'whi', 'wife', 'wish', 'wll', 'wold', 'work', 'wors', 'worst', 'wrong', 'xvyx', 'year', 'york']\n",
      "      0    1    2    3    4    5    6    ...  347  348  349  350  351  352  353\n",
      "0       0    0    0    0    0    0    0  ...    1    0    0    0    0    0    0\n",
      "1       0    0    0    0    1    0    0  ...    0    0    0    0    0    0    0\n",
      "2       0    0    0    0    0    0    0  ...    0    0    0    0    0    0    0\n",
      "3       0    0    0    0    0    0    0  ...    0    0    0    0    0    0    0\n",
      "4       0    0    0    0    0    0    0  ...    0    0    0    0    0    0    0\n",
      "...   ...  ...  ...  ...  ...  ...  ...  ...  ...  ...  ...  ...  ...  ...  ...\n",
      "2065    0    0    0    0    0    0    0  ...    0    0    0    0    0    0    0\n",
      "2066    0    0    0    0    0    0    0  ...    0    0    0    0    0    0    0\n",
      "2067    0    0    0    0    0    0    0  ...    0    0    0    0    0    0    0\n",
      "2068    0    0    0    0    0    0    0  ...    0    0    0    0    0    0    0\n",
      "2069    0    0    0    0    0    0    0  ...    0    0    0    0    0    0    0\n",
      "\n",
      "[2070 rows x 354 columns]\n"
     ]
    }
   ],
   "source": [
    "#Do Bag-Of-Words model - Term - Document Matrix\n",
    "#Learn the vocabulary dictionary and return term-document matrix.\n",
    "#count_vect = CountVectorizer(stop_words=None)\n",
    "count_vect = CountVectorizer(stop_words='english',lowercase=False)\n",
    "TD_counts = count_vect.fit_transform(newTextData.CommentsTokenizedStemmed)\n",
    "print(TD_counts.shape)\n",
    "print(TD_counts.dtype)\n",
    "print(count_vect.get_feature_names())\n",
    "#print(TD_counts)\n",
    "DF_TD_Counts=pd.DataFrame(TD_counts.toarray())\n",
    "print(DF_TD_Counts)\n",
    "export_csv = DF_TD_Counts.to_csv(r'/gdrive/My Drive/CIS508-FALL2020/PT5A/TD_counts-TokenizedStemmed.csv')\n"
   ]
  },
  {
   "cell_type": "code",
   "execution_count": 9,
   "metadata": {
    "colab": {
     "base_uri": "https://localhost:8080/",
     "height": 269
    },
    "executionInfo": {
     "elapsed": 1058,
     "status": "ok",
     "timestamp": 1603344762382,
     "user": {
      "displayName": "Asim Roy",
      "photoUrl": "",
      "userId": "05146077416249051154"
     },
     "user_tz": 420
    },
    "id": "pd8TZYnAxQbP",
    "outputId": "191f8c7a-aee7-4e7d-f602-e1f70aef0e09"
   },
   "outputs": [
    {
     "name": "stdout",
     "output_type": "stream",
     "text": [
      "(2070, 354)\n",
      "      0    1    2    3        4    5    ...  348  349  350  351  352  353\n",
      "0     0.0  0.0  0.0  0.0  0.00000  0.0  ...  0.0  0.0  0.0  0.0  0.0  0.0\n",
      "1     0.0  0.0  0.0  0.0  0.27568  0.0  ...  0.0  0.0  0.0  0.0  0.0  0.0\n",
      "2     0.0  0.0  0.0  0.0  0.00000  0.0  ...  0.0  0.0  0.0  0.0  0.0  0.0\n",
      "3     0.0  0.0  0.0  0.0  0.00000  0.0  ...  0.0  0.0  0.0  0.0  0.0  0.0\n",
      "4     0.0  0.0  0.0  0.0  0.00000  0.0  ...  0.0  0.0  0.0  0.0  0.0  0.0\n",
      "...   ...  ...  ...  ...      ...  ...  ...  ...  ...  ...  ...  ...  ...\n",
      "2065  0.0  0.0  0.0  0.0  0.00000  0.0  ...  0.0  0.0  0.0  0.0  0.0  0.0\n",
      "2066  0.0  0.0  0.0  0.0  0.00000  0.0  ...  0.0  0.0  0.0  0.0  0.0  0.0\n",
      "2067  0.0  0.0  0.0  0.0  0.00000  0.0  ...  0.0  0.0  0.0  0.0  0.0  0.0\n",
      "2068  0.0  0.0  0.0  0.0  0.00000  0.0  ...  0.0  0.0  0.0  0.0  0.0  0.0\n",
      "2069  0.0  0.0  0.0  0.0  0.00000  0.0  ...  0.0  0.0  0.0  0.0  0.0  0.0\n",
      "\n",
      "[2070 rows x 354 columns]\n"
     ]
    }
   ],
   "source": [
    "#Compute TF-IDF Matrix\n",
    "tfidf_transformer = TfidfTransformer()\n",
    "X_train_tfidf = tfidf_transformer.fit_transform(TD_counts)\n",
    "print(X_train_tfidf.shape)\n",
    "DF_TF_IDF=pd.DataFrame(X_train_tfidf.toarray())\n",
    "print(DF_TF_IDF)\n",
    "export_csv= DF_TF_IDF.to_csv(r'/gdrive/My Drive/CIS508-FALL2020/PT5A/TFIDF_counts-TokenizedStemmed.csv')\n"
   ]
  },
  {
   "cell_type": "code",
   "execution_count": 10,
   "metadata": {
    "colab": {
     "base_uri": "https://localhost:8080/",
     "height": 269
    },
    "executionInfo": {
     "elapsed": 556,
     "status": "ok",
     "timestamp": 1603344766160,
     "user": {
      "displayName": "Asim Roy",
      "photoUrl": "",
      "userId": "05146077416249051154"
     },
     "user_tz": 420
    },
    "id": "m2owIUD6_eYO",
    "outputId": "2d6c7e7c-815f-4407-c461-553b5e801aa0"
   },
   "outputs": [
    {
     "name": "stdout",
     "output_type": "stream",
     "text": [
      "(2070, 50)\n",
      "            0    1    2    3         4         5   ...   44   45   46   47   48   49\n",
      "0     0.000000  0.0  0.0  0.0  0.000000  0.000000  ...  0.0  0.0  0.0  0.0  0.0  0.0\n",
      "1     0.000000  0.0  0.0  0.0  0.000000  0.000000  ...  0.0  0.0  0.0  0.0  0.0  0.0\n",
      "2     0.000000  0.0  0.0  0.0  0.000000  0.000000  ...  0.0  0.0  0.0  0.0  0.0  0.0\n",
      "3     0.000000  0.0  0.0  0.0  0.000000  0.000000  ...  0.0  0.0  0.0  0.0  0.0  0.0\n",
      "4     0.000000  0.0  0.0  0.0  0.000000  0.000000  ...  0.0  0.0  0.0  0.0  0.0  0.0\n",
      "...        ...  ...  ...  ...       ...       ...  ...  ...  ...  ...  ...  ...  ...\n",
      "2065  0.000000  0.0  0.0  0.0  0.000000  0.446161  ...  0.0  0.0  0.0  0.0  0.0  0.0\n",
      "2066  0.000000  0.0  0.0  0.0  0.000000  0.000000  ...  0.0  0.0  0.0  0.0  0.0  0.0\n",
      "2067  0.000000  0.0  0.0  0.0  0.000000  0.000000  ...  0.0  0.0  0.0  0.0  0.0  0.0\n",
      "2068  0.772949  0.0  0.0  0.0  0.545354  0.000000  ...  0.0  0.0  0.0  0.0  0.0  0.0\n",
      "2069  0.000000  0.0  0.0  0.0  0.000000  0.000000  ...  0.0  0.0  0.0  0.0  0.0  0.0\n",
      "\n",
      "[2070 rows x 50 columns]\n"
     ]
    }
   ],
   "source": [
    "#Feature selection\n",
    "new_DF_TF_IDF = SelectKBest(score_func=chi2, k=50).fit_transform(DF_TF_IDF,y_train)\n",
    "print(new_DF_TF_IDF.shape)\n",
    "\n",
    "DF_TF_IDF_SelectedFeatures= pd.DataFrame(new_DF_TF_IDF)\n",
    "print(DF_TF_IDF_SelectedFeatures)\n",
    "\n",
    "export_csv= DF_TF_IDF_SelectedFeatures.to_csv(r'/gdrive/My Drive/CIS508-FALL2020/PT5A/TFIDF_counts-Selected Features.csv')\n"
   ]
  },
  {
   "cell_type": "code",
   "execution_count": 11,
   "metadata": {
    "colab": {
     "base_uri": "https://localhost:8080/",
     "height": 252
    },
    "executionInfo": {
     "elapsed": 645,
     "status": "ok",
     "timestamp": 1603344770442,
     "user": {
      "displayName": "Asim Roy",
      "photoUrl": "",
      "userId": "05146077416249051154"
     },
     "user_tz": 420
    },
    "id": "geVCLka8xxjf",
    "outputId": "1443c5e3-e5c3-4d68-973e-a8dc9892c85d"
   },
   "outputs": [
    {
     "name": "stdout",
     "output_type": "stream",
     "text": [
      "Accuracy score (training): 0.633333\n",
      "Confusion Matrix:\n",
      "[[  92  712]\n",
      " [  47 1219]]\n",
      "Classification Report\n",
      "              precision    recall  f1-score   support\n",
      "\n",
      "   Cancelled       0.66      0.11      0.20       804\n",
      "     Current       0.63      0.96      0.76      1266\n",
      "\n",
      "    accuracy                           0.63      2070\n",
      "   macro avg       0.65      0.54      0.48      2070\n",
      "weighted avg       0.64      0.63      0.54      2070\n",
      "\n"
     ]
    }
   ],
   "source": [
    "#Construct a Random Forest Classifier on text data\n",
    "clf=RandomForestClassifier()\n",
    "RF_text = clf.fit(DF_TF_IDF_SelectedFeatures,y_train)\n",
    "print(\"Accuracy score (training): {0:.6f}\".format(clf.score(DF_TF_IDF_SelectedFeatures, y_train)))\n",
    "rf_predictions = clf.predict(DF_TF_IDF_SelectedFeatures)\n",
    "print(\"Confusion Matrix:\")\n",
    "print(confusion_matrix(y_train, rf_predictions))\n",
    "print(\"Classification Report\")\n",
    "print(classification_report(y_train, rf_predictions))\n"
   ]
  },
  {
   "cell_type": "code",
   "execution_count": 12,
   "metadata": {
    "colab": {
     "base_uri": "https://localhost:8080/",
     "height": 202
    },
    "executionInfo": {
     "elapsed": 4481,
     "status": "ok",
     "timestamp": 1603344777706,
     "user": {
      "displayName": "Asim Roy",
      "photoUrl": "",
      "userId": "05146077416249051154"
     },
     "user_tz": 420
    },
    "id": "jqbfLq71jxit",
    "outputId": "00a4c19c-c3b4-4389-df58-0c98ee056c4a"
   },
   "outputs": [
    {
     "name": "stdout",
     "output_type": "stream",
     "text": [
      "=== All Accuracy Scores ===\n",
      "[0.53290747 0.52129307 0.52071235 0.52497096 0.509375   0.559375\n",
      " 0.54375    0.53125    0.509375   0.546875   0.54206349 0.52619048\n",
      " 0.48869048 0.525      0.50119048 0.48869048 0.525      0.53869048\n",
      " 0.48988095 0.50119048]\n",
      "\n",
      "\n",
      "=== Mean Accuracy Score ===\n",
      "Mean Accuracy Score - ON Text:  0.521323557878436\n",
      "\n",
      "\n"
     ]
    }
   ],
   "source": [
    "#run cross-validation - Text Data\n",
    "clf_cv_score = cross_val_score(clf, DF_TF_IDF_SelectedFeatures, y_train, cv=20, scoring=\"balanced_accuracy\")\n",
    "print(\"=== All Accuracy Scores ===\")\n",
    "print(clf_cv_score)\n",
    "print('\\n')\n",
    "print(\"=== Mean Accuracy Score ===\")\n",
    "print(\"Mean Accuracy Score - ON Text: \",clf_cv_score.mean())\n",
    "print('\\n')"
   ]
  },
  {
   "cell_type": "code",
   "execution_count": 13,
   "metadata": {
    "colab": {
     "base_uri": "https://localhost:8080/",
     "height": 302
    },
    "executionInfo": {
     "elapsed": 727,
     "status": "ok",
     "timestamp": 1603344781056,
     "user": {
      "displayName": "Asim Roy",
      "photoUrl": "",
      "userId": "05146077416249051154"
     },
     "user_tz": 420
    },
    "id": "Fq_7eeQOz7xk",
    "outputId": "114a01dd-de18-41f8-d1e7-8119d21ee24f"
   },
   "outputs": [
    {
     "name": "stdout",
     "output_type": "stream",
     "text": [
      "(2070, 17)\n",
      "(2070, 16)\n",
      "(2070, 66)\n",
      "        ID Sex Status  Children  Est_Income  ...   45   46   47   48   49\n",
      "0        1   F      S         1    38000.00  ...  0.0  0.0  0.0  0.0  0.0\n",
      "1        6   M      M         2    29616.00  ...  0.0  0.0  0.0  0.0  0.0\n",
      "2        8   M      M         0    19732.80  ...  0.0  0.0  0.0  0.0  0.0\n",
      "3       11   M      S         2       96.33  ...  0.0  0.0  0.0  0.0  0.0\n",
      "4       14   F      M         2    52004.80  ...  0.0  0.0  0.0  0.0  0.0\n",
      "...    ...  ..    ...       ...         ...  ...  ...  ...  ...  ...  ...\n",
      "2065  3821   F      S         0    78851.30  ...  0.0  0.0  0.0  0.0  0.0\n",
      "2066  3822   F      S         1    17540.70  ...  0.0  0.0  0.0  0.0  0.0\n",
      "2067  3823   F      M         0    83891.90  ...  0.0  0.0  0.0  0.0  0.0\n",
      "2068  3824   F      M         2    28220.80  ...  0.0  0.0  0.0  0.0  0.0\n",
      "2069  3825   F      S         0    28589.10  ...  0.0  0.0  0.0  0.0  0.0\n",
      "\n",
      "[2070 rows x 66 columns]\n"
     ]
    }
   ],
   "source": [
    "#Merge files\n",
    "print(CustInfoData.shape)\n",
    "X_train = CustInfoData.drop(columns=[\"TARGET\"]) #extracting training data without the target column\n",
    "print(X_train.shape)\n",
    "##combined=X_train.merge(DF_TF_IDF_SelectedFeatures, left_on='ID', right_on='ID')\n",
    "#combined=pd.merge(X_train, DF_TF_IDF_SelectedFeatures, how='left', on=['ID', 'ID'])\n",
    "#combined = pd.merge(X_train, DF_TF_IDF_SelectedFeatures, how='left',on = 'ID')\n",
    "#combined=pd.merge(X_train, DF_TF_IDF_SelectedFeatures, join ='inner', on='ID')\n",
    "\n",
    "combined=pd.concat([X_train, DF_TF_IDF_SelectedFeatures], axis=1)\n",
    "print(combined.shape)\n",
    "print(combined)\n",
    "export_csv= combined.to_csv(r'/gdrive/My Drive/CIS508-FALL2020/PT5A/Combined-Cust+TFIDF+SelectedFeatures.csv')\n",
    "\n"
   ]
  },
  {
   "cell_type": "code",
   "execution_count": 14,
   "metadata": {
    "colab": {
     "base_uri": "https://localhost:8080/",
     "height": 50
    },
    "executionInfo": {
     "elapsed": 568,
     "status": "ok",
     "timestamp": 1603344783934,
     "user": {
      "displayName": "Asim Roy",
      "photoUrl": "",
      "userId": "05146077416249051154"
     },
     "user_tz": 420
    },
    "id": "EPmJYiWrPkRG",
    "outputId": "1cac0c99-047b-4923-cf80-019a705cdaab"
   },
   "outputs": [
    {
     "name": "stdout",
     "output_type": "stream",
     "text": [
      "['Sex', 'Status', 'Car_Owner', 'Paymethod', 'LocalBilltype', 'LongDistanceBilltype']\n",
      "(2070, 74)\n"
     ]
    }
   ],
   "source": [
    "#Do one Hot encoding for categorical features\n",
    "X_cat = [\"Sex\",\"Status\",\"Car_Owner\",\"Paymethod\",\"LocalBilltype\",\"LongDistanceBilltype\"]\n",
    "#X_cat = combined.select_dtypes(exclude=['int','float64'])\n",
    "print(X_cat)\n",
    "combined_one_hot = pd.get_dummies(combined,columns=X_cat)\n",
    "print(combined_one_hot.shape)\n",
    "export_csv= combined_one_hot.to_csv(r'/gdrive/My Drive/CIS508-FALL2020/PT5A/combined_one_hot.csv')\n",
    "\n"
   ]
  },
  {
   "cell_type": "code",
   "execution_count": 15,
   "metadata": {
    "colab": {
     "base_uri": "https://localhost:8080/",
     "height": 252
    },
    "executionInfo": {
     "elapsed": 778,
     "status": "ok",
     "timestamp": 1603344787263,
     "user": {
      "displayName": "Asim Roy",
      "photoUrl": "",
      "userId": "05146077416249051154"
     },
     "user_tz": 420
    },
    "id": "DEMpFKQAVuV1",
    "outputId": "ef310002-a3b4-410d-caba-c5408c1df1a9"
   },
   "outputs": [
    {
     "name": "stdout",
     "output_type": "stream",
     "text": [
      "Accuracy score (training): 1.000000\n",
      "Confusion Matrix:\n",
      "[[ 804    0]\n",
      " [   0 1266]]\n",
      "Classification Report\n",
      "              precision    recall  f1-score   support\n",
      "\n",
      "   Cancelled       1.00      1.00      1.00       804\n",
      "     Current       1.00      1.00      1.00      1266\n",
      "\n",
      "    accuracy                           1.00      2070\n",
      "   macro avg       1.00      1.00      1.00      2070\n",
      "weighted avg       1.00      1.00      1.00      2070\n",
      "\n"
     ]
    }
   ],
   "source": [
    "#Construct a Random Forest Classifier on combined data\n",
    "#clf1=RandomForestClassifier()\n",
    "RF_Comb = clf.fit(combined_one_hot,y_train)\n",
    "print(\"Accuracy score (training): {0:.6f}\".format(clf.score(combined_one_hot, y_train)))\n",
    "rf_predictions = clf.predict(combined_one_hot)\n",
    "print(\"Confusion Matrix:\")\n",
    "print(confusion_matrix(y_train, rf_predictions))\n",
    "print(\"Classification Report\")\n",
    "print(classification_report(y_train, rf_predictions))\n",
    "\n"
   ]
  },
  {
   "cell_type": "code",
   "execution_count": 16,
   "metadata": {
    "colab": {
     "base_uri": "https://localhost:8080/",
     "height": 202
    },
    "executionInfo": {
     "elapsed": 6076,
     "status": "ok",
     "timestamp": 1603344797034,
     "user": {
      "displayName": "Asim Roy",
      "photoUrl": "",
      "userId": "05146077416249051154"
     },
     "user_tz": 420
    },
    "id": "3RDRxnDRkcxo",
    "outputId": "520d2ae6-61d9-44fa-8817-3226c9a7dbb2"
   },
   "outputs": [
    {
     "name": "stdout",
     "output_type": "stream",
     "text": [
      "=== All Accuracy Scores ===\n",
      "[0.81939605 0.85907859 0.84204413 0.91153697 0.865625   0.921875\n",
      " 0.83125    0.815625   0.8578125  0.8890625  0.87162698 0.89325397\n",
      " 0.94206349 0.8047619  0.89325397 0.81031746 0.93075397 0.93869048\n",
      " 0.87738095 0.91031746]\n",
      "\n",
      "\n",
      "=== Mean Accuracy Score ===\n",
      "Mean Accuracy Score - ON Text:  0.8742863192024778\n",
      "\n",
      "\n"
     ]
    }
   ],
   "source": [
    "#run cross-validation - COMBINED Data\n",
    "rf_Comb_cv_score = cross_val_score(RF_Comb, combined_one_hot, y_train, cv=20, scoring=\"balanced_accuracy\")\n",
    "print(\"=== All Accuracy Scores ===\")\n",
    "print(rf_Comb_cv_score)\n",
    "print('\\n')\n",
    "print(\"=== Mean Accuracy Score ===\")\n",
    "print(\"Mean Accuracy Score - ON Text: \",rf_Comb_cv_score.mean())\n",
    "print('\\n')"
   ]
  },
  {
   "cell_type": "code",
   "execution_count": 17,
   "metadata": {
    "colab": {
     "base_uri": "https://localhost:8080/",
     "height": 487
    },
    "executionInfo": {
     "elapsed": 332,
     "status": "ok",
     "timestamp": 1603344800459,
     "user": {
      "displayName": "Asim Roy",
      "photoUrl": "",
      "userId": "05146077416249051154"
     },
     "user_tz": 420
    },
    "id": "qf1MEHy8I1f6",
    "outputId": "6fabdd0b-5c55-4f20-9e65-624045f3b44b"
   },
   "outputs": [
    {
     "name": "stdout",
     "output_type": "stream",
     "text": [
      "(2070, 17)\n",
      "(2070, 9)\n",
      "   Children  Est_Income   Usage  ...  International   Local  Dropped\n",
      "0         1    38000.00  229.64  ...            0.0  206.08        0\n",
      "1         2    29616.00   75.29  ...            0.0   45.50        0\n",
      "2         0    19732.80   47.25  ...            0.0   22.44        0\n",
      "3         2       96.33   59.01  ...            0.0   32.88        1\n",
      "4         2    52004.80   28.14  ...            0.0   23.11        0\n",
      "\n",
      "[5 rows x 9 columns]\n",
      "(2070, 14)\n",
      "   Sex_F  ...  LongDistanceBilltype_Standard\n",
      "0      1  ...                              0\n",
      "1      0  ...                              1\n",
      "2      0  ...                              1\n",
      "3      0  ...                              1\n",
      "4      1  ...                              0\n",
      "\n",
      "[5 rows x 14 columns]\n",
      "(2070, 23)\n",
      "   Children  ...  LongDistanceBilltype_Standard\n",
      "0         1  ...                              0\n",
      "1         2  ...                              1\n",
      "2         0  ...                              1\n",
      "3         2  ...                              1\n",
      "4         2  ...                              0\n",
      "\n",
      "[5 rows x 23 columns]\n"
     ]
    }
   ],
   "source": [
    "#Construct a Random Forest Classifier WITHOUT text data\n",
    "print(CustInfoData.shape)\n",
    "X_train1=combined_one_hot.iloc[:,1:10]\n",
    "X_train2=combined_one_hot.iloc[:,60:]\n",
    "print(X_train1.shape)\n",
    "print(X_train1.head())\n",
    "print(X_train2.shape)\n",
    "print(X_train2.head())\n",
    "combined1=pd.concat([X_train1, X_train2], axis=1)\n",
    "print(combined1.shape)\n",
    "print(combined1.head())\n"
   ]
  },
  {
   "cell_type": "code",
   "execution_count": 18,
   "metadata": {
    "colab": {
     "base_uri": "https://localhost:8080/",
     "height": 252
    },
    "executionInfo": {
     "elapsed": 769,
     "status": "ok",
     "timestamp": 1603344808153,
     "user": {
      "displayName": "Asim Roy",
      "photoUrl": "",
      "userId": "05146077416249051154"
     },
     "user_tz": 420
    },
    "id": "UqwNFKiHLlbz",
    "outputId": "0c4b4fcb-7779-4952-b963-135117d7b03b"
   },
   "outputs": [
    {
     "name": "stdout",
     "output_type": "stream",
     "text": [
      "Accuracy score (training): 0.957488\n",
      "Confusion Matrix:\n",
      "[[ 765   39]\n",
      " [  49 1217]]\n",
      "Classification Report\n",
      "              precision    recall  f1-score   support\n",
      "\n",
      "   Cancelled       0.94      0.95      0.95       804\n",
      "     Current       0.97      0.96      0.97      1266\n",
      "\n",
      "    accuracy                           0.96      2070\n",
      "   macro avg       0.95      0.96      0.96      2070\n",
      "weighted avg       0.96      0.96      0.96      2070\n",
      "\n"
     ]
    }
   ],
   "source": [
    "#Construct a Random Forest Classifier WITHOUT text data\n",
    "\n",
    "rf_NT=clf.fit(combined1,y_train)\n",
    "print(\"Accuracy score (training): {0:.6f}\".format(rf_NT.score(combined1, y_train)))\n",
    "rf_predictions = rf_NT.predict(combined1)\n",
    "print(\"Confusion Matrix:\")\n",
    "print(confusion_matrix(y_train, rf_predictions))\n",
    "print(\"Classification Report\")\n",
    "print(classification_report(y_train, rf_predictions))\n"
   ]
  },
  {
   "cell_type": "code",
   "execution_count": 19,
   "metadata": {
    "colab": {
     "base_uri": "https://localhost:8080/",
     "height": 202
    },
    "executionInfo": {
     "elapsed": 5221,
     "status": "ok",
     "timestamp": 1603344820079,
     "user": {
      "displayName": "Asim Roy",
      "photoUrl": "",
      "userId": "05146077416249051154"
     },
     "user_tz": 420
    },
    "id": "1MWgcUkWh0cI",
    "outputId": "62349471-dbc9-4a0c-fba2-0d429d974103"
   },
   "outputs": [
    {
     "name": "stdout",
     "output_type": "stream",
     "text": [
      "=== All Accuracy Scores ===\n",
      "[0.84436702 0.87979094 0.87069299 0.91153697 0.878125   0.9015625\n",
      " 0.83125    0.803125   0.8796875  0.89375    0.92619048 0.90119048\n",
      " 0.93075397 0.82857143 0.91031746 0.79781746 0.91488095 0.93869048\n",
      " 0.87738095 0.91825397]\n",
      "\n",
      "\n",
      "=== Mean Accuracy Score ===\n",
      "Mean Accuracy Score - WITHOUT Text:  0.8818967770034843\n",
      "\n",
      "\n"
     ]
    }
   ],
   "source": [
    "#run cross-validation - WITHOUT Text Data\n",
    "rf_NT_cv_score = cross_val_score(rf_NT, combined1, y_train, cv=20, scoring=\"balanced_accuracy\")\n",
    "print(\"=== All Accuracy Scores ===\")\n",
    "print(rf_NT_cv_score)\n",
    "print('\\n')\n",
    "print(\"=== Mean Accuracy Score ===\")\n",
    "print(\"Mean Accuracy Score - WITHOUT Text: \",rf_NT_cv_score.mean())\n",
    "print('\\n')\n"
   ]
  },
  {
   "cell_type": "code",
   "execution_count": 20,
   "metadata": {
    "executionInfo": {
     "elapsed": 479,
     "status": "ok",
     "timestamp": 1603344824876,
     "user": {
      "displayName": "Asim Roy",
      "photoUrl": "",
      "userId": "05146077416249051154"
     },
     "user_tz": 420
    },
    "id": "Ry-uqdi6DZZm"
   },
   "outputs": [],
   "source": [
    "#Customer Info One-Hot Encoded\n",
    "DF_Combined1= pd.DataFrame(combined1)\n",
    "export_csv= DF_Combined1.to_csv(r'/gdrive/My Drive/CIS508-FALL2020/PT5A/CustInfo_Onehot_encoded.csv')"
   ]
  },
  {
   "cell_type": "code",
   "execution_count": 21,
   "metadata": {
    "colab": {
     "base_uri": "https://localhost:8080/",
     "height": 353
    },
    "executionInfo": {
     "elapsed": 473,
     "status": "ok",
     "timestamp": 1603344829623,
     "user": {
      "displayName": "Asim Roy",
      "photoUrl": "",
      "userId": "05146077416249051154"
     },
     "user_tz": 420
    },
    "id": "h7xNgybX8Khh",
    "outputId": "377eadc4-5007-4c3f-9ec6-d2cd3ab74c10"
   },
   "outputs": [
    {
     "name": "stdout",
     "output_type": "stream",
     "text": [
      "[0.13019219 0.14573791 0.05263397 0.13041509 0.0821037  0.09947122\n",
      " 0.04198099 0.07487738 0.00203612 0.03098145 0.0281816  0.00038269\n",
      " 0.00805136 0.07379821 0.00996289 0.00353483 0.04542684 0.00541686\n",
      " 0.01242187 0.00293277 0.00830286 0.00848848 0.00266871]\n",
      "[ True  True False  True  True  True False  True False False False False\n",
      " False  True False False False False False False False False False]\n",
      "        0         1          2    3      4       5    6\n",
      "0     1.0  38000.00  24.393333  3.0  23.56  206.08  1.0\n",
      "1     2.0  29616.00  49.426667  2.0  29.78   45.50  0.0\n",
      "2     0.0  19732.80  50.673333  3.0  24.81   22.44  0.0\n",
      "3     2.0     96.33  56.473333  1.0  26.13   32.88  1.0\n",
      "4     2.0  52004.80  25.140000  1.0   5.03   23.11  0.0\n",
      "...   ...       ...        ...  ...    ...     ...  ...\n",
      "2065  0.0  78851.30  48.373333  4.0   0.37   28.66  1.0\n",
      "2066  1.0  17540.70  62.786667  1.0  22.17   13.45  1.0\n",
      "2067  0.0  83891.90  61.020000  4.0  28.92   45.47  0.0\n",
      "2068  2.0  28220.80  38.766667  4.0  26.49   12.46  0.0\n",
      "2069  0.0  28589.10  15.600000  3.0  13.19   87.09  1.0\n",
      "\n",
      "[2070 rows x 7 columns]\n"
     ]
    }
   ],
   "source": [
    "#Do feature selection using a classification model\n",
    "#clf = ExtraTreesClassifier(n_estimators=50)\n",
    "#clf = GradientBoostingClassifier(n_estimators=50)\n",
    "clf = DecisionTreeClassifier()\n",
    "clf = clf.fit(DF_Combined1,y_train)\n",
    "print(clf.feature_importances_)\n",
    "#model = SelectFromModel(clf, prefit=True)\n",
    "model = SelectFromModel(clf, prefit=True, max_features=7, threshold=-np.inf)\n",
    "#model = SelectFromModel(clf, prefit=True)\n",
    "X_new = model.transform(DF_Combined1)\n",
    "X_new_SelectedFeatures= pd.DataFrame(X_new)\n",
    "export_csv= X_new_SelectedFeatures.to_csv(r'/gdrive/My Drive/CIS508-FALL2020/PT5A/X_new_SelectedFeatures.csv')\n",
    "\n",
    "print(model.get_support())\n",
    "print(X_new_SelectedFeatures)\n",
    "#print(X_new_SelectedFeatures.shape)\n",
    "#print(X_new_SelectedFeatures.head())\n"
   ]
  },
  {
   "cell_type": "code",
   "execution_count": 46,
   "metadata": {
    "colab": {
     "base_uri": "https://localhost:8080/",
     "height": 1000
    },
    "executionInfo": {
     "elapsed": 1420,
     "status": "ok",
     "timestamp": 1603345454695,
     "user": {
      "displayName": "Asim Roy",
      "photoUrl": "",
      "userId": "05146077416249051154"
     },
     "user_tz": 420
    },
    "id": "SMB33IG4yAgc",
    "outputId": "88bcd526-ce82-47bd-fc6f-34f7692b58fc"
   },
   "outputs": [
    {
     "name": "stderr",
     "output_type": "stream",
     "text": [
      "[Parallel(n_jobs=1)]: Using backend SequentialBackend with 1 concurrent workers.\n",
      "[Parallel(n_jobs=1)]: Done   1 out of   1 | elapsed:    0.0s remaining:    0.0s\n",
      "[Parallel(n_jobs=1)]: Done  23 out of  23 | elapsed:    0.1s finished\n",
      "\n",
      "[2020-10-22 05:44:13] Features: 1/7 -- score: 0.8985507246376812[Parallel(n_jobs=1)]: Using backend SequentialBackend with 1 concurrent workers.\n",
      "[Parallel(n_jobs=1)]: Done   1 out of   1 | elapsed:    0.0s remaining:    0.0s\n",
      "[Parallel(n_jobs=1)]: Done  22 out of  22 | elapsed:    0.1s finished\n",
      "\n",
      "[2020-10-22 05:44:13] Features: 2/7 -- score: 0.9338164251207729[Parallel(n_jobs=1)]: Using backend SequentialBackend with 1 concurrent workers.\n",
      "[Parallel(n_jobs=1)]: Done   1 out of   1 | elapsed:    0.0s remaining:    0.0s\n",
      "[Parallel(n_jobs=1)]: Done  21 out of  21 | elapsed:    0.2s finished\n",
      "\n",
      "[2020-10-22 05:44:14] Features: 3/7 -- score: 0.9502415458937198[Parallel(n_jobs=1)]: Using backend SequentialBackend with 1 concurrent workers.\n",
      "[Parallel(n_jobs=1)]: Done   1 out of   1 | elapsed:    0.0s remaining:    0.0s\n",
      "[Parallel(n_jobs=1)]: Done  20 out of  20 | elapsed:    0.2s finished\n",
      "\n",
      "[2020-10-22 05:44:14] Features: 4/7 -- score: 0.9541062801932367[Parallel(n_jobs=1)]: Using backend SequentialBackend with 1 concurrent workers.\n",
      "[Parallel(n_jobs=1)]: Done   1 out of   1 | elapsed:    0.0s remaining:    0.0s\n",
      "[Parallel(n_jobs=1)]: Done  19 out of  19 | elapsed:    0.2s finished\n",
      "\n",
      "[2020-10-22 05:44:14] Features: 5/7 -- score: 0.9565217391304348[Parallel(n_jobs=1)]: Using backend SequentialBackend with 1 concurrent workers.\n",
      "[Parallel(n_jobs=1)]: Done   1 out of   1 | elapsed:    0.0s remaining:    0.0s\n",
      "[Parallel(n_jobs=1)]: Done  18 out of  18 | elapsed:    0.2s finished\n",
      "\n",
      "[2020-10-22 05:44:14] Features: 6/7 -- score: 0.9570048309178744[Parallel(n_jobs=1)]: Using backend SequentialBackend with 1 concurrent workers.\n",
      "[Parallel(n_jobs=1)]: Done   1 out of   1 | elapsed:    0.0s remaining:    0.0s\n",
      "[Parallel(n_jobs=1)]: Done  17 out of  17 | elapsed:    0.2s finished\n",
      "\n",
      "[2020-10-22 05:44:14] Features: 7/7 -- score: 0.957487922705314"
     ]
    },
    {
     "data": {
      "text/plain": [
       "{1: {'avg_score': 0.8985507246376812,\n",
       "  'cv_scores': array([0.89855072]),\n",
       "  'feature_idx': (2,),\n",
       "  'feature_names': ('Usage',)},\n",
       " 2: {'avg_score': 0.9338164251207729,\n",
       "  'cv_scores': array([0.93381643]),\n",
       "  'feature_idx': (2, 4),\n",
       "  'feature_names': ('Usage', 'RatePlan')},\n",
       " 3: {'avg_score': 0.9502415458937198,\n",
       "  'cv_scores': array([0.95024155]),\n",
       "  'feature_idx': (2, 3, 4),\n",
       "  'feature_names': ('Usage', 'Age', 'RatePlan')},\n",
       " 4: {'avg_score': 0.9541062801932367,\n",
       "  'cv_scores': array([0.95410628]),\n",
       "  'feature_idx': (2, 3, 4, 5),\n",
       "  'feature_names': ('Usage', 'Age', 'RatePlan', 'LongDistance')},\n",
       " 5: {'avg_score': 0.9565217391304348,\n",
       "  'cv_scores': array([0.95652174]),\n",
       "  'feature_idx': (0, 2, 3, 4, 5),\n",
       "  'feature_names': ('Children', 'Usage', 'Age', 'RatePlan', 'LongDistance')},\n",
       " 6: {'avg_score': 0.9570048309178744,\n",
       "  'cv_scores': array([0.95700483]),\n",
       "  'feature_idx': (0, 1, 2, 3, 4, 5),\n",
       "  'feature_names': ('Children',\n",
       "   'Est_Income',\n",
       "   'Usage',\n",
       "   'Age',\n",
       "   'RatePlan',\n",
       "   'LongDistance')},\n",
       " 7: {'avg_score': 0.957487922705314,\n",
       "  'cv_scores': array([0.95748792]),\n",
       "  'feature_idx': (0, 1, 2, 3, 4, 5, 17),\n",
       "  'feature_names': ('Children',\n",
       "   'Est_Income',\n",
       "   'Usage',\n",
       "   'Age',\n",
       "   'RatePlan',\n",
       "   'LongDistance',\n",
       "   'Paymethod_CC')}}"
      ]
     },
     "execution_count": 46,
     "metadata": {
      "tags": []
     },
     "output_type": "execute_result"
    }
   ],
   "source": [
    "#Sequential Forward Search\n",
    "from mlxtend.feature_selection import SequentialFeatureSelector as SFS\n",
    "\n",
    "clf = DecisionTreeClassifier()\n",
    "\n",
    "sfs1 = SFS(clf, \n",
    "           k_features=7, \n",
    "           forward=True, \n",
    "           floating=False, \n",
    "           verbose=2,\n",
    "           scoring='accuracy',\n",
    "           cv=0)\n",
    "\n",
    "sfs1 = sfs1.fit(DF_Combined1,y_train)\n",
    "sfs1.subsets_\n"
   ]
  },
  {
   "cell_type": "code",
   "execution_count": 47,
   "metadata": {
    "colab": {
     "base_uri": "https://localhost:8080/",
     "height": 50
    },
    "executionInfo": {
     "elapsed": 305,
     "status": "ok",
     "timestamp": 1603345458534,
     "user": {
      "displayName": "Asim Roy",
      "photoUrl": "",
      "userId": "05146077416249051154"
     },
     "user_tz": 420
    },
    "id": "gsMRXOuv0Fi9",
    "outputId": "4900fa14-d67f-4f8c-90fa-e9e99cd77958"
   },
   "outputs": [
    {
     "name": "stdout",
     "output_type": "stream",
     "text": [
      "('Children', 'Est_Income', 'Usage', 'Age', 'RatePlan', 'LongDistance', 'Paymethod_CC')\n",
      "0.957487922705314\n"
     ]
    }
   ],
   "source": [
    "#Sequential forward search result\n",
    "print(sfs1.k_feature_names_)\n",
    "print(sfs1.k_score_)"
   ]
  }
 ],
 "metadata": {
  "accelerator": "GPU",
  "colab": {
   "collapsed_sections": [],
   "name": "Text_Mining.ipynb",
   "provenance": []
  },
  "kernelspec": {
   "display_name": "Python 3",
   "language": "python",
   "name": "python3"
  },
  "language_info": {
   "codemirror_mode": {
    "name": "ipython",
    "version": 3
   },
   "file_extension": ".py",
   "mimetype": "text/x-python",
   "name": "python",
   "nbconvert_exporter": "python",
   "pygments_lexer": "ipython3",
   "version": "3.8.3"
  }
 },
 "nbformat": 4,
 "nbformat_minor": 1
}
