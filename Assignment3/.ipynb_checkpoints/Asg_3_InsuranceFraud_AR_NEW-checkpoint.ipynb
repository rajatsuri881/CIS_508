{
 "cells": [
  {
   "cell_type": "code",
   "execution_count": null,
   "metadata": {
    "colab": {
     "base_uri": "https://localhost:8080/",
     "height": 235
    },
    "id": "QcwQ5hdHdllC",
    "outputId": "5d4ed860-b2b2-4511-aeff-5d9e95d33151"
   },
   "outputs": [
    {
     "name": "stdout",
     "output_type": "stream",
     "text": [
      "Collecting vecstack\n",
      "  Downloading https://files.pythonhosted.org/packages/d0/a1/b9a1e9e9e5a12078da1ab9788c7885e4c745358f7e57d5f94d9db6a4e898/vecstack-0.4.0.tar.gz\n",
      "Requirement already satisfied: numpy in /usr/local/lib/python3.6/dist-packages (from vecstack) (1.18.5)\n",
      "Requirement already satisfied: scipy in /usr/local/lib/python3.6/dist-packages (from vecstack) (1.4.1)\n",
      "Requirement already satisfied: scikit-learn>=0.18 in /usr/local/lib/python3.6/dist-packages (from vecstack) (0.22.2.post1)\n",
      "Requirement already satisfied: joblib>=0.11 in /usr/local/lib/python3.6/dist-packages (from scikit-learn>=0.18->vecstack) (0.16.0)\n",
      "Building wheels for collected packages: vecstack\n",
      "  Building wheel for vecstack (setup.py) ... \u001b[?25l\u001b[?25hdone\n",
      "  Created wheel for vecstack: filename=vecstack-0.4.0-cp36-none-any.whl size=19880 sha256=9f1ff3e436768a6b82fcfbac067f2390490fc987b3aa612be443cde5a75ff5e5\n",
      "  Stored in directory: /root/.cache/pip/wheels/5f/bb/4e/f6488433d53bc0684673d6845e5bf11a25240577c8151c140e\n",
      "Successfully built vecstack\n",
      "Installing collected packages: vecstack\n",
      "Successfully installed vecstack-0.4.0\n"
     ]
    }
   ],
   "source": [
    "!pip install vecstack"
   ]
  },
  {
   "cell_type": "code",
   "execution_count": null,
   "metadata": {
    "id": "eQqGDszCfMbu"
   },
   "outputs": [],
   "source": [
    "from vecstack import stacking\n",
    "import pandas as pd\n",
    "import numpy as np\n",
    "from sklearn.metrics import accuracy_score #works\n",
    "from sklearn.model_selection import train_test_split\n",
    "from sklearn.ensemble import RandomForestClassifier\n",
    "from sklearn.neural_network import MLPClassifier\n",
    "from sklearn.neighbors import KNeighborsClassifier\n",
    "from sklearn import svm\n",
    "from sklearn.tree import DecisionTreeClassifier\n",
    "from sklearn.model_selection import GridSearchCV\n",
    "from sklearn.model_selection import RandomizedSearchCV\n",
    "from sklearn.model_selection import cross_val_score\n",
    "from sklearn.metrics import classification_report, confusion_matrix\n",
    "from sklearn.ensemble import GradientBoostingClassifier\n",
    "from sklearn.neural_network import MLPClassifier\n",
    "#from sklearn.ensemble import RandomForestClassifier\n",
    "from imblearn.over_sampling import SMOTE \n",
    "from sklearn.svm import SVC\n",
    "from collections import Counter #for Smote, \n",
    "\n",
    "import warnings\n",
    "warnings.filterwarnings(\"ignore\")"
   ]
  },
  {
   "cell_type": "code",
   "execution_count": null,
   "metadata": {
    "colab": {
     "base_uri": "https://localhost:8080/",
     "height": 353
    },
    "id": "1vyZX66TfUTt",
    "outputId": "2b936529-9b7e-49de-fa5e-9a1943e83a01"
   },
   "outputs": [
    {
     "name": "stdout",
     "output_type": "stream",
     "text": [
      "Drive already mounted at /gdrive; to attempt to forcibly remount, call drive.mount(\"/gdrive\", force_remount=True).\n",
      "/gdrive\n",
      "(2999, 32)\n",
      "  MONTH  WEEKOFMONTH  DAYOFWEEK  ...  YEAR  BASEPOLICY FRAUDFOUND\n",
      "0   Jul            3     Sunday  ...  1994   Collision        Yes\n",
      "1   Nov            5     Monday  ...  1994  All_Perils        Yes\n",
      "2   Jan            1     Monday  ...  1994  All_Perils        Yes\n",
      "3   Dec            1     Monday  ...  1994  All_Perils        Yes\n",
      "4   Dec            5  Wednesday  ...  1994   Collision        Yes\n",
      "\n",
      "[5 rows x 32 columns]\n",
      "(12918, 32)\n",
      "  MONTH  WEEKOFMONTH  DAYOFWEEK  ...  YEAR  BASEPOLICY FRAUDFOUND\n",
      "0   Jul            3     Sunday  ...  1994   Collision        Yes\n",
      "1   Nov            5     Monday  ...  1994  All_Perils        Yes\n",
      "2   Jan            1     Monday  ...  1994  All_Perils        Yes\n",
      "3   Dec            1     Monday  ...  1994  All_Perils        Yes\n",
      "4   Dec            5  Wednesday  ...  1994   Collision        Yes\n",
      "\n",
      "[5 rows x 32 columns]\n"
     ]
    }
   ],
   "source": [
    "# To upload our datasets from our working directory we need to mount our drive contents to the colab environment. \n",
    "# For the code to do so you can search “mount” in code snippets or use the code given below. \n",
    "# Our entire drive contents are now mounted on colab at the location “/gdrive”.\n",
    "\n",
    "from google.colab import drive\n",
    "drive.mount('/gdrive')\n",
    "#Change current working directory to gdrive\n",
    "%cd /gdrive\n",
    "\n",
    "\n",
    "trainfile = r'/gdrive/My Drive/CIS508-FALL2020/PT3/IF_Train.csv'\n",
    "train_data = pd.read_csv(trainfile)\n",
    "\n",
    "testfile = r'/gdrive/My Drive/CIS508-FALL2020/PT3/IF_Test.csv'\n",
    "test_data = pd.read_csv(testfile)\n",
    "\n",
    "print(train_data.shape)\n",
    "print(train_data.head()) \n",
    "\n",
    "print(test_data.shape)\n",
    "print(test_data.head())"
   ]
  },
  {
   "cell_type": "code",
   "execution_count": null,
   "metadata": {
    "colab": {
     "base_uri": "https://localhost:8080/",
     "height": 286
    },
    "id": "OUBE7LTNfccW",
    "outputId": "5bfa6efc-463e-4e50-a0bf-8241a71ff66c"
   },
   "outputs": [
    {
     "name": "stdout",
     "output_type": "stream",
     "text": [
      "(2999, 146)\n",
      "   WEEKOFMONTH  WEEKOFMONTHCLAIMED  ...  BASEPOLICY_Collision  BASEPOLICY_Liability\n",
      "0            3                   4  ...                     1                     0\n",
      "1            5                   1  ...                     0                     0\n",
      "2            1                   1  ...                     0                     0\n",
      "3            1                   3  ...                     0                     0\n",
      "4            5                   1  ...                     1                     0\n",
      "\n",
      "[5 rows x 146 columns]\n",
      "(2999,)\n",
      "0    1\n",
      "1    1\n",
      "2    1\n",
      "3    1\n",
      "4    1\n",
      "Name: FRAUDFOUND, dtype: int64\n"
     ]
    }
   ],
   "source": [
    "categoricalFeatures = [\"MONTH\",\n",
    "\"DAYOFWEEK\",\n",
    "\"MAKE\",\n",
    "\"ACCIDENTAREA\",\n",
    "\"DAYOFWEEKCLAIMED\",\n",
    "\"MONTHCLAIMED\",\n",
    "\"SEX\",\n",
    "\"MARITALSTATUS\",\n",
    "\"FAULT\",\n",
    "\"POLICYTYPE\",\n",
    "\"VEHICLECATEGORY\",\n",
    "\"VEHICLEPRICE\",\n",
    "\"DAYS_POLICY_ACCIDENT\",\n",
    "\"DAYS_POLICY_CLAIM\",\n",
    "\"PASTNUMBEROFCLAIMS\",\n",
    "\"AGEOFVEHICLE\",\n",
    "\"AGEOFPOLICYHOLDER\",\n",
    "\"POLICEREPORTFILED\",\n",
    "\"WITNESSPRESENT\",\n",
    "\"AGENTTYPE\",\n",
    "\"NUMBEROFSUPPLIMENTS\",\n",
    "\"ADDRESSCHANGE_CLAIM\",\n",
    "\"NUMBEROFCARS\",\n",
    "\"YEAR\",\n",
    "\"BASEPOLICY\"]\n",
    "\n",
    "\n",
    "#Copy Train data excluding target\n",
    "trainData_Copy = train_data.iloc[:, :-1].copy()\n",
    "testData_Copy = test_data.iloc[:, :-1].copy()\n",
    "\n",
    "#Combine Train and test for one Hot Encoding\n",
    "combined_Data = pd.concat([trainData_Copy,testData_Copy], keys=[0,1])\n",
    "\n",
    "#Do one Hot encoding for categorical features\n",
    "combined_Data = pd.get_dummies(combined_Data,columns=categoricalFeatures)\n",
    "#print(combined_Data['FRAUDFOUND'])\n",
    "\n",
    "#Separate Train data and test data\n",
    "X_train = combined_Data.xs(0)\n",
    "X_test = combined_Data.xs(1)\n",
    "y_train=train_data[\"FRAUDFOUND\"]\n",
    "y_test=test_data[\"FRAUDFOUND\"]\n",
    "\n",
    "train_data[\"FRAUDFOUND\"]=train_data[\"FRAUDFOUND\"].map({\"Yes\":1,\"No\":0})\n",
    "test_data[\"FRAUDFOUND\"]=test_data[\"FRAUDFOUND\"].map({\"Yes\":1,\"No\":0})\n",
    "\n",
    "#Select just Target Column\n",
    "y_train = train_data.iloc[:, -1]\n",
    "y_test = test_data.iloc[:, -1]\n",
    "\n",
    "print(X_train.shape)\n",
    "print(X_test.head()) \n",
    "\n",
    "print(y_train.shape)\n",
    "print(y_test.head())"
   ]
  },
  {
   "cell_type": "code",
   "execution_count": null,
   "metadata": {
    "colab": {
     "base_uri": "https://localhost:8080/",
     "height": 84
    },
    "id": "ouSzZTRsfnqO",
    "outputId": "72140283-9fa9-4d66-fb8b-95ec9081f19e"
   },
   "outputs": [
    {
     "name": "stdout",
     "output_type": "stream",
     "text": [
      "accuracy Score (training) for Decision Tree:0.880709\n",
      "Confusion Matrix for Decision Tree\n",
      "[[10928  1492]\n",
      " [   49   449]]\n"
     ]
    }
   ],
   "source": [
    "#CONSTRUCT DEFAULT DECISION TREE AND OBTAIN RESPECTIVE ACCURACY ==================\n",
    "clf = DecisionTreeClassifier()\n",
    "clf.fit(X_train, y_train)\n",
    "clf_predict=clf.predict(X_test)\n",
    "print(\"accuracy Score (training) for Decision Tree:{0:6f}\".format(clf.score(X_test,y_test)))\n",
    "print(\"Confusion Matrix for Decision Tree\")\n",
    "print(confusion_matrix(y_test,clf_predict))"
   ]
  },
  {
   "cell_type": "code",
   "execution_count": null,
   "metadata": {
    "colab": {
     "base_uri": "https://localhost:8080/",
     "height": 386
    },
    "id": "feUn7ef5fy4s",
    "outputId": "b5067728-062a-4a99-8cff-e437a30bffcf"
   },
   "outputs": [
    {
     "name": "stdout",
     "output_type": "stream",
     "text": [
      "{'min_samples_split': 70, 'max_depth': 3}\n",
      "accuracy Score (training) after hypertuning for Decision Tree:0.851138\n",
      "Confusion Matrix after hypertuning for Decision Tree\n",
      "[[10802  1618]\n",
      " [  305   193]]\n",
      "=== Classification Report ===\n",
      "              precision    recall  f1-score   support\n",
      "\n",
      "           0       0.97      0.87      0.92     12420\n",
      "           1       0.11      0.39      0.17       498\n",
      "\n",
      "    accuracy                           0.85     12918\n",
      "   macro avg       0.54      0.63      0.54     12918\n",
      "weighted avg       0.94      0.85      0.89     12918\n",
      "\n",
      "=== All AUC Scores ===\n",
      "[0.89740385 0.9525     0.89557692 0.86769231 0.81740385 0.73254808\n",
      " 0.71913462 0.79019231 0.79144231 0.80394477]\n",
      "\n",
      "\n",
      "=== Mean AUC Score ===\n",
      "Mean AUC Score - Decision Tree:  0.8267839003944774\n"
     ]
    }
   ],
   "source": [
    "#Hyperparameter tuning done for decision tree classifier\n",
    "parameters={'min_samples_split' : range(10,100,10),'max_depth': range(1,20,2)}\n",
    "clf_random = RandomizedSearchCV(clf,parameters,n_iter=15)\n",
    "clf_random.fit(X_train, y_train)\n",
    "grid_parm=clf_random.best_params_\n",
    "print(grid_parm)\n",
    "\n",
    "#Using the parameters obtained from HyperParameterTuning in the DecisionTreeClassifier \n",
    "clf = DecisionTreeClassifier(**grid_parm)\n",
    "clf.fit(X_train,y_train)\n",
    "clf_predict = clf.predict(X_test)\n",
    "\n",
    "#Obtain accuracy ,confusion matrix,classification report and AUC values for the result above.\n",
    "print(\"accuracy Score (training) after hypertuning for Decision Tree:{0:6f}\".format(clf.score(X_test,y_test)))\n",
    "print(\"Confusion Matrix after hypertuning for Decision Tree\")\n",
    "print(confusion_matrix(y_test,clf_predict))\n",
    "print(\"=== Classification Report ===\")\n",
    "print(classification_report(y_test,clf_predict))\n",
    "\n",
    "#run cross-validation on best hyperparameters, get auc score\n",
    "clf_cv_score = cross_val_score(clf, X_train, y_train, cv=10, scoring=\"roc_auc\")\n",
    "print(\"=== All AUC Scores ===\")\n",
    "print(clf_cv_score)\n",
    "print('\\n')\n",
    "print(\"=== Mean AUC Score ===\")\n",
    "print(\"Mean AUC Score - Decision Tree: \",clf_cv_score.mean())"
   ]
  },
  {
   "cell_type": "code",
   "execution_count": null,
   "metadata": {
    "colab": {
     "base_uri": "https://localhost:8080/",
     "height": 84
    },
    "id": "cuhgy0RcseYE",
    "outputId": "33804bec-a7ce-43ea-a998-bdae63a5be2c"
   },
   "outputs": [
    {
     "name": "stdout",
     "output_type": "stream",
     "text": [
      "accuracy Score (training) for RandomForest:0.952392\n",
      "Confusion Matrix for Random Forest:\n",
      "[[11882   538]\n",
      " [   77   421]]\n"
     ]
    }
   ],
   "source": [
    "#Random Forest =============================================================\n",
    "#Default mode\n",
    "rfc = RandomForestClassifier()\n",
    "rfc.fit(X_train, y_train)\n",
    "rfc_predict=rfc.predict(X_test)\n",
    "print(\"accuracy Score (training) for RandomForest:{0:6f}\".format(rfc.score(X_test,y_test)))\n",
    "print(\"Confusion Matrix for Random Forest:\")\n",
    "print(confusion_matrix(y_test,rfc_predict))"
   ]
  },
  {
   "cell_type": "code",
   "execution_count": null,
   "metadata": {
    "colab": {
     "base_uri": "https://localhost:8080/",
     "height": 386
    },
    "id": "oEApT8zrg9rb",
    "outputId": "bf6fabb3-ed4c-46c3-a96d-f6b8cb45db1e"
   },
   "outputs": [
    {
     "name": "stdout",
     "output_type": "stream",
     "text": [
      "{'n_estimators': 110, 'min_samples_split': 30, 'max_depth': 15}\n",
      "accuracy Score (training) after hypertuning for Random Forest:0.940625\n",
      "Confusion Matrix after hypertuning for Random Forest:\n",
      "[[12020   400]\n",
      " [  367   131]]\n",
      "=== Classification Report ===\n",
      "              precision    recall  f1-score   support\n",
      "\n",
      "           0       0.97      0.97      0.97     12420\n",
      "           1       0.25      0.26      0.25       498\n",
      "\n",
      "    accuracy                           0.94     12918\n",
      "   macro avg       0.61      0.62      0.61     12918\n",
      "weighted avg       0.94      0.94      0.94     12918\n",
      "\n",
      "=== All AUC Scores ===\n",
      "[0.89711538 0.93490385 0.93105769 0.89759615 0.85442308 0.71740385\n",
      " 0.75038462 0.78096154 0.82346154 0.84033531]\n",
      "\n",
      "\n",
      "=== Mean AUC Score ===\n",
      "Mean AUC Score - Random Forest:  0.8427642998027614\n"
     ]
    }
   ],
   "source": [
    "#Hyperparameter tuning for random forest\n",
    "parameters={ 'n_estimators': range(50,150,20),'min_samples_split' : range(10,100,10),'max_depth': range(1,20,2)}\n",
    "rfc_random = RandomizedSearchCV(rfc,parameters,n_iter=15)\n",
    "rfc_random.fit(X_train, y_train)\n",
    "grid_parm_rfc=rfc_random.best_params_\n",
    "print(grid_parm_rfc)\n",
    "\n",
    "#contruct random forest using the best parameters\n",
    "rfc= RandomForestClassifier(**grid_parm_rfc)\n",
    "rfc.fit(X_train,y_train)\n",
    "rfc_predict = rfc.predict(X_test)\n",
    "print(\"accuracy Score (training) after hypertuning for Random Forest:{0:6f}\".format(rfc.score(X_test,y_test)))\n",
    "print(\"Confusion Matrix after hypertuning for Random Forest:\")\n",
    "print(confusion_matrix(y_test,rfc_predict))\n",
    "print(\"=== Classification Report ===\")\n",
    "print(classification_report(y_test,rfc_predict))\n",
    "\n",
    "#run cross-validation on best parameters, get auc score\n",
    "rfc_cv_score = cross_val_score(rfc, X_train, y_train, cv=10, scoring=\"roc_auc\")\n",
    "print(\"=== All AUC Scores ===\")\n",
    "print(rfc_cv_score)\n",
    "print('\\n')\n",
    "print(\"=== Mean AUC Score ===\")\n",
    "print(\"Mean AUC Score - Random Forest: \",rfc_cv_score.mean())"
   ]
  },
  {
   "cell_type": "code",
   "execution_count": null,
   "metadata": {
    "colab": {
     "base_uri": "https://localhost:8080/",
     "height": 101
    },
    "id": "91eLALAohcl0",
    "outputId": "cd332421-b17f-40da-9b4d-a969e9cc2e52"
   },
   "outputs": [
    {
     "name": "stdout",
     "output_type": "stream",
     "text": [
      "accuracy Score (training) for Boosting:0.909893\n",
      "Confusion Matrix for boosting:\n",
      "[[11549   871]\n",
      " [  293   205]]\n",
      "{'n_estimators': 30, 'learning_rate': 0.1}\n"
     ]
    }
   ],
   "source": [
    "#Gradient Boosting ============================================================\n",
    "search_grid={'n_estimators':[5,10,20, 30, 50],'learning_rate':[0.01,.1]}\n",
    "abc =GradientBoostingClassifier()\n",
    "abc.fit(X_train, y_train)\n",
    "abc_predict=abc.predict(X_test)\n",
    "print(\"accuracy Score (training) for Boosting:{0:6f}\".format(abc.score(X_test,y_test)))\n",
    "print(\"Confusion Matrix for boosting:\")\n",
    "print(confusion_matrix(y_test,abc_predict))\n",
    "\n",
    "#Randomized Search for hyperparameter tuning\n",
    "abc_random = RandomizedSearchCV(abc,search_grid,n_iter=15)\n",
    "abc_random.fit(X_train, y_train)\n",
    "grid_parm_abc=abc_random.best_params_\n",
    "print(grid_parm_abc)"
   ]
  },
  {
   "cell_type": "code",
   "execution_count": null,
   "metadata": {
    "colab": {
     "base_uri": "https://localhost:8080/",
     "height": 370
    },
    "id": "-Y4I06Ofht3T",
    "outputId": "234c39e3-a171-438f-e76f-91f184c4e200"
   },
   "outputs": [
    {
     "name": "stdout",
     "output_type": "stream",
     "text": [
      "accuracy Score (training) after hypertuning for Boosting:0.923440\n",
      "Confusion Matrix after hypertuning for Boosting:\n",
      "[[11783   637]\n",
      " [  352   146]]\n",
      "=== Classification Report ===\n",
      "              precision    recall  f1-score   support\n",
      "\n",
      "           0       0.97      0.95      0.96     12420\n",
      "           1       0.19      0.29      0.23       498\n",
      "\n",
      "    accuracy                           0.92     12918\n",
      "   macro avg       0.58      0.62      0.59     12918\n",
      "weighted avg       0.94      0.92      0.93     12918\n",
      "\n",
      "=== All AUC Scores ===\n",
      "[0.90846154 0.95918269 0.92048077 0.90894231 0.86725962 0.71033654\n",
      " 0.71663462 0.79721154 0.80668269 0.84679487]\n",
      "\n",
      "\n",
      "=== Mean AUC Score ===\n",
      "Mean AUC Score - Boosting:  0.844198717948718\n"
     ]
    }
   ],
   "source": [
    "#Construct Gradient Boosting Trees using the best parameters\n",
    "abc= GradientBoostingClassifier(**grid_parm_abc)\n",
    "abc.fit(X_train,y_train)\n",
    "abc_predict = abc.predict(X_test)\n",
    "print(\"accuracy Score (training) after hypertuning for Boosting:{0:6f}\".format(abc.score(X_test,y_test)))\n",
    "print(\"Confusion Matrix after hypertuning for Boosting:\")\n",
    "print(confusion_matrix(y_test,abc_predict))\n",
    "print(\"=== Classification Report ===\")\n",
    "print(classification_report(y_test,abc_predict))\n",
    "\n",
    "#run cross-validation on best parameters, get auc score\n",
    "abc_cv_score = cross_val_score(abc, X_train, y_train, cv=10, scoring=\"roc_auc\")\n",
    "print(\"=== All AUC Scores ===\")\n",
    "print(abc_cv_score)\n",
    "print('\\n')\n",
    "print(\"=== Mean AUC Score ===\")\n",
    "print(\"Mean AUC Score - Boosting: \",abc_cv_score.mean())\n"
   ]
  },
  {
   "cell_type": "code",
   "execution_count": null,
   "metadata": {
    "colab": {
     "base_uri": "https://localhost:8080/",
     "height": 84
    },
    "id": "Jgoy9R8DmE-q",
    "outputId": "ac411e23-1a02-4c12-8f73-d472f7b59306"
   },
   "outputs": [
    {
     "name": "stdout",
     "output_type": "stream",
     "text": [
      "accuracy Score (training) for Multilayer Perceptron:0.867394\n",
      "Confusion Matrix for Multilayer Perceptron:\n",
      "[[10989  1431]\n",
      " [  282   216]]\n"
     ]
    }
   ],
   "source": [
    "#Construct Multilayer Perceptron using the best parameters\n",
    "#Default mode\n",
    "mlp = MLPClassifier()\n",
    "mlp.fit(X_train, y_train)\n",
    "mlp_predict=mlp.predict(X_test)\n",
    "print(\"accuracy Score (training) for Multilayer Perceptron:{0:6f}\".format(mlp.score(X_test,y_test)))\n",
    "print(\"Confusion Matrix for Multilayer Perceptron:\")\n",
    "print(confusion_matrix(y_test,mlp_predict))"
   ]
  },
  {
   "cell_type": "code",
   "execution_count": null,
   "metadata": {
    "colab": {
     "base_uri": "https://localhost:8080/",
     "height": 84
    },
    "id": "cXD1cG8RpaEO",
    "outputId": "7d06987b-a25b-4942-f564-14f7b7832b1c"
   },
   "outputs": [
    {
     "name": "stdout",
     "output_type": "stream",
     "text": [
      "accuracy Score (training) for Support Vector Machines:0.961449\n",
      "Confusion Matrix for Support Vector Machines:\n",
      "[[12420     0]\n",
      " [  498     0]]\n"
     ]
    }
   ],
   "source": [
    "#Construct Support Vector Machines using the best parameters\n",
    "#Default mode\n",
    "svc = svm.SVC()\n",
    "svc.fit(X_train, y_train)\n",
    "svc_predict=svc.predict(X_test)\n",
    "print(\"accuracy Score (training) for Support Vector Machines:{0:6f}\".format(svc.score(X_test,y_test)))\n",
    "print(\"Confusion Matrix for Support Vector Machines:\")\n",
    "print(confusion_matrix(y_test,svc_predict))"
   ]
  },
  {
   "cell_type": "code",
   "execution_count": null,
   "metadata": {
    "colab": {
     "base_uri": "https://localhost:8080/",
     "height": 101
    },
    "id": "w9pdjPGfh2_T",
    "outputId": "43c7d0c3-7372-4809-ddfa-6001c9bcf2a8"
   },
   "outputs": [
    {
     "name": "stdout",
     "output_type": "stream",
     "text": [
      "___________________________________________________________________\n",
      "SMOTE\n",
      "\n",
      "Original dataset shape Counter({0: 2600, 1: 399})\n",
      "Resampled dataset shape Counter({0: 2600, 1: 1300})\n"
     ]
    }
   ],
   "source": [
    "#SMOTE==============================================================================\n",
    "print(\"___________________________________________________________________\\nSMOTE\\n\")\n",
    "print('Original dataset shape %s' % Counter(y_train))\n",
    "sm = SMOTE(sampling_strategy='float', ratio=0.5)\n",
    "X_res, y_res = sm.fit_resample(X_train, y_train)\n",
    "print('Resampled dataset shape %s' % Counter(y_res))"
   ]
  },
  {
   "cell_type": "code",
   "execution_count": null,
   "metadata": {
    "colab": {
     "base_uri": "https://localhost:8080/",
     "height": 622
    },
    "id": "nW12HH9qh9rQ",
    "outputId": "f1f1856e-680f-4a9d-c8e5-89db2385700a"
   },
   "outputs": [
    {
     "name": "stdout",
     "output_type": "stream",
     "text": [
      "___________________________________________________________________________________________\n",
      "Ensemble Methods Predictions using GradientBoosting, RandomForest and Decision Tree Classifier\n",
      "\n",
      "task:         [classification]\n",
      "n_classes:    [2]\n",
      "metric:       [accuracy_score]\n",
      "mode:         [oof_pred_bag]\n",
      "n_models:     [3]\n",
      "\n",
      "model  0:     [GradientBoostingClassifier]\n",
      "    fold  0:  [0.91384615]\n",
      "    fold  1:  [0.92000000]\n",
      "    fold  2:  [0.90564103]\n",
      "    fold  3:  [0.90256410]\n",
      "    ----\n",
      "    MEAN:     [0.91051282] + [0.00685628]\n",
      "    FULL:     [0.91051282]\n",
      "\n",
      "model  1:     [RandomForestClassifier]\n",
      "    fold  0:  [0.92410256]\n",
      "    fold  1:  [0.92102564]\n",
      "    fold  2:  [0.91487179]\n",
      "    fold  3:  [0.91384615]\n",
      "    ----\n",
      "    MEAN:     [0.91846154] + [0.00425981]\n",
      "    FULL:     [0.91846154]\n",
      "\n",
      "model  2:     [DecisionTreeClassifier]\n",
      "    fold  0:  [0.88205128]\n",
      "    fold  1:  [0.88410256]\n",
      "    fold  2:  [0.87692308]\n",
      "    fold  3:  [0.87179487]\n",
      "    ----\n",
      "    MEAN:     [0.87871795] + [0.00477639]\n",
      "    FULL:     [0.87871795]\n",
      "\n"
     ]
    }
   ],
   "source": [
    "#STACKING MODELS =====================================================================\n",
    "print(\"___________________________________________________________________________________________\\nEnsemble Methods Predictions using GradientBoosting, RandomForest and Decision Tree Classifier\\n\")\n",
    "\n",
    "models = [ GradientBoostingClassifier(), RandomForestClassifier(), DecisionTreeClassifier() ]\n",
    "      \n",
    "S_Train, S_Test = stacking(models,                   \n",
    "                           X_res, y_res, X_test,   \n",
    "                           regression=False, \n",
    "     \n",
    "                           mode='oof_pred_bag', \n",
    "       \n",
    "                           needs_proba=False,\n",
    "         \n",
    "                           save_dir=None, \n",
    "            \n",
    "                           metric=accuracy_score, \n",
    "    \n",
    "                           n_folds=4, \n",
    "                 \n",
    "                           stratified=True,\n",
    "            \n",
    "                           shuffle=True,  \n",
    "            \n",
    "                           random_state=0,    \n",
    "         \n",
    "                           verbose=2)"
   ]
  },
  {
   "cell_type": "code",
   "execution_count": null,
   "metadata": {
    "colab": {
     "base_uri": "https://localhost:8080/",
     "height": 252
    },
    "id": "-kGCHGTaiGTb",
    "outputId": "ff1d940a-fd75-412a-d4cb-b56416c13f75"
   },
   "outputs": [
    {
     "name": "stdout",
     "output_type": "stream",
     "text": [
      "Final prediction score for ensemble methods: [0.92963307]\n",
      "Confusion Matrix after STACKING for Boosting:\n",
      "[[11578   842]\n",
      " [   67   431]]\n",
      "=== Classification Report ===\n",
      "              precision    recall  f1-score   support\n",
      "\n",
      "           0       0.99      0.93      0.96     12420\n",
      "           1       0.34      0.87      0.49       498\n",
      "\n",
      "    accuracy                           0.93     12918\n",
      "   macro avg       0.67      0.90      0.72     12918\n",
      "weighted avg       0.97      0.93      0.94     12918\n",
      "\n"
     ]
    }
   ],
   "source": [
    "#STACKING - CONTRUCT A GRADIENT BOOSTING MODEL==============================\n",
    "model = GradientBoostingClassifier()\n",
    "    \n",
    "model = model.fit(S_Train, y_res)\n",
    "y_pred = model.predict(S_Test)\n",
    "print('Final prediction score for ensemble methods: [%.8f]' % accuracy_score(y_test, y_pred))\n",
    "print(\"Confusion Matrix after STACKING for Boosting:\")\n",
    "print(confusion_matrix(y_test,y_pred))\n",
    "print(\"=== Classification Report ===\")\n",
    "print(classification_report(y_test,y_pred))"
   ]
  },
  {
   "cell_type": "code",
   "execution_count": null,
   "metadata": {
    "colab": {
     "base_uri": "https://localhost:8080/",
     "height": 195
    },
    "id": "CKg4i4YTiPqi",
    "outputId": "34be345b-0edd-4cbc-f1f5-df49f22efca0"
   },
   "outputs": [
    {
     "data": {
      "text/html": [
       "<div>\n",
       "<style scoped>\n",
       "    .dataframe tbody tr th:only-of-type {\n",
       "        vertical-align: middle;\n",
       "    }\n",
       "\n",
       "    .dataframe tbody tr th {\n",
       "        vertical-align: top;\n",
       "    }\n",
       "\n",
       "    .dataframe thead th {\n",
       "        text-align: right;\n",
       "    }\n",
       "</style>\n",
       "<table border=\"1\" class=\"dataframe\">\n",
       "  <thead>\n",
       "    <tr style=\"text-align: right;\">\n",
       "      <th></th>\n",
       "      <th>0</th>\n",
       "      <th>1</th>\n",
       "    </tr>\n",
       "  </thead>\n",
       "  <tbody>\n",
       "    <tr>\n",
       "      <th>0</th>\n",
       "      <td>0.032855</td>\n",
       "      <td>0.967145</td>\n",
       "    </tr>\n",
       "    <tr>\n",
       "      <th>1</th>\n",
       "      <td>0.032855</td>\n",
       "      <td>0.967145</td>\n",
       "    </tr>\n",
       "    <tr>\n",
       "      <th>2</th>\n",
       "      <td>0.032855</td>\n",
       "      <td>0.967145</td>\n",
       "    </tr>\n",
       "    <tr>\n",
       "      <th>3</th>\n",
       "      <td>0.032855</td>\n",
       "      <td>0.967145</td>\n",
       "    </tr>\n",
       "    <tr>\n",
       "      <th>4</th>\n",
       "      <td>0.032855</td>\n",
       "      <td>0.967145</td>\n",
       "    </tr>\n",
       "  </tbody>\n",
       "</table>\n",
       "</div>"
      ],
      "text/plain": [
       "          0         1\n",
       "0  0.032855  0.967145\n",
       "1  0.032855  0.967145\n",
       "2  0.032855  0.967145\n",
       "3  0.032855  0.967145\n",
       "4  0.032855  0.967145"
      ]
     },
     "execution_count": 18,
     "metadata": {
      "tags": []
     },
     "output_type": "execute_result"
    }
   ],
   "source": [
    "#Get Prediction Probability for the predicted class as a dataframe\n",
    "pred_Probability =pd.DataFrame(model.predict_proba(S_Test))\n",
    "\n",
    "pred_Probability.head()"
   ]
  },
  {
   "cell_type": "code",
   "execution_count": null,
   "metadata": {
    "id": "Q39c55RUiWq5"
   },
   "outputs": [],
   "source": []
  }
 ],
 "metadata": {
  "colab": {
   "collapsed_sections": [],
   "name": "Asg_3_InsuranceFraud_AR-NEW.ipynb",
   "provenance": []
  },
  "kernelspec": {
   "display_name": "Python 3",
   "language": "python",
   "name": "python3"
  },
  "language_info": {
   "codemirror_mode": {
    "name": "ipython",
    "version": 3
   },
   "file_extension": ".py",
   "mimetype": "text/x-python",
   "name": "python",
   "nbconvert_exporter": "python",
   "pygments_lexer": "ipython3",
   "version": "3.8.3"
  }
 },
 "nbformat": 4,
 "nbformat_minor": 1
}
