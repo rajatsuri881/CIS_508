{
 "cells": [
  {
   "cell_type": "code",
   "execution_count": 1,
   "metadata": {},
   "outputs": [],
   "source": [
    "import os"
   ]
  },
  {
   "cell_type": "code",
   "execution_count": 2,
   "metadata": {},
   "outputs": [
    {
     "data": {
      "text/plain": [
       "'/Users/rajatsuri/Desktop'"
      ]
     },
     "execution_count": 2,
     "metadata": {},
     "output_type": "execute_result"
    }
   ],
   "source": [
    "os.getcwd()"
   ]
  },
  {
   "cell_type": "code",
   "execution_count": 3,
   "metadata": {},
   "outputs": [],
   "source": [
    "os.chdir('/Users/rajatsuri/Desktop/Padhai/CIS 508/assig 3')"
   ]
  },
  {
   "cell_type": "code",
   "execution_count": 4,
   "metadata": {},
   "outputs": [
    {
     "data": {
      "text/plain": [
       "'/Users/rajatsuri/Desktop/Padhai/CIS 508/assig 3'"
      ]
     },
     "execution_count": 4,
     "metadata": {},
     "output_type": "execute_result"
    }
   ],
   "source": [
    "os.getcwd()"
   ]
  },
  {
   "cell_type": "code",
   "execution_count": 5,
   "metadata": {},
   "outputs": [],
   "source": [
    "from vecstack import stacking\n",
    "import pandas as pd\n",
    "import numpy as np\n",
    "from sklearn.metrics import accuracy_score #works\n",
    "from sklearn.model_selection import train_test_split\n",
    "from sklearn.ensemble import RandomForestClassifier\n",
    "from sklearn.neural_network import MLPClassifier\n",
    "from sklearn.neighbors import KNeighborsClassifier\n",
    "from sklearn import svm\n",
    "from sklearn.tree import DecisionTreeClassifier\n",
    "from sklearn.model_selection import GridSearchCV\n",
    "from sklearn.model_selection import RandomizedSearchCV\n",
    "from sklearn.model_selection import cross_val_score\n",
    "from sklearn.metrics import classification_report, confusion_matrix\n",
    "from sklearn.ensemble import GradientBoostingClassifier\n",
    "from sklearn.neural_network import MLPClassifier\n",
    "#from sklearn.ensemble import RandomForestClassifier\n",
    "from imblearn.over_sampling import SMOTE \n",
    "from sklearn.svm import SVC\n",
    "from collections import Counter #for Smote, \n",
    "\n",
    "import warnings\n",
    "warnings.filterwarnings(\"ignore\")"
   ]
  },
  {
   "cell_type": "code",
   "execution_count": 6,
   "metadata": {},
   "outputs": [],
   "source": [
    "train_data = pd.read_csv('RevisedHomesiteTrain.csv') #Preparing the train data"
   ]
  },
  {
   "cell_type": "code",
   "execution_count": 7,
   "metadata": {},
   "outputs": [],
   "source": [
    "test_data = pd.read_csv('RevisedHomesiteTest.csv') #Preparing the test data"
   ]
  },
  {
   "cell_type": "code",
   "execution_count": 8,
   "metadata": {},
   "outputs": [
    {
     "name": "stdout",
     "output_type": "stream",
     "text": [
      "(65000, 596)\n",
      "   CoverageField11A  CoverageField11B  CoverageField1A  CoverageField1B  \\\n",
      "0                 2                 1               17               23   \n",
      "1                 5                 9                6                8   \n",
      "2                 4                 6                7               12   \n",
      "3                15                23                3                2   \n",
      "4                 4                 6                8               13   \n",
      "\n",
      "   CoverageField2A  CoverageField2B  CoverageField3A  CoverageField3B  \\\n",
      "0               17               23               15               22   \n",
      "1                6                8                5                7   \n",
      "2                7               12                6               10   \n",
      "3                3                2                2                2   \n",
      "4                8               13                7               11   \n",
      "\n",
      "   CoverageField4A  CoverageField4B  ...  PropertyField38_N  \\\n",
      "0               16               22  ...                  1   \n",
      "1                5                8  ...                  1   \n",
      "2                7               11  ...                  1   \n",
      "3                3                2  ...                  1   \n",
      "4                7               13  ...                  1   \n",
      "\n",
      "   PropertyField38_Y  GeographicField63_   GeographicField63_N  \\\n",
      "0                  0                    0                    1   \n",
      "1                  0                    0                    1   \n",
      "2                  0                    0                    1   \n",
      "3                  0                    0                    1   \n",
      "4                  0                    0                    1   \n",
      "\n",
      "   GeographicField63_Y  GeographicField64_CA  GeographicField64_IL  \\\n",
      "0                    0                     1                     0   \n",
      "1                    0                     0                     0   \n",
      "2                    0                     0                     0   \n",
      "3                    0                     0                     0   \n",
      "4                    0                     0                     1   \n",
      "\n",
      "   GeographicField64_NJ  GeographicField64_TX  QuoteConversion_Flag  \n",
      "0                     0                     0                     0  \n",
      "1                     1                     0                     0  \n",
      "2                     1                     0                     0  \n",
      "3                     0                     1                     0  \n",
      "4                     0                     0                     0  \n",
      "\n",
      "[5 rows x 596 columns]\n"
     ]
    }
   ],
   "source": [
    "print(train_data.shape)\n",
    "print(train_data.head()) \n"
   ]
  },
  {
   "cell_type": "code",
   "execution_count": 9,
   "metadata": {},
   "outputs": [
    {
     "name": "stdout",
     "output_type": "stream",
     "text": [
      "(173836, 595)\n",
      "   CoverageField11A  CoverageField11B  CoverageField1A  CoverageField1B  \\\n",
      "0                13                22                4                4   \n",
      "1                 4                 5                8               14   \n",
      "2                 3                 3               11               18   \n",
      "3                 5                 9               14               22   \n",
      "4                12                21                4                5   \n",
      "\n",
      "   CoverageField2A  CoverageField2B  CoverageField3A  CoverageField3B  \\\n",
      "0                4                4                3                3   \n",
      "1                8               14                7               12   \n",
      "2               11               18               10               16   \n",
      "3               15               22               13               20   \n",
      "4                4                5                4                4   \n",
      "\n",
      "   CoverageField4A  CoverageField4B  ...  PropertyField37_Y  \\\n",
      "0                3                4  ...                  1   \n",
      "1                8               13  ...                  0   \n",
      "2               10               18  ...                  0   \n",
      "3               22               25  ...                  0   \n",
      "4                4                5  ...                  0   \n",
      "\n",
      "   PropertyField38_N  PropertyField38_Y  GeographicField63_   \\\n",
      "0                  1                  0                    0   \n",
      "1                  1                  0                    0   \n",
      "2                  1                  0                    0   \n",
      "3                  1                  0                    0   \n",
      "4                  1                  0                    0   \n",
      "\n",
      "   GeographicField63_N  GeographicField63_Y  GeographicField64_CA  \\\n",
      "0                    0                    1                     0   \n",
      "1                    1                    0                     0   \n",
      "2                    1                    0                     0   \n",
      "3                    1                    0                     0   \n",
      "4                    1                    0                     0   \n",
      "\n",
      "   GeographicField64_IL  GeographicField64_NJ  GeographicField64_TX  \n",
      "0                     0                     0                     0  \n",
      "1                     0                     0                     0  \n",
      "2                     0                     0                     0  \n",
      "3                     0                     0                     0  \n",
      "4                     0                     0                     0  \n",
      "\n",
      "[5 rows x 595 columns]\n"
     ]
    }
   ],
   "source": [
    "print(test_data.shape)\n",
    "print(test_data.head())"
   ]
  },
  {
   "cell_type": "code",
   "execution_count": 10,
   "metadata": {},
   "outputs": [],
   "source": [
    "X_train = train_data.iloc[:, :-1].copy() #seperating the target column\n",
    "Y_train = train_data[\"QuoteConversion_Flag\"] #target_column"
   ]
  },
  {
   "cell_type": "code",
   "execution_count": 11,
   "metadata": {},
   "outputs": [
    {
     "name": "stdout",
     "output_type": "stream",
     "text": [
      "(65000, 595)\n",
      "   CoverageField11A  CoverageField11B  CoverageField1A  CoverageField1B  \\\n",
      "0                 2                 1               17               23   \n",
      "1                 5                 9                6                8   \n",
      "2                 4                 6                7               12   \n",
      "3                15                23                3                2   \n",
      "4                 4                 6                8               13   \n",
      "\n",
      "   CoverageField2A  CoverageField2B  CoverageField3A  CoverageField3B  \\\n",
      "0               17               23               15               22   \n",
      "1                6                8                5                7   \n",
      "2                7               12                6               10   \n",
      "3                3                2                2                2   \n",
      "4                8               13                7               11   \n",
      "\n",
      "   CoverageField4A  CoverageField4B  ...  PropertyField37_Y  \\\n",
      "0               16               22  ...                  0   \n",
      "1                5                8  ...                  0   \n",
      "2                7               11  ...                  0   \n",
      "3                3                2  ...                  1   \n",
      "4                7               13  ...                  0   \n",
      "\n",
      "   PropertyField38_N  PropertyField38_Y  GeographicField63_   \\\n",
      "0                  1                  0                    0   \n",
      "1                  1                  0                    0   \n",
      "2                  1                  0                    0   \n",
      "3                  1                  0                    0   \n",
      "4                  1                  0                    0   \n",
      "\n",
      "   GeographicField63_N  GeographicField63_Y  GeographicField64_CA  \\\n",
      "0                    1                    0                     1   \n",
      "1                    1                    0                     0   \n",
      "2                    1                    0                     0   \n",
      "3                    1                    0                     0   \n",
      "4                    1                    0                     0   \n",
      "\n",
      "   GeographicField64_IL  GeographicField64_NJ  GeographicField64_TX  \n",
      "0                     0                     0                     0  \n",
      "1                     0                     1                     0  \n",
      "2                     0                     1                     0  \n",
      "3                     0                     0                     1  \n",
      "4                     1                     0                     0  \n",
      "\n",
      "[5 rows x 595 columns]\n"
     ]
    }
   ],
   "source": [
    "print(X_train.shape)\n",
    "print(X_train.head())"
   ]
  },
  {
   "cell_type": "code",
   "execution_count": 12,
   "metadata": {},
   "outputs": [
    {
     "name": "stdout",
     "output_type": "stream",
     "text": [
      "(65000,)\n",
      "0    0\n",
      "1    0\n",
      "2    0\n",
      "3    0\n",
      "4    0\n",
      "Name: QuoteConversion_Flag, dtype: int64\n"
     ]
    }
   ],
   "source": [
    "print(Y_train.shape)\n",
    "print(Y_train.head())"
   ]
  },
  {
   "cell_type": "code",
   "execution_count": 13,
   "metadata": {},
   "outputs": [],
   "source": [
    "#Decision_Tree_Default_Mode\n",
    "clf = DecisionTreeClassifier()\n",
    "clf.fit(X_train, Y_train)\n",
    "clf_predict=clf.predict(test_data)\n"
   ]
  },
  {
   "cell_type": "code",
   "execution_count": 14,
   "metadata": {},
   "outputs": [],
   "source": [
    "#Random_Forest_Default_Mode\n",
    "rfc = RandomForestClassifier()\n",
    "rfc.fit(X_train, Y_train)\n",
    "rfc_predict=rfc.predict(test_data)\n"
   ]
  },
  {
   "cell_type": "code",
   "execution_count": 15,
   "metadata": {},
   "outputs": [],
   "source": [
    "#Multilayer_Perceptron_Default_Mode\n",
    "mlp = MLPClassifier()\n",
    "mlp.fit(X_train, Y_train)\n",
    "mlp_predict=mlp.predict(test_data)\n"
   ]
  },
  {
   "cell_type": "code",
   "execution_count": 16,
   "metadata": {},
   "outputs": [],
   "source": [
    "#Linear_Support_Vector_Machines_Default_mode\n",
    "svc = svm.LinearSVC()\n",
    "svc.fit(X_train, Y_train)\n",
    "svc_predict=svc.predict(test_data)\n"
   ]
  },
  {
   "cell_type": "code",
   "execution_count": 17,
   "metadata": {},
   "outputs": [],
   "source": [
    "# Contruct K-NN Defult Mode\n",
    "from sklearn.neighbors import KNeighborsClassifier\n",
    "knn = KNeighborsClassifier(n_neighbors=5)\n",
    "knn.fit(X_train, Y_train)\n",
    "knn_predict = knn.predict(test_data)"
   ]
  },
  {
   "cell_type": "code",
   "execution_count": 20,
   "metadata": {},
   "outputs": [
    {
     "name": "stdout",
     "output_type": "stream",
     "text": [
      "___________________________________________________________________\n",
      "SMOTE\n",
      "\n",
      "Original dataset shape Counter({0: 52738, 1: 12262})\n",
      "Resampled dataset shape Counter({0: 52738, 1: 52738})\n"
     ]
    }
   ],
   "source": [
    "#SMOTE\n",
    "print(\"___________________________________________________________________\\nSMOTE\\n\")\n",
    "print('Original dataset shape %s' % Counter(Y_train))\n",
    "sm = SMOTE()\n",
    "X_res, y_res = sm.fit_resample(X_train, Y_train)\n",
    "print('Resampled dataset shape %s' % Counter(y_res))"
   ]
  },
  {
   "cell_type": "code",
   "execution_count": 24,
   "metadata": {},
   "outputs": [],
   "source": [
    "#STACKING MODELS\n",
    "models = [ DecisionTreeClassifier(), RandomForestClassifier(), MLPClassifier(), svm.LinearSVC(),KNeighborsClassifier()] "
   ]
  },
  {
   "cell_type": "code",
   "execution_count": 26,
   "metadata": {},
   "outputs": [
    {
     "name": "stdout",
     "output_type": "stream",
     "text": [
      "task:         [classification]\n",
      "n_classes:    [2]\n",
      "metric:       [accuracy_score]\n",
      "mode:         [oof_pred_bag]\n",
      "n_models:     [5]\n",
      "\n",
      "model  0:     [DecisionTreeClassifier]\n",
      "    fold  0:  [0.92157458]\n",
      "    fold  1:  [0.92127119]\n",
      "    fold  2:  [0.92047480]\n",
      "    fold  3:  [0.92161250]\n",
      "    ----\n",
      "    MEAN:     [0.92123327] + [0.00045744]\n",
      "    FULL:     [0.92123327]\n",
      "\n",
      "model  1:     [RandomForestClassifier]\n",
      "    fold  0:  [0.94034662]\n",
      "    fold  1:  [0.93833668]\n",
      "    fold  2:  [0.94027077]\n",
      "    fold  3:  [0.94121886]\n",
      "    ----\n",
      "    MEAN:     [0.94004323] + [0.00105335]\n",
      "    FULL:     [0.94004323]\n",
      "\n",
      "model  2:     [MLPClassifier]\n",
      "    fold  0:  [0.67351815]\n",
      "    fold  1:  [0.85725663]\n",
      "    fold  2:  [0.91330729]\n",
      "    fold  3:  [0.90299215]\n",
      "    ----\n",
      "    MEAN:     [0.83676855] + [0.09658442]\n",
      "    FULL:     [0.83676855]\n",
      "\n",
      "model  3:     [LinearSVC]\n",
      "    fold  0:  [0.57324889]\n",
      "    fold  1:  [0.66119307]\n",
      "    fold  2:  [0.60753157]\n",
      "    fold  3:  [0.56729493]\n",
      "    ----\n",
      "    MEAN:     [0.60231711] + [0.03729974]\n",
      "    FULL:     [0.60231711]\n",
      "\n",
      "model  4:     [KNeighborsClassifier]\n",
      "    fold  0:  [0.72634533]\n",
      "    fold  1:  [0.72490424]\n",
      "    fold  2:  [0.72475255]\n",
      "    fold  3:  [0.72046722]\n",
      "    ----\n",
      "    MEAN:     [0.72411733] + [0.00219716]\n",
      "    FULL:     [0.72411733]\n",
      "\n"
     ]
    }
   ],
   "source": [
    "S_Train, S_Test = stacking(models,                   \n",
    "                           X_res, y_res, X_test,   \n",
    "                           regression=False, \n",
    "     \n",
    "                           mode='oof_pred_bag', \n",
    "       \n",
    "                           needs_proba=False,\n",
    "         \n",
    "                           save_dir=None, \n",
    "            \n",
    "                           metric=accuracy_score, \n",
    "    \n",
    "                           n_folds=4, \n",
    "                 \n",
    "                           stratified=True,\n",
    "            \n",
    "                           shuffle=True,  \n",
    "            \n",
    "                           random_state=0,    \n",
    "         \n",
    "                           verbose=2)"
   ]
  },
  {
   "cell_type": "code",
   "execution_count": 27,
   "metadata": {},
   "outputs": [],
   "source": [
    "#STACKING - CONTRUCT A GRADIENT BOOSTING MODEL\n",
    "model = GradientBoostingClassifier()\n",
    "    \n",
    "model = model.fit(S_Train, y_res)\n",
    "y_pred = model.predict(S_Test)\n"
   ]
  },
  {
   "cell_type": "code",
   "execution_count": 76,
   "metadata": {},
   "outputs": [],
   "source": [
    "Y_Pred= pd.DataFrame(data=y_pred)"
   ]
  },
  {
   "cell_type": "code",
   "execution_count": 77,
   "metadata": {},
   "outputs": [],
   "source": [
    "test_data['QuoteConversion_Flag']= Y_Pred"
   ]
  },
  {
   "cell_type": "code",
   "execution_count": 78,
   "metadata": {},
   "outputs": [],
   "source": [
    "Final_Data=test_data[['QuoteNumber','QuoteConversion_Flag']]"
   ]
  },
  {
   "cell_type": "code",
   "execution_count": 79,
   "metadata": {},
   "outputs": [],
   "source": [
    "Final_Data.to_csv('Final_Data.csv',index=False)"
   ]
  },
  {
   "cell_type": "code",
   "execution_count": null,
   "metadata": {},
   "outputs": [],
   "source": []
  }
 ],
 "metadata": {
  "kernelspec": {
   "display_name": "Python 3",
   "language": "python",
   "name": "python3"
  },
  "language_info": {
   "codemirror_mode": {
    "name": "ipython",
    "version": 3
   },
   "file_extension": ".py",
   "mimetype": "text/x-python",
   "name": "python",
   "nbconvert_exporter": "python",
   "pygments_lexer": "ipython3",
   "version": "3.8.3"
  }
 },
 "nbformat": 4,
 "nbformat_minor": 4
}
