{
 "cells": [
  {
   "cell_type": "code",
   "execution_count": 87,
   "metadata": {},
   "outputs": [],
   "source": [
    "import os\n",
    "import pandas as pd\n",
    "import numpy as np\n",
    "\n",
    "\n",
    "\n",
    "from sklearn.ensemble import ExtraTreesClassifier\n",
    "from sklearn.feature_selection import SelectFromModel\n",
    "import matplotlib.pyplot as plt\n",
    "from matplotlib.ticker import StrMethodFormatter\n",
    "\n",
    "\n",
    "# Import libraries for feature \n",
    "from sklearn.feature_selection import SelectKBest\n",
    "from sklearn.feature_selection import chi2\n",
    "from mlxtend.feature_selection import SequentialFeatureSelector as sfs\n",
    "\n",
    "\n",
    "from sklearn.ensemble import GradientBoostingClassifier\n",
    "from sklearn.tree import DecisionTreeClassifier\n",
    "from sklearn.ensemble import RandomForestClassifier\n",
    "from sklearn.neural_network import MLPClassifier\n",
    "from sklearn.svm import SVC\n",
    "from sklearn.model_selection import RandomizedSearchCV\n",
    "from sklearn.metrics import confusion_matrix,classification_report,plot_confusion_matrix\n",
    "from sklearn import metrics\n",
    "from sklearn.metrics import accuracy_score, roc_auc_score, f1_score, precision_score, recall_score\n",
    "from sklearn.model_selection import cross_val_score\n",
    "from sklearn.model_selection import train_test_split\n",
    "from sklearn.metrics import accuracy_score\n",
    "from vecstack import stacking\n",
    "from collections import Counter\n",
    "\n",
    "import warnings\n",
    "warnings.filterwarnings(\"ignore\")\n"
   ]
  },
  {
   "cell_type": "code",
   "execution_count": 88,
   "metadata": {},
   "outputs": [
    {
     "data": {
      "text/plain": [
       "'/Users/rajatsuri/Desktop/Padhai/CIS 508/Assignment 6'"
      ]
     },
     "execution_count": 88,
     "metadata": {},
     "output_type": "execute_result"
    }
   ],
   "source": [
    "os.getcwd()"
   ]
  },
  {
   "cell_type": "code",
   "execution_count": 89,
   "metadata": {},
   "outputs": [],
   "source": [
    "#creates a dataframe\n",
    "Test = pd.read_csv('Churn-Test-2.csv') \n",
    "Train =  pd.read_csv('Churn-Train-2.csv') "
   ]
  },
  {
   "cell_type": "code",
   "execution_count": 90,
   "metadata": {},
   "outputs": [
    {
     "name": "stdout",
     "output_type": "stream",
     "text": [
      "(1261, 20)\n"
     ]
    }
   ],
   "source": [
    "print(Test.shape)"
   ]
  },
  {
   "cell_type": "code",
   "execution_count": 91,
   "metadata": {},
   "outputs": [
    {
     "name": "stdout",
     "output_type": "stream",
     "text": [
      "(1165, 20)\n"
     ]
    }
   ],
   "source": [
    "print(Train.shape)"
   ]
  },
  {
   "cell_type": "code",
   "execution_count": 92,
   "metadata": {},
   "outputs": [
    {
     "data": {
      "text/html": [
       "<div>\n",
       "<style scoped>\n",
       "    .dataframe tbody tr th:only-of-type {\n",
       "        vertical-align: middle;\n",
       "    }\n",
       "\n",
       "    .dataframe tbody tr th {\n",
       "        vertical-align: top;\n",
       "    }\n",
       "\n",
       "    .dataframe thead th {\n",
       "        text-align: right;\n",
       "    }\n",
       "</style>\n",
       "<table border=\"1\" class=\"dataframe\">\n",
       "  <thead>\n",
       "    <tr style=\"text-align: right;\">\n",
       "      <th></th>\n",
       "      <th>State</th>\n",
       "      <th>Account Length</th>\n",
       "      <th>Area Code</th>\n",
       "      <th>Int'l Plan</th>\n",
       "      <th>VMail Plan</th>\n",
       "      <th>VMail Message</th>\n",
       "      <th>Day Mins</th>\n",
       "      <th>Day Calls</th>\n",
       "      <th>Day Charge</th>\n",
       "      <th>Eve Mins</th>\n",
       "      <th>Eve Calls</th>\n",
       "      <th>Eve Charge</th>\n",
       "      <th>Night Mins</th>\n",
       "      <th>Night Calls</th>\n",
       "      <th>Night Charge</th>\n",
       "      <th>Intl Mins</th>\n",
       "      <th>Intl Calls</th>\n",
       "      <th>Intl Charge</th>\n",
       "      <th>CustServ Calls</th>\n",
       "      <th>TARGET</th>\n",
       "    </tr>\n",
       "  </thead>\n",
       "  <tbody>\n",
       "    <tr>\n",
       "      <th>0</th>\n",
       "      <td>KS</td>\n",
       "      <td>128</td>\n",
       "      <td>415</td>\n",
       "      <td>no</td>\n",
       "      <td>yes</td>\n",
       "      <td>25</td>\n",
       "      <td>265.1</td>\n",
       "      <td>110</td>\n",
       "      <td>45.07</td>\n",
       "      <td>197.4</td>\n",
       "      <td>99</td>\n",
       "      <td>16.78</td>\n",
       "      <td>244.7</td>\n",
       "      <td>91</td>\n",
       "      <td>11.01</td>\n",
       "      <td>10.0</td>\n",
       "      <td>3</td>\n",
       "      <td>2.70</td>\n",
       "      <td>1</td>\n",
       "      <td>0</td>\n",
       "    </tr>\n",
       "    <tr>\n",
       "      <th>1</th>\n",
       "      <td>OH</td>\n",
       "      <td>107</td>\n",
       "      <td>415</td>\n",
       "      <td>no</td>\n",
       "      <td>yes</td>\n",
       "      <td>26</td>\n",
       "      <td>161.6</td>\n",
       "      <td>123</td>\n",
       "      <td>27.47</td>\n",
       "      <td>195.5</td>\n",
       "      <td>103</td>\n",
       "      <td>16.62</td>\n",
       "      <td>254.4</td>\n",
       "      <td>103</td>\n",
       "      <td>11.45</td>\n",
       "      <td>13.7</td>\n",
       "      <td>3</td>\n",
       "      <td>3.70</td>\n",
       "      <td>1</td>\n",
       "      <td>0</td>\n",
       "    </tr>\n",
       "    <tr>\n",
       "      <th>2</th>\n",
       "      <td>NJ</td>\n",
       "      <td>137</td>\n",
       "      <td>415</td>\n",
       "      <td>no</td>\n",
       "      <td>no</td>\n",
       "      <td>0</td>\n",
       "      <td>243.4</td>\n",
       "      <td>114</td>\n",
       "      <td>41.38</td>\n",
       "      <td>121.2</td>\n",
       "      <td>110</td>\n",
       "      <td>10.30</td>\n",
       "      <td>162.6</td>\n",
       "      <td>104</td>\n",
       "      <td>7.32</td>\n",
       "      <td>12.2</td>\n",
       "      <td>5</td>\n",
       "      <td>3.29</td>\n",
       "      <td>0</td>\n",
       "      <td>0</td>\n",
       "    </tr>\n",
       "    <tr>\n",
       "      <th>3</th>\n",
       "      <td>OH</td>\n",
       "      <td>84</td>\n",
       "      <td>408</td>\n",
       "      <td>yes</td>\n",
       "      <td>no</td>\n",
       "      <td>0</td>\n",
       "      <td>299.4</td>\n",
       "      <td>71</td>\n",
       "      <td>50.90</td>\n",
       "      <td>61.9</td>\n",
       "      <td>88</td>\n",
       "      <td>5.26</td>\n",
       "      <td>196.9</td>\n",
       "      <td>89</td>\n",
       "      <td>8.86</td>\n",
       "      <td>6.6</td>\n",
       "      <td>7</td>\n",
       "      <td>1.78</td>\n",
       "      <td>2</td>\n",
       "      <td>0</td>\n",
       "    </tr>\n",
       "    <tr>\n",
       "      <th>4</th>\n",
       "      <td>OK</td>\n",
       "      <td>75</td>\n",
       "      <td>415</td>\n",
       "      <td>yes</td>\n",
       "      <td>no</td>\n",
       "      <td>0</td>\n",
       "      <td>166.7</td>\n",
       "      <td>113</td>\n",
       "      <td>28.34</td>\n",
       "      <td>148.3</td>\n",
       "      <td>122</td>\n",
       "      <td>12.61</td>\n",
       "      <td>186.9</td>\n",
       "      <td>121</td>\n",
       "      <td>8.41</td>\n",
       "      <td>10.1</td>\n",
       "      <td>3</td>\n",
       "      <td>2.73</td>\n",
       "      <td>3</td>\n",
       "      <td>0</td>\n",
       "    </tr>\n",
       "  </tbody>\n",
       "</table>\n",
       "</div>"
      ],
      "text/plain": [
       "  State  Account Length  Area Code Int'l Plan VMail Plan  VMail Message  \\\n",
       "0    KS             128        415         no        yes             25   \n",
       "1    OH             107        415         no        yes             26   \n",
       "2    NJ             137        415         no         no              0   \n",
       "3    OH              84        408        yes         no              0   \n",
       "4    OK              75        415        yes         no              0   \n",
       "\n",
       "   Day Mins  Day Calls  Day Charge  Eve Mins  Eve Calls  Eve Charge  \\\n",
       "0     265.1        110       45.07     197.4         99       16.78   \n",
       "1     161.6        123       27.47     195.5        103       16.62   \n",
       "2     243.4        114       41.38     121.2        110       10.30   \n",
       "3     299.4         71       50.90      61.9         88        5.26   \n",
       "4     166.7        113       28.34     148.3        122       12.61   \n",
       "\n",
       "   Night Mins  Night Calls  Night Charge  Intl Mins  Intl Calls  Intl Charge  \\\n",
       "0       244.7           91         11.01       10.0           3         2.70   \n",
       "1       254.4          103         11.45       13.7           3         3.70   \n",
       "2       162.6          104          7.32       12.2           5         3.29   \n",
       "3       196.9           89          8.86        6.6           7         1.78   \n",
       "4       186.9          121          8.41       10.1           3         2.73   \n",
       "\n",
       "   CustServ Calls  TARGET  \n",
       "0               1       0  \n",
       "1               1       0  \n",
       "2               0       0  \n",
       "3               2       0  \n",
       "4               3       0  "
      ]
     },
     "execution_count": 92,
     "metadata": {},
     "output_type": "execute_result"
    }
   ],
   "source": [
    "Train.head()"
   ]
  },
  {
   "cell_type": "code",
   "execution_count": 93,
   "metadata": {},
   "outputs": [
    {
     "data": {
      "text/html": [
       "<div>\n",
       "<style scoped>\n",
       "    .dataframe tbody tr th:only-of-type {\n",
       "        vertical-align: middle;\n",
       "    }\n",
       "\n",
       "    .dataframe tbody tr th {\n",
       "        vertical-align: top;\n",
       "    }\n",
       "\n",
       "    .dataframe thead th {\n",
       "        text-align: right;\n",
       "    }\n",
       "</style>\n",
       "<table border=\"1\" class=\"dataframe\">\n",
       "  <thead>\n",
       "    <tr style=\"text-align: right;\">\n",
       "      <th></th>\n",
       "      <th>State</th>\n",
       "      <th>Account Length</th>\n",
       "      <th>Area Code</th>\n",
       "      <th>Int'l Plan</th>\n",
       "      <th>VMail Plan</th>\n",
       "      <th>VMail Message</th>\n",
       "      <th>Day Mins</th>\n",
       "      <th>Day Calls</th>\n",
       "      <th>Day Charge</th>\n",
       "      <th>Eve Mins</th>\n",
       "      <th>Eve Calls</th>\n",
       "      <th>Eve Charge</th>\n",
       "      <th>Night Mins</th>\n",
       "      <th>Night Calls</th>\n",
       "      <th>Night Charge</th>\n",
       "      <th>Intl Mins</th>\n",
       "      <th>Intl Calls</th>\n",
       "      <th>Intl Charge</th>\n",
       "      <th>CustServ Calls</th>\n",
       "      <th>TARGET</th>\n",
       "    </tr>\n",
       "  </thead>\n",
       "  <tbody>\n",
       "    <tr>\n",
       "      <th>0</th>\n",
       "      <td>VT</td>\n",
       "      <td>50</td>\n",
       "      <td>415</td>\n",
       "      <td>yes</td>\n",
       "      <td>yes</td>\n",
       "      <td>26</td>\n",
       "      <td>307.1</td>\n",
       "      <td>94</td>\n",
       "      <td>52.21</td>\n",
       "      <td>289.4</td>\n",
       "      <td>78</td>\n",
       "      <td>24.60</td>\n",
       "      <td>174.9</td>\n",
       "      <td>109</td>\n",
       "      <td>7.87</td>\n",
       "      <td>8.0</td>\n",
       "      <td>3</td>\n",
       "      <td>2.16</td>\n",
       "      <td>0</td>\n",
       "      <td>0</td>\n",
       "    </tr>\n",
       "    <tr>\n",
       "      <th>1</th>\n",
       "      <td>UT</td>\n",
       "      <td>72</td>\n",
       "      <td>415</td>\n",
       "      <td>no</td>\n",
       "      <td>no</td>\n",
       "      <td>0</td>\n",
       "      <td>118.2</td>\n",
       "      <td>106</td>\n",
       "      <td>20.09</td>\n",
       "      <td>167.2</td>\n",
       "      <td>136</td>\n",
       "      <td>14.21</td>\n",
       "      <td>214.2</td>\n",
       "      <td>106</td>\n",
       "      <td>9.64</td>\n",
       "      <td>12.2</td>\n",
       "      <td>3</td>\n",
       "      <td>3.29</td>\n",
       "      <td>3</td>\n",
       "      <td>0</td>\n",
       "    </tr>\n",
       "    <tr>\n",
       "      <th>2</th>\n",
       "      <td>KS</td>\n",
       "      <td>130</td>\n",
       "      <td>510</td>\n",
       "      <td>no</td>\n",
       "      <td>no</td>\n",
       "      <td>0</td>\n",
       "      <td>154.0</td>\n",
       "      <td>95</td>\n",
       "      <td>26.18</td>\n",
       "      <td>205.9</td>\n",
       "      <td>106</td>\n",
       "      <td>17.50</td>\n",
       "      <td>233.7</td>\n",
       "      <td>75</td>\n",
       "      <td>10.52</td>\n",
       "      <td>12.9</td>\n",
       "      <td>1</td>\n",
       "      <td>3.48</td>\n",
       "      <td>1</td>\n",
       "      <td>0</td>\n",
       "    </tr>\n",
       "    <tr>\n",
       "      <th>3</th>\n",
       "      <td>NV</td>\n",
       "      <td>143</td>\n",
       "      <td>408</td>\n",
       "      <td>no</td>\n",
       "      <td>no</td>\n",
       "      <td>0</td>\n",
       "      <td>155.5</td>\n",
       "      <td>101</td>\n",
       "      <td>26.44</td>\n",
       "      <td>213.4</td>\n",
       "      <td>89</td>\n",
       "      <td>18.14</td>\n",
       "      <td>237.9</td>\n",
       "      <td>61</td>\n",
       "      <td>10.71</td>\n",
       "      <td>7.6</td>\n",
       "      <td>11</td>\n",
       "      <td>2.05</td>\n",
       "      <td>1</td>\n",
       "      <td>0</td>\n",
       "    </tr>\n",
       "    <tr>\n",
       "      <th>4</th>\n",
       "      <td>DE</td>\n",
       "      <td>89</td>\n",
       "      <td>510</td>\n",
       "      <td>yes</td>\n",
       "      <td>no</td>\n",
       "      <td>0</td>\n",
       "      <td>125.6</td>\n",
       "      <td>108</td>\n",
       "      <td>21.35</td>\n",
       "      <td>213.0</td>\n",
       "      <td>90</td>\n",
       "      <td>18.11</td>\n",
       "      <td>181.7</td>\n",
       "      <td>108</td>\n",
       "      <td>8.18</td>\n",
       "      <td>5.4</td>\n",
       "      <td>5</td>\n",
       "      <td>1.46</td>\n",
       "      <td>1</td>\n",
       "      <td>0</td>\n",
       "    </tr>\n",
       "  </tbody>\n",
       "</table>\n",
       "</div>"
      ],
      "text/plain": [
       "  State  Account Length  Area Code Int'l Plan VMail Plan  VMail Message  \\\n",
       "0    VT              50        415        yes        yes             26   \n",
       "1    UT              72        415         no         no              0   \n",
       "2    KS             130        510         no         no              0   \n",
       "3    NV             143        408         no         no              0   \n",
       "4    DE              89        510        yes         no              0   \n",
       "\n",
       "   Day Mins  Day Calls  Day Charge  Eve Mins  Eve Calls  Eve Charge  \\\n",
       "0     307.1         94       52.21     289.4         78       24.60   \n",
       "1     118.2        106       20.09     167.2        136       14.21   \n",
       "2     154.0         95       26.18     205.9        106       17.50   \n",
       "3     155.5        101       26.44     213.4         89       18.14   \n",
       "4     125.6        108       21.35     213.0         90       18.11   \n",
       "\n",
       "   Night Mins  Night Calls  Night Charge  Intl Mins  Intl Calls  Intl Charge  \\\n",
       "0       174.9          109          7.87        8.0           3         2.16   \n",
       "1       214.2          106          9.64       12.2           3         3.29   \n",
       "2       233.7           75         10.52       12.9           1         3.48   \n",
       "3       237.9           61         10.71        7.6          11         2.05   \n",
       "4       181.7          108          8.18        5.4           5         1.46   \n",
       "\n",
       "   CustServ Calls  TARGET  \n",
       "0               0       0  \n",
       "1               3       0  \n",
       "2               1       0  \n",
       "3               1       0  \n",
       "4               1       0  "
      ]
     },
     "execution_count": 93,
     "metadata": {},
     "output_type": "execute_result"
    }
   ],
   "source": [
    "Test.head()"
   ]
  },
  {
   "cell_type": "code",
   "execution_count": 94,
   "metadata": {},
   "outputs": [
    {
     "data": {
      "text/plain": [
       "State              object\n",
       "Account Length      int64\n",
       "Area Code           int64\n",
       "Int'l Plan         object\n",
       "VMail Plan         object\n",
       "VMail Message       int64\n",
       "Day Mins          float64\n",
       "Day Calls           int64\n",
       "Day Charge        float64\n",
       "Eve Mins          float64\n",
       "Eve Calls           int64\n",
       "Eve Charge        float64\n",
       "Night Mins        float64\n",
       "Night Calls         int64\n",
       "Night Charge      float64\n",
       "Intl Mins         float64\n",
       "Intl Calls          int64\n",
       "Intl Charge       float64\n",
       "CustServ Calls      int64\n",
       "TARGET              int64\n",
       "dtype: object"
      ]
     },
     "execution_count": 94,
     "metadata": {},
     "output_type": "execute_result"
    }
   ],
   "source": [
    "Train.dtypes"
   ]
  },
  {
   "cell_type": "code",
   "execution_count": 95,
   "metadata": {},
   "outputs": [],
   "source": [
    "#extracting training data without the target column\n",
    "y_train = Train[\"TARGET\"]\n",
    "X_train = Train.drop(columns=[\"TARGET\"])\n",
    "y_test = Test[\"TARGET\"]\n",
    "X_test = Test.drop(columns=[\"TARGET\"])"
   ]
  },
  {
   "cell_type": "code",
   "execution_count": 96,
   "metadata": {},
   "outputs": [
    {
     "name": "stdout",
     "output_type": "stream",
     "text": [
      "['State', \"Int'l Plan\", 'VMail Plan']\n",
      "(1165, 68)\n",
      "(1261, 68)\n"
     ]
    }
   ],
   "source": [
    "#Do one Hot encoding for categorical features\n",
    "X_cat = [\"State\",\"Int'l Plan\",\"VMail Plan\"]\n",
    "\n",
    "print(X_cat)\n",
    "X_train = pd.get_dummies(X_train,columns=X_cat,drop_first=True)\n",
    "X_test = pd.get_dummies(X_test,columns=X_cat,drop_first=True)\n",
    "print(X_train.shape)\n",
    "print(X_test.shape)\n",
    "export_csv= X_train.to_csv('/Users/rajatsuri/Desktop/Padhai/CIS 508/Assignment 6/X_train.csv')\n",
    "export_csv= X_test.to_csv('/Users/rajatsuri/Desktop/Padhai/CIS 508/Assignment 6/X_test.csv')\n"
   ]
  },
  {
   "cell_type": "code",
   "execution_count": 97,
   "metadata": {},
   "outputs": [
    {
     "data": {
      "text/plain": [
       "<matplotlib.axes._subplots.AxesSubplot at 0x7f9f4d1f8310>"
      ]
     },
     "execution_count": 97,
     "metadata": {},
     "output_type": "execute_result"
    },
    {
     "data": {
      "image/png": "[encoded data removed]",
      "text/plain": [
       "<Figure size 432x288 with 1 Axes>"
      ]
     },
     "metadata": {
      "needs_background": "light"
     },
     "output_type": "display_data"
    }
   ],
   "source": [
    "y_train.hist()"
   ]
  },
  {
   "cell_type": "code",
   "execution_count": 98,
   "metadata": {},
   "outputs": [
    {
     "data": {
      "text/plain": [
       "<matplotlib.axes._subplots.AxesSubplot at 0x7f9f4e41cb20>"
      ]
     },
     "execution_count": 98,
     "metadata": {},
     "output_type": "execute_result"
    },
    {
     "data": {
      "image/png": "[encoded data removed]",
      "text/plain": [
       "<Figure size 432x288 with 1 Axes>"
      ]
     },
     "metadata": {
      "needs_background": "light"
     },
     "output_type": "display_data"
    }
   ],
   "source": [
    "y_test.hist()"
   ]
  },
  {
   "cell_type": "code",
   "execution_count": 99,
   "metadata": {},
   "outputs": [
    {
     "name": "stdout",
     "output_type": "stream",
     "text": [
      "Train Accuracy: 1.0\n",
      "Test Accuracy: 0.9111816019032514\n",
      "Confusion Matrix for Decision Tree:\n",
      "[[1029   40]\n",
      " [  72  120]]\n",
      "Classification Report\n",
      "              precision    recall  f1-score   support\n",
      "\n",
      "           0       0.93      0.96      0.95      1069\n",
      "           1       0.75      0.62      0.68       192\n",
      "\n",
      "    accuracy                           0.91      1261\n",
      "   macro avg       0.84      0.79      0.82      1261\n",
      "weighted avg       0.91      0.91      0.91      1261\n",
      "\n",
      "AUC Score 0.793790926099158\n",
      "Recall Score 0.625\n",
      "F1 Score 0.6818181818181818\n",
      "Precision Score 0.75\n"
     ]
    },
    {
     "data": {
      "text/plain": [
       "<sklearn.metrics._plot.confusion_matrix.ConfusionMatrixDisplay at 0x7f9f498a1880>"
      ]
     },
     "execution_count": 99,
     "metadata": {},
     "output_type": "execute_result"
    },
    {
     "data": {
      "image/png": "[encoded data removed]",
      "text/plain": [
       "<Figure size 432x288 with 2 Axes>"
      ]
     },
     "metadata": {
      "needs_background": "light"
     },
     "output_type": "display_data"
    }
   ],
   "source": [
    "#Decision Tree Model\n",
    "modelDF = DecisionTreeClassifier()\n",
    "DF = modelDF.fit(X_train,y_train)\n",
    "X_Pred = modelDF.predict(X_test)\n",
    "XPred = modelDF.predict(X_train)\n",
    "#Model Accuracy\n",
    "print(\"Train Accuracy:\", metrics.accuracy_score(y_train,XPred))\n",
    "print(\"Test Accuracy:\", metrics.accuracy_score(y_test,X_Pred))\n",
    "print(\"Confusion Matrix for Decision Tree:\")\n",
    "print(confusion_matrix(y_test,X_Pred))\n",
    "\n",
    "print(\"Classification Report\")\n",
    "print(metrics.classification_report(y_test, X_Pred))\n",
    "print(\"AUC Score\", roc_auc_score(y_test, X_Pred))\n",
    "print(\"Recall Score\", recall_score(y_test, X_Pred))\n",
    "print(\"F1 Score\", f1_score(y_test, X_Pred))\n",
    "print(\"Precision Score\", precision_score(y_test, X_Pred))\n",
    "\n",
    "plot_confusion_matrix(modelDF,X_test, y_test)"
   ]
  },
  {
   "cell_type": "code",
   "execution_count": 100,
   "metadata": {},
   "outputs": [
    {
     "name": "stdout",
     "output_type": "stream",
     "text": [
      "Train Accuracy: 1.0\n",
      "Test Accuracy: 0.9000793021411578\n",
      "Confusion Matrix for Random Forest:\n",
      "[[1066    3]\n",
      " [ 123   69]]\n",
      "Classification Report\n",
      "              precision    recall  f1-score   support\n",
      "\n",
      "           0       0.90      1.00      0.94      1069\n",
      "           1       0.96      0.36      0.52       192\n",
      "\n",
      "    accuracy                           0.90      1261\n",
      "   macro avg       0.93      0.68      0.73      1261\n",
      "weighted avg       0.91      0.90      0.88      1261\n",
      "\n",
      "AUC Score 0.6782843194574368\n",
      "Recall Score 0.359375\n",
      "F1 Score 0.5227272727272727\n",
      "Precision Score 0.9583333333333334\n"
     ]
    },
    {
     "data": {
      "text/plain": [
       "<sklearn.metrics._plot.confusion_matrix.ConfusionMatrixDisplay at 0x7f9f4ded90d0>"
      ]
     },
     "execution_count": 100,
     "metadata": {},
     "output_type": "execute_result"
    },
    {
     "data": {
      "image/png": "[encoded data removed]",
      "text/plain": [
       "<Figure size 432x288 with 2 Axes>"
      ]
     },
     "metadata": {
      "needs_background": "light"
     },
     "output_type": "display_data"
    }
   ],
   "source": [
    "#Random Forest\n",
    "modelRF = RandomForestClassifier()\n",
    "RF = modelRF.fit(X_train,y_train)\n",
    "X_Pred = modelRF.predict(X_test)\n",
    "XPred = modelRF.predict(X_train)\n",
    "#Model Accuracy\n",
    "print(\"Train Accuracy:\", metrics.accuracy_score(y_train,XPred))\n",
    "print(\"Test Accuracy:\", metrics.accuracy_score(y_test,X_Pred))\n",
    "print(\"Confusion Matrix for Random Forest:\")\n",
    "print(confusion_matrix(y_test,X_Pred))\n",
    "\n",
    "print(\"Classification Report\")\n",
    "print(metrics.classification_report(y_test, X_Pred))\n",
    "print(\"AUC Score\", roc_auc_score(y_test, X_Pred))\n",
    "print(\"Recall Score\", recall_score(y_test, X_Pred))\n",
    "print(\"F1 Score\", f1_score(y_test, X_Pred))\n",
    "print(\"Precision Score\", precision_score(y_test, X_Pred))\n",
    "\n",
    "plot_confusion_matrix(modelRF,X_test, y_test)"
   ]
  },
  {
   "cell_type": "code",
   "execution_count": 101,
   "metadata": {},
   "outputs": [
    {
     "name": "stdout",
     "output_type": "stream",
     "text": [
      "Train Accuracy: 0.9004291845493563\n",
      "Test Accuracy: 0.8517049960348929\n",
      "Confusion Matrix for Multilayer_Perceptron:\n",
      "[[1060    9]\n",
      " [ 178   14]]\n",
      "Classification Report\n",
      "              precision    recall  f1-score   support\n",
      "\n",
      "           0       0.86      0.99      0.92      1069\n",
      "           1       0.61      0.07      0.13       192\n",
      "\n",
      "    accuracy                           0.85      1261\n",
      "   macro avg       0.73      0.53      0.52      1261\n",
      "weighted avg       0.82      0.85      0.80      1261\n",
      "\n",
      "AUC Score 0.532248791705644\n",
      "Recall Score 0.07291666666666667\n",
      "F1 Score 0.13023255813953488\n",
      "Precision Score 0.6086956521739131\n"
     ]
    },
    {
     "data": {
      "text/plain": [
       "<sklearn.metrics._plot.confusion_matrix.ConfusionMatrixDisplay at 0x7f9f4d31e9a0>"
      ]
     },
     "execution_count": 101,
     "metadata": {},
     "output_type": "execute_result"
    },
    {
     "data": {
      "image/png": "[encoded data removed]",
      "text/plain": [
       "<Figure size 432x288 with 2 Axes>"
      ]
     },
     "metadata": {
      "needs_background": "light"
     },
     "output_type": "display_data"
    }
   ],
   "source": [
    "#Multilayer_Perceptron\n",
    "mlp = MLPClassifier()\n",
    "ML = mlp.fit(X_train, y_train)\n",
    "X_Pred = mlp.predict(X_test)\n",
    "XPred = mlp.predict(X_train)\n",
    "#Model Accuracy\n",
    "print(\"Train Accuracy:\", metrics.accuracy_score(y_train,XPred))\n",
    "print(\"Test Accuracy:\", metrics.accuracy_score(y_test,X_Pred))\n",
    "print(\"Confusion Matrix for Multilayer_Perceptron:\")\n",
    "print(confusion_matrix(y_test,X_Pred))\n",
    "\n",
    "print(\"Classification Report\")\n",
    "print(metrics.classification_report(y_test, X_Pred))\n",
    "print(\"AUC Score\", roc_auc_score(y_test, X_Pred))\n",
    "print(\"Recall Score\", recall_score(y_test, X_Pred))\n",
    "print(\"F1 Score\", f1_score(y_test, X_Pred))\n",
    "print(\"Precision Score\", precision_score(y_test, X_Pred))\n",
    "\n",
    "plot_confusion_matrix(mlp,X_test, y_test)"
   ]
  },
  {
   "cell_type": "code",
   "execution_count": 102,
   "metadata": {},
   "outputs": [
    {
     "name": "stdout",
     "output_type": "stream",
     "text": [
      "Train Accuracy: 0.9811158798283262\n",
      "Test Accuracy: 0.9270420301348137\n",
      "Confusion Matrix for GradientBoosting:\n",
      "[[1057   12]\n",
      " [  80  112]]\n",
      "Classification Report\n",
      "              precision    recall  f1-score   support\n",
      "\n",
      "           0       0.93      0.99      0.96      1069\n",
      "           1       0.90      0.58      0.71       192\n",
      "\n",
      "    accuracy                           0.93      1261\n",
      "   macro avg       0.92      0.79      0.83      1261\n",
      "weighted avg       0.93      0.93      0.92      1261\n",
      "\n",
      "AUC Score 0.7860539444964143\n",
      "Recall Score 0.5833333333333334\n",
      "F1 Score 0.7088607594936709\n",
      "Precision Score 0.9032258064516129\n"
     ]
    },
    {
     "data": {
      "text/plain": [
       "<sklearn.metrics._plot.confusion_matrix.ConfusionMatrixDisplay at 0x7f9f4de400a0>"
      ]
     },
     "execution_count": 102,
     "metadata": {},
     "output_type": "execute_result"
    },
    {
     "data": {
      "image/png": "[encoded data removed]",
      "text/plain": [
       "<Figure size 432x288 with 2 Axes>"
      ]
     },
     "metadata": {
      "needs_background": "light"
     },
     "output_type": "display_data"
    }
   ],
   "source": [
    "#GradientBoostingClassifier\n",
    "GRC = GradientBoostingClassifier()\n",
    "GR = GRC.fit(X_train, y_train)\n",
    "X_Pred = GRC.predict(X_test)\n",
    "XPred = GRC.predict(X_train)\n",
    "#Model Accuracy\n",
    "print(\"Train Accuracy:\", metrics.accuracy_score(y_train,XPred))\n",
    "print(\"Test Accuracy:\", metrics.accuracy_score(y_test,X_Pred))\n",
    "print(\"Confusion Matrix for GradientBoosting:\")\n",
    "print(confusion_matrix(y_test,X_Pred))\n",
    "\n",
    "print(\"Classification Report\")\n",
    "print(metrics.classification_report(y_test, X_Pred))\n",
    "print(\"AUC Score\", roc_auc_score(y_test, X_Pred))\n",
    "print(\"Recall Score\", recall_score(y_test, X_Pred))\n",
    "print(\"F1 Score\", f1_score(y_test, X_Pred))\n",
    "print(\"Precision Score\", precision_score(y_test, X_Pred))\n",
    "\n",
    "plot_confusion_matrix(GRC,X_test, y_test)"
   ]
  },
  {
   "cell_type": "code",
   "execution_count": 103,
   "metadata": {},
   "outputs": [],
   "source": [
    "#STACKING MODELS\n",
    "models = [ DecisionTreeClassifier(), RandomForestClassifier(), MLPClassifier(), GradientBoostingClassifier()] "
   ]
  },
  {
   "cell_type": "code",
   "execution_count": 104,
   "metadata": {},
   "outputs": [
    {
     "name": "stdout",
     "output_type": "stream",
     "text": [
      "task:         [classification]\n",
      "n_classes:    [2]\n",
      "metric:       [accuracy_score]\n",
      "mode:         [oof_pred_bag]\n",
      "n_models:     [4]\n",
      "\n",
      "model  0:     [DecisionTreeClassifier]\n",
      "    fold  0:  [0.85273973]\n",
      "    fold  1:  [0.91408935]\n",
      "    fold  2:  [0.92439863]\n",
      "    fold  3:  [0.90034364]\n",
      "    ----\n",
      "    MEAN:     [0.89789284] + [0.02743034]\n",
      "    FULL:     [0.89785408]\n",
      "\n",
      "model  1:     [RandomForestClassifier]\n",
      "    fold  0:  [0.91095890]\n",
      "    fold  1:  [0.90034364]\n",
      "    fold  2:  [0.91408935]\n",
      "    fold  3:  [0.90034364]\n",
      "    ----\n",
      "    MEAN:     [0.90643388] + [0.00618999]\n",
      "    FULL:     [0.90643777]\n",
      "\n",
      "model  2:     [MLPClassifier]\n",
      "    fold  0:  [0.87328767]\n",
      "    fold  1:  [0.85910653]\n",
      "    fold  2:  [0.86254296]\n",
      "    fold  3:  [0.88659794]\n",
      "    ----\n",
      "    MEAN:     [0.87038377] + [0.01072365]\n",
      "    FULL:     [0.87038627]\n",
      "\n",
      "model  3:     [GradientBoostingClassifier]\n",
      "    fold  0:  [0.92465753]\n",
      "    fold  1:  [0.92439863]\n",
      "    fold  2:  [0.92783505]\n",
      "    fold  3:  [0.91408935]\n",
      "    ----\n",
      "    MEAN:     [0.92274514] + [0.00517738]\n",
      "    FULL:     [0.92274678]\n",
      "\n"
     ]
    }
   ],
   "source": [
    "S_Train, S_Test = stacking(models,                   \n",
    "                           X_train, y_train, X_test,   \n",
    "                           regression=False, \n",
    "     \n",
    "                           mode='oof_pred_bag', \n",
    "       \n",
    "                           needs_proba=False,\n",
    "         \n",
    "                           save_dir=None, \n",
    "            \n",
    "                           metric=accuracy_score, \n",
    "    \n",
    "                           n_folds=4, \n",
    "                 \n",
    "                           stratified=True,\n",
    "            \n",
    "                           shuffle=True,  \n",
    "            \n",
    "                           random_state=0,    \n",
    "         \n",
    "                           verbose=2)"
   ]
  },
  {
   "cell_type": "code",
   "execution_count": 105,
   "metadata": {},
   "outputs": [
    {
     "data": {
      "text/plain": [
       "(1165, 4)"
      ]
     },
     "execution_count": 105,
     "metadata": {},
     "output_type": "execute_result"
    }
   ],
   "source": [
    "S_Train.shape"
   ]
  },
  {
   "cell_type": "code",
   "execution_count": 106,
   "metadata": {},
   "outputs": [
    {
     "name": "stdout",
     "output_type": "stream",
     "text": [
      "Test Accuracy: 0.9167327517842981\n",
      "Confusion Matrix for Stacked Random Forest:\n",
      "[[1068    1]\n",
      " [ 104   88]]\n",
      "Classification Report\n",
      "              precision    recall  f1-score   support\n",
      "\n",
      "           0       0.91      1.00      0.95      1069\n",
      "           1       0.99      0.46      0.63       192\n",
      "\n",
      "    accuracy                           0.92      1261\n",
      "   macro avg       0.95      0.73      0.79      1261\n",
      "weighted avg       0.92      0.92      0.90      1261\n",
      "\n",
      "AUC Score 0.7286989398191456\n",
      "Recall Score 0.4583333333333333\n",
      "F1 Score 0.6263345195729538\n",
      "Precision Score 0.9887640449438202\n"
     ]
    },
    {
     "data": {
      "text/plain": [
       "<sklearn.metrics._plot.confusion_matrix.ConfusionMatrixDisplay at 0x7f9f4dc90e80>"
      ]
     },
     "execution_count": 106,
     "metadata": {},
     "output_type": "execute_result"
    },
    {
     "data": {
      "image/png": "[encoded data removed]",
      "text/plain": [
       "<Figure size 432x288 with 2 Axes>"
      ]
     },
     "metadata": {
      "needs_background": "light"
     },
     "output_type": "display_data"
    }
   ],
   "source": [
    "#STACKING - CONTRUCT A Random Forest MODEL\n",
    "modelS = RandomForestClassifier()\n",
    "    \n",
    "modelS = modelS.fit(S_Train, y_train)\n",
    "X_Pred = modelS.predict(S_Test)\n",
    "\n",
    "\n",
    "#Model Accuracy\n",
    "\n",
    "\n",
    "print(\"Test Accuracy:\", metrics.accuracy_score(y_test,X_Pred))\n",
    "print(\"Confusion Matrix for Stacked Random Forest:\")\n",
    "print(confusion_matrix(y_test,X_Pred))\n",
    "\n",
    "print(\"Classification Report\")\n",
    "print(metrics.classification_report(y_test, X_Pred))\n",
    "print(\"AUC Score\", roc_auc_score(y_test, X_Pred))\n",
    "print(\"Recall Score\", recall_score(y_test, X_Pred))\n",
    "print(\"F1 Score\", f1_score(y_test, X_Pred))\n",
    "print(\"Precision Score\", precision_score(y_test, X_Pred))\n",
    "\n",
    "plot_confusion_matrix(modelRF,X_test, y_test)"
   ]
  },
  {
   "cell_type": "code",
   "execution_count": 107,
   "metadata": {},
   "outputs": [
    {
     "name": "stdout",
     "output_type": "stream",
     "text": [
      "RandomizedSearchCV-Random forest\n",
      "{'n_estimators': 20, 'min_samples_split': 10, 'max_features': 20, 'max_depth': 9}\n",
      "accuracy Score for Random Forest:0.918319\n",
      "--- 27.916460037231445 seconds ---\n"
     ]
    }
   ],
   "source": [
    "#Hyperparameter tuning done for random forest classifier\n",
    "#RANDOM SEARCH--------------------------------------------\n",
    "\n",
    "import time \n",
    "start_time = time.time()\n",
    "\n",
    "print(\"RandomizedSearchCV-Random forest\") \n",
    "rand_parameters={'min_samples_split' : range(10,100,10),\n",
    "                 'max_depth': range(1,10,2),'max_features':[10,20,30],'n_estimators':[50,150,20]} \n",
    "rf_random = RandomizedSearchCV(modelS,rand_parameters,n_iter=25,cv=5)\n",
    "rf_random.fit(X_train, y_train) \n",
    "grid_parm=rf_random.best_params_ \n",
    "print(grid_parm) \n",
    "print(\"accuracy Score for Random Forest:{0:6f}\". format(rf_random.score(X_test,y_test)))\n",
    "\n",
    "print(\"--- %s seconds ---\" % (time.time() - start_time))"
   ]
  },
  {
   "cell_type": "code",
   "execution_count": 108,
   "metadata": {},
   "outputs": [],
   "source": [
    "#Using the parameters obtained from HyperParameterTuning in the RandomForestClassifier \n",
    "rfRand = RandomForestClassifier(**grid_parm)\n",
    "rfRand.fit(X_train,y_train)\n",
    "rfRand_predict = rfRand.predict(X_test)"
   ]
  },
  {
   "cell_type": "code",
   "execution_count": 109,
   "metadata": {},
   "outputs": [
    {
     "name": "stdout",
     "output_type": "stream",
     "text": [
      "Test Accuracy: 0.9341792228390167\n",
      "Confusion Matrix for Random Forest:\n",
      "[[1060    9]\n",
      " [  74  118]]\n",
      "Classification Report\n",
      "              precision    recall  f1-score   support\n",
      "\n",
      "           0       0.93      0.99      0.96      1069\n",
      "           1       0.93      0.61      0.74       192\n",
      "\n",
      "    accuracy                           0.93      1261\n",
      "   macro avg       0.93      0.80      0.85      1261\n",
      "weighted avg       0.93      0.93      0.93      1261\n",
      "\n",
      "AUC Score 0.7286989398191456\n",
      "Recall Score 0.4583333333333333\n",
      "F1 Score 0.6263345195729538\n",
      "Precision Score 0.9887640449438202\n",
      "[0.74636579 0.77341109 0.67494929 0.75616971 0.7592775 ]\n"
     ]
    },
    {
     "data": {
      "image/png": "[encoded data removed]",
      "text/plain": [
       "<Figure size 432x288 with 2 Axes>"
      ]
     },
     "metadata": {
      "needs_background": "light"
     },
     "output_type": "display_data"
    }
   ],
   "source": [
    "print(\"Test Accuracy:\", metrics.accuracy_score(y_test,rfRand_predict))\n",
    "print(\"Confusion Matrix for Random Forest:\")\n",
    "print(confusion_matrix(y_test,rfRand_predict))\n",
    "print('Classification Report')\n",
    "print(metrics.classification_report(y_test, rfRand_predict))\n",
    "print(\"AUC Score\", roc_auc_score(y_test, X_Pred))\n",
    "print(\"Recall Score\", recall_score(y_test, X_Pred))\n",
    "print(\"F1 Score\", f1_score(y_test, X_Pred))\n",
    "print(\"Precision Score\", precision_score(y_test, X_Pred))\n",
    "\n",
    "plot_confusion_matrix(modelRF,X_test, y_test)\n",
    "\n",
    "clf_cv_score = cross_val_score(rfRand, X_train, y_train, cv=5, scoring=\"balanced_accuracy\")\n",
    "print(clf_cv_score)"
   ]
  },
  {
   "cell_type": "code",
   "execution_count": null,
   "metadata": {},
   "outputs": [],
   "source": []
  }
 ],
 "metadata": {
  "kernelspec": {
   "display_name": "Python 3",
   "language": "python",
   "name": "python3"
  },
  "language_info": {
   "codemirror_mode": {
    "name": "ipython",
    "version": 3
   },
   "file_extension": ".py",
   "mimetype": "text/x-python",
   "name": "python",
   "nbconvert_exporter": "python",
   "pygments_lexer": "ipython3",
   "version": "3.8.3"
  }
 },
 "nbformat": 4,
 "nbformat_minor": 4
}
