{
 "cells": [
  {
   "cell_type": "code",
   "execution_count": 1,
   "metadata": {},
   "outputs": [],
   "source": [
    "import pandas as pd\n",
    "import numpy as np\n",
    "import os\n",
    "import matplotlib.pyplot as plt\n",
    "from sklearn.cluster import KMeans\n",
    "from sklearn.metrics import silhouette_score\n",
    "%matplotlib inline"
   ]
  },
  {
   "cell_type": "code",
   "execution_count": 2,
   "metadata": {},
   "outputs": [
    {
     "data": {
      "text/plain": [
       "'/Users/rajatsuri/Desktop/Padhai/CIS 508/assig 5'"
      ]
     },
     "execution_count": 2,
     "metadata": {},
     "output_type": "execute_result"
    }
   ],
   "source": [
    "os.getcwd()"
   ]
  },
  {
   "cell_type": "code",
   "execution_count": 3,
   "metadata": {},
   "outputs": [],
   "source": [
    "#Read files\n",
    "\n",
    "SGCD = pd.read_excel('SouthGermanCredit.xlsx') #creates a dataframe"
   ]
  },
  {
   "cell_type": "code",
   "execution_count": 4,
   "metadata": {},
   "outputs": [
    {
     "name": "stdout",
     "output_type": "stream",
     "text": [
      "(1000, 21)\n"
     ]
    }
   ],
   "source": [
    "print(SGCD.shape)"
   ]
  },
  {
   "cell_type": "code",
   "execution_count": 5,
   "metadata": {},
   "outputs": [
    {
     "data": {
      "text/html": [
       "<div>\n",
       "<style scoped>\n",
       "    .dataframe tbody tr th:only-of-type {\n",
       "        vertical-align: middle;\n",
       "    }\n",
       "\n",
       "    .dataframe tbody tr th {\n",
       "        vertical-align: top;\n",
       "    }\n",
       "\n",
       "    .dataframe thead th {\n",
       "        text-align: right;\n",
       "    }\n",
       "</style>\n",
       "<table border=\"1\" class=\"dataframe\">\n",
       "  <thead>\n",
       "    <tr style=\"text-align: right;\">\n",
       "      <th></th>\n",
       "      <th>laufkont</th>\n",
       "      <th>laufzeit</th>\n",
       "      <th>moral</th>\n",
       "      <th>verw</th>\n",
       "      <th>hoehe</th>\n",
       "      <th>sparkont</th>\n",
       "      <th>beszeit</th>\n",
       "      <th>rate</th>\n",
       "      <th>famges</th>\n",
       "      <th>buerge</th>\n",
       "      <th>...</th>\n",
       "      <th>verm</th>\n",
       "      <th>alter</th>\n",
       "      <th>weitkred</th>\n",
       "      <th>wohn</th>\n",
       "      <th>bishkred</th>\n",
       "      <th>beruf</th>\n",
       "      <th>pers</th>\n",
       "      <th>telef</th>\n",
       "      <th>gastarb</th>\n",
       "      <th>kredit</th>\n",
       "    </tr>\n",
       "  </thead>\n",
       "  <tbody>\n",
       "    <tr>\n",
       "      <th>0</th>\n",
       "      <td>1</td>\n",
       "      <td>18</td>\n",
       "      <td>4</td>\n",
       "      <td>2</td>\n",
       "      <td>1049</td>\n",
       "      <td>1</td>\n",
       "      <td>2</td>\n",
       "      <td>4</td>\n",
       "      <td>2</td>\n",
       "      <td>1</td>\n",
       "      <td>...</td>\n",
       "      <td>2</td>\n",
       "      <td>21</td>\n",
       "      <td>3</td>\n",
       "      <td>1</td>\n",
       "      <td>1</td>\n",
       "      <td>3</td>\n",
       "      <td>2</td>\n",
       "      <td>1</td>\n",
       "      <td>2</td>\n",
       "      <td>1</td>\n",
       "    </tr>\n",
       "    <tr>\n",
       "      <th>1</th>\n",
       "      <td>1</td>\n",
       "      <td>9</td>\n",
       "      <td>4</td>\n",
       "      <td>0</td>\n",
       "      <td>2799</td>\n",
       "      <td>1</td>\n",
       "      <td>3</td>\n",
       "      <td>2</td>\n",
       "      <td>3</td>\n",
       "      <td>1</td>\n",
       "      <td>...</td>\n",
       "      <td>1</td>\n",
       "      <td>36</td>\n",
       "      <td>3</td>\n",
       "      <td>1</td>\n",
       "      <td>2</td>\n",
       "      <td>3</td>\n",
       "      <td>1</td>\n",
       "      <td>1</td>\n",
       "      <td>2</td>\n",
       "      <td>1</td>\n",
       "    </tr>\n",
       "    <tr>\n",
       "      <th>2</th>\n",
       "      <td>2</td>\n",
       "      <td>12</td>\n",
       "      <td>2</td>\n",
       "      <td>9</td>\n",
       "      <td>841</td>\n",
       "      <td>2</td>\n",
       "      <td>4</td>\n",
       "      <td>2</td>\n",
       "      <td>2</td>\n",
       "      <td>1</td>\n",
       "      <td>...</td>\n",
       "      <td>1</td>\n",
       "      <td>23</td>\n",
       "      <td>3</td>\n",
       "      <td>1</td>\n",
       "      <td>1</td>\n",
       "      <td>2</td>\n",
       "      <td>2</td>\n",
       "      <td>1</td>\n",
       "      <td>2</td>\n",
       "      <td>1</td>\n",
       "    </tr>\n",
       "    <tr>\n",
       "      <th>3</th>\n",
       "      <td>1</td>\n",
       "      <td>12</td>\n",
       "      <td>4</td>\n",
       "      <td>0</td>\n",
       "      <td>2122</td>\n",
       "      <td>1</td>\n",
       "      <td>3</td>\n",
       "      <td>3</td>\n",
       "      <td>3</td>\n",
       "      <td>1</td>\n",
       "      <td>...</td>\n",
       "      <td>1</td>\n",
       "      <td>39</td>\n",
       "      <td>3</td>\n",
       "      <td>1</td>\n",
       "      <td>2</td>\n",
       "      <td>2</td>\n",
       "      <td>1</td>\n",
       "      <td>1</td>\n",
       "      <td>1</td>\n",
       "      <td>1</td>\n",
       "    </tr>\n",
       "    <tr>\n",
       "      <th>4</th>\n",
       "      <td>1</td>\n",
       "      <td>12</td>\n",
       "      <td>4</td>\n",
       "      <td>0</td>\n",
       "      <td>2171</td>\n",
       "      <td>1</td>\n",
       "      <td>3</td>\n",
       "      <td>4</td>\n",
       "      <td>3</td>\n",
       "      <td>1</td>\n",
       "      <td>...</td>\n",
       "      <td>2</td>\n",
       "      <td>38</td>\n",
       "      <td>1</td>\n",
       "      <td>2</td>\n",
       "      <td>2</td>\n",
       "      <td>2</td>\n",
       "      <td>2</td>\n",
       "      <td>1</td>\n",
       "      <td>1</td>\n",
       "      <td>1</td>\n",
       "    </tr>\n",
       "  </tbody>\n",
       "</table>\n",
       "<p>5 rows × 21 columns</p>\n",
       "</div>"
      ],
      "text/plain": [
       "   laufkont  laufzeit  moral  verw  hoehe  sparkont  beszeit  rate  famges  \\\n",
       "0         1        18      4     2   1049         1        2     4       2   \n",
       "1         1         9      4     0   2799         1        3     2       3   \n",
       "2         2        12      2     9    841         2        4     2       2   \n",
       "3         1        12      4     0   2122         1        3     3       3   \n",
       "4         1        12      4     0   2171         1        3     4       3   \n",
       "\n",
       "   buerge  ...  verm  alter  weitkred  wohn  bishkred  beruf  pers  telef  \\\n",
       "0       1  ...     2     21         3     1         1      3     2      1   \n",
       "1       1  ...     1     36         3     1         2      3     1      1   \n",
       "2       1  ...     1     23         3     1         1      2     2      1   \n",
       "3       1  ...     1     39         3     1         2      2     1      1   \n",
       "4       1  ...     2     38         1     2         2      2     2      1   \n",
       "\n",
       "   gastarb  kredit  \n",
       "0        2       1  \n",
       "1        2       1  \n",
       "2        2       1  \n",
       "3        1       1  \n",
       "4        1       1  \n",
       "\n",
       "[5 rows x 21 columns]"
      ]
     },
     "execution_count": 5,
     "metadata": {},
     "output_type": "execute_result"
    }
   ],
   "source": [
    "SGCD.head()"
   ]
  },
  {
   "cell_type": "code",
   "execution_count": 6,
   "metadata": {},
   "outputs": [
    {
     "data": {
      "text/plain": [
       "laufkont    int64\n",
       "laufzeit    int64\n",
       "moral       int64\n",
       "verw        int64\n",
       "hoehe       int64\n",
       "sparkont    int64\n",
       "beszeit     int64\n",
       "rate        int64\n",
       "famges      int64\n",
       "buerge      int64\n",
       "wohnzeit    int64\n",
       "verm        int64\n",
       "alter       int64\n",
       "weitkred    int64\n",
       "wohn        int64\n",
       "bishkred    int64\n",
       "beruf       int64\n",
       "pers        int64\n",
       "telef       int64\n",
       "gastarb     int64\n",
       "kredit      int64\n",
       "dtype: object"
      ]
     },
     "execution_count": 6,
     "metadata": {},
     "output_type": "execute_result"
    }
   ],
   "source": [
    "SGCD.dtypes"
   ]
  },
  {
   "cell_type": "code",
   "execution_count": 7,
   "metadata": {},
   "outputs": [],
   "source": [
    "y_train = SGCD[\"kredit\"]\n",
    "X_train = SGCD.drop(columns=[\"kredit\"]) #extracting training data without the target column"
   ]
  },
  {
   "cell_type": "code",
   "execution_count": 8,
   "metadata": {},
   "outputs": [
    {
     "name": "stdout",
     "output_type": "stream",
     "text": [
      "[0 5 0 4 4 4 5 0 0 5 2 7 4 1 4 4 2 5 4 7 5 5 4 0 2 2 0 0 5 2 5 5 7 0 4 0 0\n",
      " 4 5 5 0 4 0 5 0 0 0 4 0 0 0 2 0 4 7 0 4 0 5 5 0 4 5 3 0 0 5 4 0 4 5 4 4 0\n",
      " 5 4 5 4 0 4 4 5 7 4 0 5 4 2 0 4 4 5 2 0 7 2 5 2 4 7 5 0 2 1 4 0 0 0 0 4 2\n",
      " 0 4 0 2 7 4 4 0 5 2 7 4 0 0 2 0 5 4 5 4 4 4 0 0 0 0 4 0 5 5 5 2 4 4 4 5 0\n",
      " 0 4 0 4 1 5 0 4 0 7 7 5 0 0 2 5 0 4 7 2 5 0 7 0 0 0 4 5 2 4 4 3 0 0 1 5 0\n",
      " 7 4 5 4 5 4 5 1 4 0 7 7 4 4 5 4 1 0 1 5 2 0 0 3 5 0 5 4 0 0 2 5 0 3 0 4 5\n",
      " 2 1 4 0 2 0 0 5 0 0 1 5 0 0 4 4 0 4 0 3 0 0 4 5 4 2 4 2 5 7 0 5 7 4 5 4 4\n",
      " 5 4 0 0 0 0 4 4 0 0 0 0 1 0 5 4 5 5 5 5 0 0 4 2 4 5 0 0 4 4 0 5 4 4 0 0 1\n",
      " 4 4 0 4 0 2 5 5 0 0 0 0 4 1 0 5 0 0 0 0 0 5 0 0 0 4 4 4 0 0 0 0 4 7 4 4 0\n",
      " 0 0 4 0 0 5 0 5 5 5 5 0 4 0 0 4 0 4 0 1 5 0 3 5 0 4 2 0 4 0 0 4 5 0 0 0 5\n",
      " 7 4 1 0 0 5 0 7 0 7 5 5 6 0 2 0 0 1 0 5 5 0 0 0 7 0 7 0 0 7 4 0 0 5 2 2 2\n",
      " 0 4 7 0 5 0 4 0 5 0 7 0 0 0 0 0 4 4 0 3 0 0 5 2 0 4 4 0 0 0 0 4 5 4 2 6 0\n",
      " 0 0 0 0 2 0 0 4 1 7 2 1 4 4 4 4 7 1 5 2 1 0 4 2 4 0 4 0 1 4 2 0 5 5 5 5 2\n",
      " 5 5 7 0 0 5 5 0 5 4 5 5 4 0 0 4 2 0 4 0 4 0 4 1 4 0 7 2 0 4 0 5 5 5 5 7 4\n",
      " 7 7 5 3 0 0 4 1 0 5 0 4 0 4 4 4 4 4 5 0 0 5 4 2 4 0 0 0 4 0 0 0 4 4 0 0 0\n",
      " 5 1 0 2 0 5 5 1 0 2 0 3 0 4 3 0 1 1 5 7 3 5 0 2 7 0 4 5 0 1 5 2 5 5 5 4 0\n",
      " 7 0 2 2 0 0 4 2 1 4 0 0 4 0 0 0 2 5 0 4 0 4 7 4 3 4 5 0 1 7 0 5 7 4 5 0 0\n",
      " 4 0 1 2 2 5 5 4 4 2 5 4 7 7 7 0 6 4 7 4 4 2 0 0 4 7 4 0 0 4 0 0 0 0 0 0 0\n",
      " 4 0 0 4 4 0 0 0 0 0 0 4 5 0 0 0 7 0 4 0 0 2 5 0 3 0 0 5 4 6 4 0 2 0 1 7 1\n",
      " 5 0 0 5 4 1 7 5 5 7 0 5 4 1 2 4 7 7 4 5 1 2 5 5 4 3 1 1 7 5 4 7 0 0 0 0 7\n",
      " 4 5 5 1 2 4 5 7 0 5 5 0 0 2 6 0 0 0 4 5 5 4 2 7 4 0 2 0 0 0 4 0 0 1 4 4 2\n",
      " 5 0 2 1 0 6 0 4 4 0 0 2 2 4 4 7 0 4 4 5 4 0 0 0 0 0 0 0 0 4 7 5 0 6 1 4 5\n",
      " 2 4 0 0 0 4 3 7 4 4 4 0 5 2 0 7 5 2 1 2 2 3 2 2 7 0 4 4 0 3 3 4 4 6 4 3 5\n",
      " 0 4 0 0 2 5 4 2 0 2 2 0 5 7 0 0 1 0 0 5 1 0 1 4 2 2 7 0 0 4 0 1 0 4 7 5 1\n",
      " 4 1 6 1 0 0 4 3 4 4 2 0 2 4 4 2 5 4 0 4 0 7 2 0 2 5 2 4 0 5 2 7 5 0 0 2 5\n",
      " 4 5 0 3 6 0 0 0 0 4 4 0 0 0 1 3 0 0 3 0 7 4 1 0 0 2 0 0 3 0 0 5 5 2 5 7 0\n",
      " 6 5 0 3 1 0 4 0 2 1 4 3 0 3 6 6 5 5 4 4 2 4 7 4 1 0 0 4 0 3 1 2 7 4 4 3 7\n",
      " 7]\n",
      "[[2.62606232e+00 1.32351275e+01 2.56090652e+00 2.70821530e+00\n",
      "  1.13373088e+03 2.07648725e+00 3.40509915e+00 3.32861190e+00\n",
      "  2.69971671e+00 1.15014164e+00 2.82719547e+00 2.03116147e+00\n",
      "  3.61728045e+01 2.69405099e+00 1.90934844e+00 1.41359773e+00\n",
      "  2.69971671e+00 1.84135977e+00 1.27478754e+00 1.95184136e+00]\n",
      " [2.47272727e+00 3.49636364e+01 2.36363636e+00 2.85454545e+00\n",
      "  8.21510909e+03 2.72727273e+00 3.25454545e+00 2.32727273e+00\n",
      "  2.58181818e+00 1.14545455e+00 2.74545455e+00 2.87272727e+00\n",
      "  3.68363636e+01 2.56363636e+00 2.05454545e+00 1.43636364e+00\n",
      "  3.25454545e+00 1.83636364e+00 1.52727273e+00 1.96363636e+00]\n",
      " [2.44086022e+00 2.74516129e+01 2.47311828e+00 3.08602151e+00\n",
      "  4.52545161e+03 1.95698925e+00 3.18279570e+00 2.67741935e+00\n",
      "  2.65591398e+00 1.12903226e+00 2.97849462e+00 2.52688172e+00\n",
      "  3.43118280e+01 2.66666667e+00 1.97849462e+00 1.50537634e+00\n",
      "  3.00000000e+00 1.81720430e+00 1.49462366e+00 2.00000000e+00]\n",
      " [2.58620690e+00 3.89655172e+01 2.44827586e+00 3.03448276e+00\n",
      "  1.13450690e+04 2.37931034e+00 3.41379310e+00 2.34482759e+00\n",
      "  2.65517241e+00 1.13793103e+00 2.96551724e+00 3.24137931e+00\n",
      "  3.48275862e+01 2.55172414e+00 2.20689655e+00 1.48275862e+00\n",
      "  3.31034483e+00 1.79310345e+00 1.82758621e+00 2.00000000e+00]\n",
      " [2.61261261e+00 1.87612613e+01 2.62612613e+00 2.93243243e+00\n",
      "  2.16954054e+03 1.90540541e+00 3.31081081e+00 3.13063063e+00\n",
      "  2.71171171e+00 1.16216216e+00 2.76576577e+00 2.28378378e+00\n",
      "  3.47162162e+01 2.72072072e+00 1.85585586e+00 1.36936937e+00\n",
      "  2.91891892e+00 1.89639640e+00 1.37837838e+00 1.95045045e+00]\n",
      " [2.60122699e+00 2.20552147e+01 2.47239264e+00 2.49693252e+00\n",
      "  3.26779755e+03 2.27607362e+00 3.51533742e+00 2.65644172e+00\n",
      "  2.58895706e+00 1.15950920e+00 2.88343558e+00 2.43558282e+00\n",
      "  3.46319018e+01 2.66871166e+00 1.88343558e+00 1.32515337e+00\n",
      "  2.92024540e+00 1.81595092e+00 1.41717791e+00 1.96932515e+00]\n",
      " [2.07692308e+00 4.31538462e+01 1.84615385e+00 4.76923077e+00\n",
      "  1.51142308e+04 2.00000000e+00 3.46153846e+00 2.38461538e+00\n",
      "  2.69230769e+00 1.07692308e+00 3.00000000e+00 3.23076923e+00\n",
      "  4.07692308e+01 2.30769231e+00 2.15384615e+00 1.23076923e+00\n",
      "  3.46153846e+00 2.00000000e+00 1.92307692e+00 1.92307692e+00]\n",
      " [2.51388889e+00 3.20000000e+01 2.77777778e+00 3.05555556e+00\n",
      "  6.36891667e+03 2.09722222e+00 3.54166667e+00 2.69444444e+00\n",
      "  2.83333333e+00 1.06944444e+00 2.91666667e+00 2.88888889e+00\n",
      "  3.70000000e+01 2.66666667e+00 2.02777778e+00 1.52777778e+00\n",
      "  3.16666667e+00 1.80555556e+00 1.61111111e+00 1.98611111e+00]]\n",
      "0.5603112529832324\n"
     ]
    }
   ],
   "source": [
    "#Clustering\n",
    "#K-Means Clustering ========================================================================\n",
    "#Default Mode - K=8\n",
    "kmeans = KMeans()\n",
    "kmeans.fit(X_train)\n",
    "print(kmeans.labels_)\n",
    "print(kmeans.cluster_centers_)\n",
    "#Print Silhouette measure\n",
    "print(silhouette_score(X_train, kmeans.labels_))\n"
   ]
  },
  {
   "cell_type": "code",
   "execution_count": 9,
   "metadata": {},
   "outputs": [
    {
     "name": "stdout",
     "output_type": "stream",
     "text": [
      "(1000, 21)\n"
     ]
    }
   ],
   "source": [
    "#Add Cluster Number to each datapoint + save file\n",
    "df_kmeans=X_train\n",
    "kmeans_predict_train=kmeans.predict(df_kmeans)\n",
    "df_kmeans['Cluster Number']=kmeans_predict_train\n",
    "print(df_kmeans.shape)\n",
    "df_kmeans.head()\n",
    "df_kmeans.dtypes\n",
    "\n",
    "export_csv = df_kmeans.to_csv(r'/Users/rajatsuri/Desktop/Padhai/CIS 508/assig 5/2export_csv1.csv')\n"
   ]
  },
  {
   "cell_type": "code",
   "execution_count": 13,
   "metadata": {},
   "outputs": [
    {
     "name": "stdout",
     "output_type": "stream",
     "text": [
      "(1000, 21)\n",
      "0.5715127524050502\n"
     ]
    }
   ],
   "source": [
    "#K-Means Clustering ========================================================================\n",
    "# K=10\n",
    "\n",
    "kmeans = KMeans(n_clusters=10, init='random', algorithm='elkan')\n",
    "kmeans.fit(X_train)\n",
    "kmeans.labels_\n",
    "#kmeans.cluster_centers_\n",
    "print(X_train.shape)\n",
    "#Print Silhouette measure\n",
    "print(silhouette_score(X_train, kmeans.labels_))"
   ]
  },
  {
   "cell_type": "code",
   "execution_count": 14,
   "metadata": {},
   "outputs": [
    {
     "name": "stdout",
     "output_type": "stream",
     "text": [
      "(1000, 21)\n"
     ]
    }
   ],
   "source": [
    "#Add Cluster Number to each datapoint + save file\n",
    "df_kmeans=X_train\n",
    "kmeans_predict_train=kmeans.predict(X_train)\n",
    "\n",
    "df_kmeans['Cluster Number']=kmeans_predict_train\n",
    "print(df_kmeans.shape)\n",
    "df_kmeans.head()\n",
    "df_kmeans.dtypes\n",
    "\n",
    "export_csv = df_kmeans.to_csv( r'/Users/rajatsuri/Desktop/Padhai/CIS 508/assig 5/2export_csv2.csv')"
   ]
  },
  {
   "cell_type": "code",
   "execution_count": 25,
   "metadata": {},
   "outputs": [
    {
     "name": "stdout",
     "output_type": "stream",
     "text": [
      "(1000, 21)\n",
      "0.6478559802647578\n"
     ]
    }
   ],
   "source": [
    "#K-Means Clustering ========================================================================\n",
    "# K=3\n",
    "\n",
    "kmeans = KMeans(n_clusters=3)\n",
    "kmeans.fit(X_train)\n",
    "kmeans.labels_\n",
    "#kmeans.cluster_centers_\n",
    "print(X_train.shape)\n",
    "#Print Silhouette measure\n",
    "print(silhouette_score(X_train, kmeans.labels_))"
   ]
  },
  {
   "cell_type": "code",
   "execution_count": 26,
   "metadata": {},
   "outputs": [
    {
     "name": "stdout",
     "output_type": "stream",
     "text": [
      "(1000, 21)\n"
     ]
    }
   ],
   "source": [
    "#Add Cluster Number to each datapoint + save file\n",
    "df_kmeans=X_train\n",
    "kmeans_predict_train=kmeans.predict(X_train)\n",
    "\n",
    "df_kmeans['Cluster Number']=kmeans_predict_train\n",
    "print(df_kmeans.shape)\n",
    "df_kmeans.head()\n",
    "df_kmeans.dtypes\n",
    "\n",
    "export_csv = df_kmeans.to_csv( r'/Users/rajatsuri/Desktop/Padhai/CIS 508/assig 5/2export_csv3.csv')"
   ]
  },
  {
   "cell_type": "code",
   "execution_count": 27,
   "metadata": {},
   "outputs": [
    {
     "name": "stdout",
     "output_type": "stream",
     "text": [
      "accuracy:-\n",
      "0.621\n"
     ]
    }
   ],
   "source": [
    "#accuracy of prediction\n",
    "\n",
    "ac=0\n",
    "for i in range (1000):\n",
    "    if y_train[i]==1 and kmeans_predict_train[i]==0:\n",
    "        ac=ac+1\n",
    "        \n",
    "    elif y_train[i]==0 and kmeans_predict_train[i]==1:\n",
    "        ac=ac+1\n",
    "        \n",
    "print(\"accuracy:-\")\n",
    "print(ac/1000)\n"
   ]
  },
  {
   "cell_type": "code",
   "execution_count": null,
   "metadata": {},
   "outputs": [],
   "source": []
  }
 ],
 "metadata": {
  "kernelspec": {
   "display_name": "Python 3",
   "language": "python",
   "name": "python3"
  },
  "language_info": {
   "codemirror_mode": {
    "name": "ipython",
    "version": 3
   },
   "file_extension": ".py",
   "mimetype": "text/x-python",
   "name": "python",
   "nbconvert_exporter": "python",
   "pygments_lexer": "ipython3",
   "version": "3.8.3"
  }
 },
 "nbformat": 4,
 "nbformat_minor": 4
}
