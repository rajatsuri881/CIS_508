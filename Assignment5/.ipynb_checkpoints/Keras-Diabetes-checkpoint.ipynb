{
 "cells": [
  {
   "cell_type": "code",
   "execution_count": 1,
   "metadata": {
    "colab": {
     "base_uri": "https://localhost:8080/",
     "height": 124
    },
    "colab_type": "code",
    "executionInfo": {
     "elapsed": 26800,
     "status": "ok",
     "timestamp": 1575576659358,
     "user": {
      "displayName": "Asim Roy",
      "photoUrl": "",
      "userId": "05146077416249051154"
     },
     "user_tz": 420
    },
    "id": "IRry4tUtR2cO",
    "outputId": "1b0c2de6-3669-44ea-c4c2-589c159f0438"
   },
   "outputs": [
    {
     "name": "stdout",
     "output_type": "stream",
     "text": [
      "Go to this URL in a browser: https://accounts.google.com/o/oauth2/auth?client_id=947318989803-6bn6qk8qdgf4n4g3pfee6491hc0brc4i.apps.googleusercontent.com&redirect_uri=urn%3aietf%3awg%3aoauth%3a2.0%3aoob&response_type=code&scope=email%20https%3a%2f%2fwww.googleapis.com%2fauth%2fdocs.test%20https%3a%2f%2fwww.googleapis.com%2fauth%2fdrive%20https%3a%2f%2fwww.googleapis.com%2fauth%2fdrive.photos.readonly%20https%3a%2f%2fwww.googleapis.com%2fauth%2fpeopleapi.readonly\n",
      "\n",
      "Enter your authorization code:\n",
      "··········\n",
      "Mounted at /content/drive\n"
     ]
    }
   ],
   "source": [
    "from google.colab import drive\n",
    "drive.mount('/content/drive')"
   ]
  },
  {
   "cell_type": "code",
   "execution_count": 2,
   "metadata": {
    "colab": {
     "base_uri": "https://localhost:8080/",
     "height": 341
    },
    "colab_type": "code",
    "executionInfo": {
     "elapsed": 3624,
     "status": "ok",
     "timestamp": 1575576690410,
     "user": {
      "displayName": "Asim Roy",
      "photoUrl": "",
      "userId": "05146077416249051154"
     },
     "user_tz": 420
    },
    "id": "zsgsdkwGQ1N_",
    "outputId": "08ba8e66-f4e1-4fa8-f0e7-172e52121c0f"
   },
   "outputs": [
    {
     "name": "stderr",
     "output_type": "stream",
     "text": [
      "Using TensorFlow backend.\n"
     ]
    },
    {
     "data": {
      "text/html": [
       "<p style=\"color: red;\">\n",
       "The default version of TensorFlow in Colab will soon switch to TensorFlow 2.x.<br>\n",
       "We recommend you <a href=\"https://www.tensorflow.org/guide/migrate\" target=\"_blank\">upgrade</a> now \n",
       "or ensure your notebook will continue to use TensorFlow 1.x via the <code>%tensorflow_version 1.x</code> magic:\n",
       "<a href=\"https://colab.research.google.com/notebooks/tensorflow_version.ipynb\" target=\"_blank\">more info</a>.</p>\n"
      ],
      "text/plain": [
       "<IPython.core.display.HTML object>"
      ]
     },
     "metadata": {
      "tags": []
     },
     "output_type": "display_data"
    },
    {
     "name": "stdout",
     "output_type": "stream",
     "text": [
      "     Pregnancies  Glucose  ...  Age  Outcome\n",
      "0              6      148  ...   50        1\n",
      "1              1       85  ...   31        0\n",
      "2              8      183  ...   32        1\n",
      "3              1       89  ...   21        0\n",
      "4              0      137  ...   33        1\n",
      "..           ...      ...  ...  ...      ...\n",
      "763           10      101  ...   63        0\n",
      "764            2      122  ...   27        0\n",
      "765            5      121  ...   30        0\n",
      "766            1      126  ...   47        1\n",
      "767            1       93  ...   23        0\n",
      "\n",
      "[768 rows x 9 columns]\n",
      "(768, 9)\n"
     ]
    }
   ],
   "source": [
    "# first neural network with keras make predictions\n",
    "from keras.models import Sequential\n",
    "from keras.layers import Dense\n",
    "import pandas as pd\n",
    "from keras.utils import plot_model\n",
    "# pd.set_option('display.max_columns',None)#displaying long list of columns\n",
    "# pd.set_option('display.max_rows', None)#displaying long list of rows\n",
    "# pd.set_option('display.width', 1000)#width of window\n",
    "\n",
    "datafile = r'/content/drive/My Drive/CIS508/Deep Learning (Keras)/diabetes.csv'\n",
    "dataset = pd.read_csv(datafile)  #creates a dataframe of Train data\n",
    "print(dataset)\n",
    "print(dataset.shape)\n",
    "# load the dataset\n",
    "#dataset = loadtxt('pima-indians-diabetes.csv', delimiter=',')"
   ]
  },
  {
   "cell_type": "code",
   "execution_count": 3,
   "metadata": {
    "colab": {
     "base_uri": "https://localhost:8080/",
     "height": 520
    },
    "colab_type": "code",
    "executionInfo": {
     "elapsed": 854,
     "status": "ok",
     "timestamp": 1575576713080,
     "user": {
      "displayName": "Asim Roy",
      "photoUrl": "",
      "userId": "05146077416249051154"
     },
     "user_tz": 420
    },
    "id": "cO-KOdjDSiMN",
    "outputId": "5bf26257-3e8c-4dc2-b162-1bb204e645fa"
   },
   "outputs": [
    {
     "name": "stdout",
     "output_type": "stream",
     "text": [
      "     Pregnancies  Glucose  BloodPressure  ...   BMI  DiabetesPedigreeFunction  Age\n",
      "0              6      148             72  ...  33.6                     0.627   50\n",
      "1              1       85             66  ...  26.6                     0.351   31\n",
      "2              8      183             64  ...  23.3                     0.672   32\n",
      "3              1       89             66  ...  28.1                     0.167   21\n",
      "4              0      137             40  ...  43.1                     2.288   33\n",
      "..           ...      ...            ...  ...   ...                       ...  ...\n",
      "763           10      101             76  ...  32.9                     0.171   63\n",
      "764            2      122             70  ...  36.8                     0.340   27\n",
      "765            5      121             72  ...  26.2                     0.245   30\n",
      "766            1      126             60  ...  30.1                     0.349   47\n",
      "767            1       93             70  ...  30.4                     0.315   23\n",
      "\n",
      "[768 rows x 8 columns]\n",
      "_________\n",
      "\n",
      "\n",
      "0      1\n",
      "1      0\n",
      "2      1\n",
      "3      0\n",
      "4      1\n",
      "      ..\n",
      "763    0\n",
      "764    0\n",
      "765    0\n",
      "766    1\n",
      "767    0\n",
      "Name: Outcome, Length: 768, dtype: int64\n"
     ]
    }
   ],
   "source": [
    "# split into input (X) and output (y) variables\n",
    "y = dataset[\"Outcome\"]\n",
    "X = dataset.drop([\"Outcome\"], axis=1) #extracting training data without the target column\n",
    "\n",
    "# X = dataset.loc[:,0:8]\n",
    "# y = dataset.loc[:,8]\n",
    "print(X)\n",
    "print(\"_________\\n\\n\")\n",
    "print(y)"
   ]
  },
  {
   "cell_type": "code",
   "execution_count": 4,
   "metadata": {
    "colab": {
     "base_uri": "https://localhost:8080/",
     "height": 546
    },
    "colab_type": "code",
    "executionInfo": {
     "elapsed": 1032,
     "status": "ok",
     "timestamp": 1575576776561,
     "user": {
      "displayName": "Asim Roy",
      "photoUrl": "",
      "userId": "05146077416249051154"
     },
     "user_tz": 420
    },
    "id": "FGwFcqrHSlIk",
    "outputId": "6eedc0d2-67c0-4ba0-aaac-92a700aa473e"
   },
   "outputs": [
    {
     "name": "stdout",
     "output_type": "stream",
     "text": [
      "WARNING:tensorflow:From /usr/local/lib/python3.6/dist-packages/keras/backend/tensorflow_backend.py:66: The name tf.get_default_graph is deprecated. Please use tf.compat.v1.get_default_graph instead.\n",
      "\n",
      "WARNING:tensorflow:From /usr/local/lib/python3.6/dist-packages/keras/backend/tensorflow_backend.py:541: The name tf.placeholder is deprecated. Please use tf.compat.v1.placeholder instead.\n",
      "\n",
      "WARNING:tensorflow:From /usr/local/lib/python3.6/dist-packages/keras/backend/tensorflow_backend.py:4432: The name tf.random_uniform is deprecated. Please use tf.random.uniform instead.\n",
      "\n"
     ]
    },
    {
     "data": {
      "image/png": "[encoded data removed]",
      "text/plain": [
       "<IPython.core.display.Image object>"
      ]
     },
     "execution_count": 4,
     "metadata": {
      "tags": []
     },
     "output_type": "execute_result"
    }
   ],
   "source": [
    "# define the keras model\n",
    "model = Sequential()\n",
    "model.add(Dense(12, input_dim=8, activation='relu'))\n",
    "model.add(Dense(8, activation='relu'))\n",
    "model.add(Dense(1, activation='sigmoid'))\n",
    "\n",
    "plot_model(model,to_file=\"model1.png\",show_shapes=True,rankdir='TB',expand_nested=True)"
   ]
  },
  {
   "cell_type": "code",
   "execution_count": 5,
   "metadata": {
    "colab": {
     "base_uri": "https://localhost:8080/",
     "height": 159
    },
    "colab_type": "code",
    "executionInfo": {
     "elapsed": 901,
     "status": "ok",
     "timestamp": 1575576804461,
     "user": {
      "displayName": "Asim Roy",
      "photoUrl": "",
      "userId": "05146077416249051154"
     },
     "user_tz": 420
    },
    "id": "Jl3AnDmBSmem",
    "outputId": "37c58854-2366-4dd9-bfa0-a0fee56161cb"
   },
   "outputs": [
    {
     "name": "stdout",
     "output_type": "stream",
     "text": [
      "WARNING:tensorflow:From /usr/local/lib/python3.6/dist-packages/keras/optimizers.py:793: The name tf.train.Optimizer is deprecated. Please use tf.compat.v1.train.Optimizer instead.\n",
      "\n",
      "WARNING:tensorflow:From /usr/local/lib/python3.6/dist-packages/keras/backend/tensorflow_backend.py:3657: The name tf.log is deprecated. Please use tf.math.log instead.\n",
      "\n",
      "WARNING:tensorflow:From /usr/local/lib/python3.6/dist-packages/tensorflow_core/python/ops/nn_impl.py:183: where (from tensorflow.python.ops.array_ops) is deprecated and will be removed in a future version.\n",
      "Instructions for updating:\n",
      "Use tf.where in 2.0, which has the same broadcast rule as np.where\n"
     ]
    }
   ],
   "source": [
    "# compile the keras model\n",
    "model.compile(loss='binary_crossentropy', optimizer='adam', metrics=['accuracy'])"
   ]
  },
  {
   "cell_type": "code",
   "execution_count": 6,
   "metadata": {
    "colab": {
     "base_uri": "https://localhost:8080/",
     "height": 1000
    },
    "colab_type": "code",
    "executionInfo": {
     "elapsed": 61986,
     "status": "ok",
     "timestamp": 1575576878803,
     "user": {
      "displayName": "Asim Roy",
      "photoUrl": "",
      "userId": "05146077416249051154"
     },
     "user_tz": 420
    },
    "id": "DCyjMf4DSo4l",
    "outputId": "2f289895-008e-4ee6-dbce-22bfd3a8e181"
   },
   "outputs": [
    {
     "name": "stdout",
     "output_type": "stream",
     "text": [
      "WARNING:tensorflow:From /usr/local/lib/python3.6/dist-packages/keras/backend/tensorflow_backend.py:1033: The name tf.assign_add is deprecated. Please use tf.compat.v1.assign_add instead.\n",
      "\n",
      "WARNING:tensorflow:From /usr/local/lib/python3.6/dist-packages/keras/backend/tensorflow_backend.py:1020: The name tf.assign is deprecated. Please use tf.compat.v1.assign instead.\n",
      "\n",
      "WARNING:tensorflow:From /usr/local/lib/python3.6/dist-packages/keras/backend/tensorflow_backend.py:3005: The name tf.Session is deprecated. Please use tf.compat.v1.Session instead.\n",
      "\n",
      "Epoch 1/150\n",
      "WARNING:tensorflow:From /usr/local/lib/python3.6/dist-packages/keras/backend/tensorflow_backend.py:190: The name tf.get_default_session is deprecated. Please use tf.compat.v1.get_default_session instead.\n",
      "\n",
      "WARNING:tensorflow:From /usr/local/lib/python3.6/dist-packages/keras/backend/tensorflow_backend.py:197: The name tf.ConfigProto is deprecated. Please use tf.compat.v1.ConfigProto instead.\n",
      "\n",
      "WARNING:tensorflow:From /usr/local/lib/python3.6/dist-packages/keras/backend/tensorflow_backend.py:207: The name tf.global_variables is deprecated. Please use tf.compat.v1.global_variables instead.\n",
      "\n",
      "WARNING:tensorflow:From /usr/local/lib/python3.6/dist-packages/keras/backend/tensorflow_backend.py:216: The name tf.is_variable_initialized is deprecated. Please use tf.compat.v1.is_variable_initialized instead.\n",
      "\n",
      "WARNING:tensorflow:From /usr/local/lib/python3.6/dist-packages/keras/backend/tensorflow_backend.py:223: The name tf.variables_initializer is deprecated. Please use tf.compat.v1.variables_initializer instead.\n",
      "\n",
      "768/768 [==============================] - 6s 7ms/step - loss: 1.0018 - acc: 0.5143\n",
      "Epoch 2/150\n",
      "768/768 [==============================] - 0s 441us/step - loss: 0.6935 - acc: 0.5898\n",
      "Epoch 3/150\n",
      "768/768 [==============================] - 0s 575us/step - loss: 0.6627 - acc: 0.6576\n",
      "Epoch 4/150\n",
      "768/768 [==============================] - 0s 440us/step - loss: 0.6459 - acc: 0.6628\n",
      "Epoch 5/150\n",
      "768/768 [==============================] - 0s 523us/step - loss: 0.6389 - acc: 0.6758\n",
      "Epoch 6/150\n",
      "768/768 [==============================] - 0s 467us/step - loss: 0.6304 - acc: 0.6745\n",
      "Epoch 7/150\n",
      "768/768 [==============================] - 0s 428us/step - loss: 0.6273 - acc: 0.6836\n",
      "Epoch 8/150\n",
      "768/768 [==============================] - 0s 475us/step - loss: 0.6199 - acc: 0.6797\n",
      "Epoch 9/150\n",
      "768/768 [==============================] - 0s 448us/step - loss: 0.6149 - acc: 0.6875\n",
      "Epoch 10/150\n",
      "768/768 [==============================] - 0s 535us/step - loss: 0.6057 - acc: 0.6784\n",
      "Epoch 11/150\n",
      "768/768 [==============================] - 0s 468us/step - loss: 0.6059 - acc: 0.6836\n",
      "Epoch 12/150\n",
      "768/768 [==============================] - 0s 442us/step - loss: 0.6033 - acc: 0.7005\n",
      "Epoch 13/150\n",
      "768/768 [==============================] - 0s 408us/step - loss: 0.5949 - acc: 0.6979\n",
      "Epoch 14/150\n",
      "768/768 [==============================] - 0s 444us/step - loss: 0.5856 - acc: 0.7031\n",
      "Epoch 15/150\n",
      "768/768 [==============================] - 0s 514us/step - loss: 0.5975 - acc: 0.6914\n",
      "Epoch 16/150\n",
      "768/768 [==============================] - 0s 451us/step - loss: 0.5850 - acc: 0.6953\n",
      "Epoch 17/150\n",
      "768/768 [==============================] - 0s 481us/step - loss: 0.5833 - acc: 0.7057\n",
      "Epoch 18/150\n",
      "768/768 [==============================] - 0s 431us/step - loss: 0.5821 - acc: 0.7096\n",
      "Epoch 19/150\n",
      "768/768 [==============================] - 0s 532us/step - loss: 0.5785 - acc: 0.7031\n",
      "Epoch 20/150\n",
      "768/768 [==============================] - 0s 550us/step - loss: 0.5803 - acc: 0.7083\n",
      "Epoch 21/150\n",
      "768/768 [==============================] - 0s 523us/step - loss: 0.5723 - acc: 0.7070\n",
      "Epoch 22/150\n",
      "768/768 [==============================] - 0s 491us/step - loss: 0.5741 - acc: 0.7135\n",
      "Epoch 23/150\n",
      "768/768 [==============================] - 0s 448us/step - loss: 0.5690 - acc: 0.7188\n",
      "Epoch 24/150\n",
      "768/768 [==============================] - 0s 482us/step - loss: 0.5733 - acc: 0.6992\n",
      "Epoch 25/150\n",
      "768/768 [==============================] - 0s 436us/step - loss: 0.5673 - acc: 0.7122\n",
      "Epoch 26/150\n",
      "768/768 [==============================] - 0s 466us/step - loss: 0.5690 - acc: 0.7083\n",
      "Epoch 27/150\n",
      "768/768 [==============================] - 0s 420us/step - loss: 0.5691 - acc: 0.7109\n",
      "Epoch 28/150\n",
      "768/768 [==============================] - 0s 501us/step - loss: 0.5579 - acc: 0.7227\n",
      "Epoch 29/150\n",
      "768/768 [==============================] - 0s 577us/step - loss: 0.5646 - acc: 0.7096\n",
      "Epoch 30/150\n",
      "768/768 [==============================] - 0s 473us/step - loss: 0.5595 - acc: 0.7135\n",
      "Epoch 31/150\n",
      "768/768 [==============================] - 0s 483us/step - loss: 0.5591 - acc: 0.7227\n",
      "Epoch 32/150\n",
      "768/768 [==============================] - 0s 580us/step - loss: 0.5609 - acc: 0.7214\n",
      "Epoch 33/150\n",
      "768/768 [==============================] - 0s 512us/step - loss: 0.5616 - acc: 0.7083\n",
      "Epoch 34/150\n",
      "768/768 [==============================] - 0s 443us/step - loss: 0.5542 - acc: 0.7109\n",
      "Epoch 35/150\n",
      "768/768 [==============================] - 0s 464us/step - loss: 0.5517 - acc: 0.7292\n",
      "Epoch 36/150\n",
      "768/768 [==============================] - 0s 492us/step - loss: 0.5526 - acc: 0.7122\n",
      "Epoch 37/150\n",
      "768/768 [==============================] - 0s 467us/step - loss: 0.5602 - acc: 0.7187\n",
      "Epoch 38/150\n",
      "768/768 [==============================] - 0s 407us/step - loss: 0.5552 - acc: 0.7188\n",
      "Epoch 39/150\n",
      "768/768 [==============================] - 0s 459us/step - loss: 0.5479 - acc: 0.7253\n",
      "Epoch 40/150\n",
      "768/768 [==============================] - 0s 416us/step - loss: 0.5536 - acc: 0.7253\n",
      "Epoch 41/150\n",
      "768/768 [==============================] - 0s 429us/step - loss: 0.5488 - acc: 0.7253\n",
      "Epoch 42/150\n",
      "768/768 [==============================] - 0s 512us/step - loss: 0.5477 - acc: 0.7188\n",
      "Epoch 43/150\n",
      "768/768 [==============================] - 0s 565us/step - loss: 0.5483 - acc: 0.7070\n",
      "Epoch 44/150\n",
      "768/768 [==============================] - 0s 537us/step - loss: 0.5423 - acc: 0.7279\n",
      "Epoch 45/150\n",
      "768/768 [==============================] - 0s 483us/step - loss: 0.5483 - acc: 0.7318\n",
      "Epoch 46/150\n",
      "768/768 [==============================] - 0s 476us/step - loss: 0.5426 - acc: 0.7305\n",
      "Epoch 47/150\n",
      "768/768 [==============================] - 0s 467us/step - loss: 0.5453 - acc: 0.7174\n",
      "Epoch 48/150\n",
      "768/768 [==============================] - 0s 521us/step - loss: 0.5455 - acc: 0.7227\n",
      "Epoch 49/150\n",
      "768/768 [==============================] - 0s 479us/step - loss: 0.5432 - acc: 0.7188\n",
      "Epoch 50/150\n",
      "768/768 [==============================] - 0s 439us/step - loss: 0.5373 - acc: 0.7227\n",
      "Epoch 51/150\n",
      "768/768 [==============================] - 0s 453us/step - loss: 0.5445 - acc: 0.7305\n",
      "Epoch 52/150\n",
      "768/768 [==============================] - 0s 441us/step - loss: 0.5342 - acc: 0.7435\n",
      "Epoch 53/150\n",
      "768/768 [==============================] - 0s 464us/step - loss: 0.5346 - acc: 0.7344\n",
      "Epoch 54/150\n",
      "768/768 [==============================] - 0s 463us/step - loss: 0.5385 - acc: 0.7383\n",
      "Epoch 55/150\n",
      "768/768 [==============================] - 0s 480us/step - loss: 0.5347 - acc: 0.7253\n",
      "Epoch 56/150\n",
      "768/768 [==============================] - 0s 504us/step - loss: 0.5306 - acc: 0.7370\n",
      "Epoch 57/150\n",
      "768/768 [==============================] - 0s 453us/step - loss: 0.5360 - acc: 0.7331\n",
      "Epoch 58/150\n",
      "768/768 [==============================] - 0s 449us/step - loss: 0.5383 - acc: 0.7279\n",
      "Epoch 59/150\n",
      "768/768 [==============================] - 0s 421us/step - loss: 0.5324 - acc: 0.7357\n",
      "Epoch 60/150\n",
      "768/768 [==============================] - 0s 480us/step - loss: 0.5298 - acc: 0.7474\n",
      "Epoch 61/150\n",
      "768/768 [==============================] - 0s 455us/step - loss: 0.5258 - acc: 0.7435\n",
      "Epoch 62/150\n",
      "768/768 [==============================] - 0s 443us/step - loss: 0.5341 - acc: 0.7253\n",
      "Epoch 63/150\n",
      "768/768 [==============================] - 0s 504us/step - loss: 0.5260 - acc: 0.7370\n",
      "Epoch 64/150\n",
      "768/768 [==============================] - 0s 459us/step - loss: 0.5306 - acc: 0.7305\n",
      "Epoch 65/150\n",
      "768/768 [==============================] - 0s 439us/step - loss: 0.5260 - acc: 0.7409\n",
      "Epoch 66/150\n",
      "768/768 [==============================] - 0s 524us/step - loss: 0.5358 - acc: 0.7305\n",
      "Epoch 67/150\n",
      "768/768 [==============================] - 0s 509us/step - loss: 0.5243 - acc: 0.7474\n",
      "Epoch 68/150\n",
      "768/768 [==============================] - 0s 409us/step - loss: 0.5265 - acc: 0.7318\n",
      "Epoch 69/150\n",
      "768/768 [==============================] - 0s 547us/step - loss: 0.5231 - acc: 0.7500\n",
      "Epoch 70/150\n",
      "768/768 [==============================] - 0s 481us/step - loss: 0.5255 - acc: 0.7435\n",
      "Epoch 71/150\n",
      "768/768 [==============================] - 0s 482us/step - loss: 0.5186 - acc: 0.7487\n",
      "Epoch 72/150\n",
      "768/768 [==============================] - 0s 524us/step - loss: 0.5310 - acc: 0.7396\n",
      "Epoch 73/150\n",
      "768/768 [==============================] - 0s 547us/step - loss: 0.5242 - acc: 0.7331\n",
      "Epoch 74/150\n",
      "768/768 [==============================] - 0s 490us/step - loss: 0.5255 - acc: 0.7435\n",
      "Epoch 75/150\n",
      "768/768 [==============================] - 0s 617us/step - loss: 0.5220 - acc: 0.7422\n",
      "Epoch 76/150\n",
      "768/768 [==============================] - 0s 457us/step - loss: 0.5202 - acc: 0.7435\n",
      "Epoch 77/150\n",
      "768/768 [==============================] - 0s 431us/step - loss: 0.5181 - acc: 0.7526\n",
      "Epoch 78/150\n",
      "768/768 [==============================] - 0s 461us/step - loss: 0.5146 - acc: 0.7461\n",
      "Epoch 79/150\n",
      "768/768 [==============================] - 0s 447us/step - loss: 0.5300 - acc: 0.7448\n",
      "Epoch 80/150\n",
      "768/768 [==============================] - 0s 459us/step - loss: 0.5153 - acc: 0.7526\n",
      "Epoch 81/150\n",
      "768/768 [==============================] - 0s 450us/step - loss: 0.5143 - acc: 0.7526\n",
      "Epoch 82/150\n",
      "768/768 [==============================] - 0s 417us/step - loss: 0.5188 - acc: 0.7474\n",
      "Epoch 83/150\n",
      "768/768 [==============================] - 0s 442us/step - loss: 0.5105 - acc: 0.7474\n",
      "Epoch 84/150\n",
      "768/768 [==============================] - 0s 477us/step - loss: 0.5187 - acc: 0.7396\n",
      "Epoch 85/150\n",
      "768/768 [==============================] - 0s 453us/step - loss: 0.5238 - acc: 0.7435\n",
      "Epoch 86/150\n",
      "768/768 [==============================] - 0s 515us/step - loss: 0.5116 - acc: 0.7604\n",
      "Epoch 87/150\n",
      "768/768 [==============================] - 0s 443us/step - loss: 0.5109 - acc: 0.7448\n",
      "Epoch 88/150\n",
      "768/768 [==============================] - 0s 445us/step - loss: 0.5148 - acc: 0.7383\n",
      "Epoch 89/150\n",
      "768/768 [==============================] - 0s 480us/step - loss: 0.5137 - acc: 0.7565\n",
      "Epoch 90/150\n",
      "768/768 [==============================] - 0s 448us/step - loss: 0.5127 - acc: 0.7513\n",
      "Epoch 91/150\n",
      "768/768 [==============================] - 0s 438us/step - loss: 0.5110 - acc: 0.7474\n",
      "Epoch 92/150\n",
      "768/768 [==============================] - 0s 517us/step - loss: 0.5104 - acc: 0.7526\n",
      "Epoch 93/150\n",
      "768/768 [==============================] - 0s 588us/step - loss: 0.5112 - acc: 0.7448\n",
      "Epoch 94/150\n",
      "768/768 [==============================] - 0s 445us/step - loss: 0.5080 - acc: 0.7630\n",
      "Epoch 95/150\n",
      "768/768 [==============================] - 0s 520us/step - loss: 0.5079 - acc: 0.7461\n",
      "Epoch 96/150\n",
      "768/768 [==============================] - 0s 520us/step - loss: 0.5108 - acc: 0.7487\n",
      "Epoch 97/150\n",
      "768/768 [==============================] - 0s 585us/step - loss: 0.5063 - acc: 0.7591\n",
      "Epoch 98/150\n",
      "768/768 [==============================] - 0s 471us/step - loss: 0.5086 - acc: 0.7578\n",
      "Epoch 99/150\n",
      "768/768 [==============================] - 0s 437us/step - loss: 0.5056 - acc: 0.7500\n",
      "Epoch 100/150\n",
      "768/768 [==============================] - 0s 471us/step - loss: 0.5078 - acc: 0.7591\n",
      "Epoch 101/150\n",
      "768/768 [==============================] - 0s 448us/step - loss: 0.5079 - acc: 0.7526\n",
      "Epoch 102/150\n",
      "768/768 [==============================] - 0s 538us/step - loss: 0.5065 - acc: 0.7565\n",
      "Epoch 103/150\n",
      "768/768 [==============================] - 0s 526us/step - loss: 0.5085 - acc: 0.7526\n",
      "Epoch 104/150\n",
      "768/768 [==============================] - 0s 513us/step - loss: 0.5034 - acc: 0.7656\n",
      "Epoch 105/150\n",
      "768/768 [==============================] - 0s 501us/step - loss: 0.5037 - acc: 0.7552\n",
      "Epoch 106/150\n",
      "768/768 [==============================] - 0s 427us/step - loss: 0.4996 - acc: 0.7578\n",
      "Epoch 107/150\n",
      "768/768 [==============================] - 0s 479us/step - loss: 0.5009 - acc: 0.7539\n",
      "Epoch 108/150\n",
      "768/768 [==============================] - 0s 474us/step - loss: 0.5001 - acc: 0.7656\n",
      "Epoch 109/150\n",
      "768/768 [==============================] - 0s 430us/step - loss: 0.5047 - acc: 0.7461\n",
      "Epoch 110/150\n",
      "768/768 [==============================] - 0s 493us/step - loss: 0.5044 - acc: 0.7500\n",
      "Epoch 111/150\n",
      "768/768 [==============================] - 0s 557us/step - loss: 0.5047 - acc: 0.7539\n",
      "Epoch 112/150\n",
      "768/768 [==============================] - 0s 479us/step - loss: 0.5005 - acc: 0.7513\n",
      "Epoch 113/150\n",
      "768/768 [==============================] - 0s 418us/step - loss: 0.4979 - acc: 0.7604\n",
      "Epoch 114/150\n",
      "768/768 [==============================] - 0s 491us/step - loss: 0.5020 - acc: 0.7604\n",
      "Epoch 115/150\n",
      "768/768 [==============================] - 0s 470us/step - loss: 0.4987 - acc: 0.7669\n",
      "Epoch 116/150\n",
      "768/768 [==============================] - 0s 455us/step - loss: 0.5084 - acc: 0.7487\n",
      "Epoch 117/150\n",
      "768/768 [==============================] - 0s 503us/step - loss: 0.4978 - acc: 0.7604\n",
      "Epoch 118/150\n",
      "768/768 [==============================] - 0s 452us/step - loss: 0.4984 - acc: 0.7617\n",
      "Epoch 119/150\n",
      "768/768 [==============================] - 0s 487us/step - loss: 0.4953 - acc: 0.7669\n",
      "Epoch 120/150\n",
      "768/768 [==============================] - 0s 428us/step - loss: 0.4951 - acc: 0.7656\n",
      "Epoch 121/150\n",
      "768/768 [==============================] - 0s 430us/step - loss: 0.5000 - acc: 0.7630\n",
      "Epoch 122/150\n",
      "768/768 [==============================] - 0s 435us/step - loss: 0.4984 - acc: 0.7656\n",
      "Epoch 123/150\n",
      "768/768 [==============================] - 0s 481us/step - loss: 0.4985 - acc: 0.7578\n",
      "Epoch 124/150\n",
      "768/768 [==============================] - 0s 461us/step - loss: 0.4942 - acc: 0.7695\n",
      "Epoch 125/150\n",
      "768/768 [==============================] - 0s 461us/step - loss: 0.4905 - acc: 0.7669\n",
      "Epoch 126/150\n",
      "768/768 [==============================] - 0s 512us/step - loss: 0.5033 - acc: 0.7526\n",
      "Epoch 127/150\n",
      "768/768 [==============================] - 0s 550us/step - loss: 0.4941 - acc: 0.7682\n",
      "Epoch 128/150\n",
      "768/768 [==============================] - 0s 479us/step - loss: 0.4972 - acc: 0.7669\n",
      "Epoch 129/150\n",
      "768/768 [==============================] - 0s 416us/step - loss: 0.4970 - acc: 0.7656\n",
      "Epoch 130/150\n",
      "768/768 [==============================] - 0s 444us/step - loss: 0.4921 - acc: 0.7721\n",
      "Epoch 131/150\n",
      "768/768 [==============================] - 0s 436us/step - loss: 0.5024 - acc: 0.7487\n",
      "Epoch 132/150\n",
      "768/768 [==============================] - 0s 530us/step - loss: 0.4890 - acc: 0.7617\n",
      "Epoch 133/150\n",
      "768/768 [==============================] - 0s 583us/step - loss: 0.4962 - acc: 0.7617\n",
      "Epoch 134/150\n",
      "768/768 [==============================] - 0s 521us/step - loss: 0.4904 - acc: 0.7656\n",
      "Epoch 135/150\n",
      "768/768 [==============================] - 0s 436us/step - loss: 0.4918 - acc: 0.7695\n",
      "Epoch 136/150\n",
      "768/768 [==============================] - 0s 481us/step - loss: 0.4960 - acc: 0.7604\n",
      "Epoch 137/150\n",
      "768/768 [==============================] - 0s 526us/step - loss: 0.4929 - acc: 0.7682\n",
      "Epoch 138/150\n",
      "768/768 [==============================] - 0s 475us/step - loss: 0.4905 - acc: 0.7630\n",
      "Epoch 139/150\n",
      "768/768 [==============================] - 0s 466us/step - loss: 0.4946 - acc: 0.7682\n",
      "Epoch 140/150\n",
      "768/768 [==============================] - 0s 508us/step - loss: 0.4895 - acc: 0.7708\n",
      "Epoch 141/150\n",
      "768/768 [==============================] - 0s 486us/step - loss: 0.5009 - acc: 0.7591\n",
      "Epoch 142/150\n",
      "768/768 [==============================] - 0s 449us/step - loss: 0.4870 - acc: 0.7721\n",
      "Epoch 143/150\n",
      "768/768 [==============================] - 0s 440us/step - loss: 0.4875 - acc: 0.7630\n",
      "Epoch 144/150\n",
      "768/768 [==============================] - 0s 439us/step - loss: 0.4946 - acc: 0.7591\n",
      "Epoch 145/150\n",
      "768/768 [==============================] - 0s 475us/step - loss: 0.4853 - acc: 0.7643\n",
      "Epoch 146/150\n",
      "768/768 [==============================] - 0s 510us/step - loss: 0.4869 - acc: 0.7513\n",
      "Epoch 147/150\n",
      "768/768 [==============================] - 0s 504us/step - loss: 0.4911 - acc: 0.7656\n",
      "Epoch 148/150\n",
      "768/768 [==============================] - 0s 456us/step - loss: 0.4891 - acc: 0.7682\n",
      "Epoch 149/150\n",
      "768/768 [==============================] - 0s 477us/step - loss: 0.4871 - acc: 0.7630\n",
      "Epoch 150/150\n",
      "768/768 [==============================] - 0s 581us/step - loss: 0.4863 - acc: 0.7682\n"
     ]
    },
    {
     "data": {
      "text/plain": [
       "<keras.callbacks.History at 0x7f58cd9fb908>"
      ]
     },
     "execution_count": 6,
     "metadata": {
      "tags": []
     },
     "output_type": "execute_result"
    }
   ],
   "source": [
    "# fit the keras model on the dataset\n",
    "model.fit(X, y, epochs=150, batch_size=10, verbose=1)"
   ]
  },
  {
   "cell_type": "code",
   "execution_count": 7,
   "metadata": {
    "colab": {
     "base_uri": "https://localhost:8080/",
     "height": 52
    },
    "colab_type": "code",
    "executionInfo": {
     "elapsed": 857,
     "status": "ok",
     "timestamp": 1575576915216,
     "user": {
      "displayName": "Asim Roy",
      "photoUrl": "",
      "userId": "05146077416249051154"
     },
     "user_tz": 420
    },
    "id": "ZRiIWSIoV0nt",
    "outputId": "dd24fc77-147e-4592-c8a3-9b31d504dafd"
   },
   "outputs": [
    {
     "name": "stdout",
     "output_type": "stream",
     "text": [
      "768/768 [==============================] - 0s 100us/step\n",
      "Accuracy: 78.26\n"
     ]
    }
   ],
   "source": [
    "# evaluate the keras model\n",
    "_, accuracy = model.evaluate(X, y)\n",
    "print('Accuracy: %.2f' % (accuracy*100))"
   ]
  }
 ],
 "metadata": {
  "accelerator": "GPU",
  "colab": {
   "collapsed_sections": [],
   "name": "Keras.ipynb",
   "provenance": []
  },
  "kernelspec": {
   "display_name": "Python 3",
   "language": "python",
   "name": "python3"
  },
  "language_info": {
   "codemirror_mode": {
    "name": "ipython",
    "version": 3
   },
   "file_extension": ".py",
   "mimetype": "text/x-python",
   "name": "python",
   "nbconvert_exporter": "python",
   "pygments_lexer": "ipython3",
   "version": "3.8.3"
  }
 },
 "nbformat": 4,
 "nbformat_minor": 1
}
