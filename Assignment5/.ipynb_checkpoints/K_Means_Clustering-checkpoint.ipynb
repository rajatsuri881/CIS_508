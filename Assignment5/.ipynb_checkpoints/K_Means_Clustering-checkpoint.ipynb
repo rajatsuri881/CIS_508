{
 "cells": [
  {
   "cell_type": "code",
   "execution_count": 63,
   "metadata": {
    "colab": {
     "base_uri": "https://localhost:8080/",
     "height": 51
    },
    "colab_type": "code",
    "id": "w1hDk9hDvOH7",
    "outputId": "d0424b92-22fd-46dc-9d94-0d367cee1e72"
   },
   "outputs": [
    {
     "name": "stdout",
     "output_type": "stream",
     "text": [
      "Drive already mounted at /gdrive; to attempt to forcibly remount, call drive.mount(\"/gdrive\", force_remount=True).\n",
      "/gdrive\n"
     ]
    }
   ],
   "source": [
    "\n",
    "import pandas as pd\n",
    "import numpy as np\n",
    "\n",
    "from sklearn.cluster import KMeans\n",
    "# Calculate silhouette_score\n",
    "from sklearn.metrics import silhouette_score\n",
    "\n",
    "import warnings\n",
    "warnings.filterwarnings(\"ignore\")\n",
    "\n",
    "from google.colab import drive\n",
    "drive.mount('/gdrive')\n",
    "#Change current working directory to gdrive\n",
    "%cd /gdrive\n"
   ]
  },
  {
   "cell_type": "code",
   "execution_count": 64,
   "metadata": {
    "colab": {
     "base_uri": "https://localhost:8080/",
     "height": 51
    },
    "colab_type": "code",
    "id": "BMwGQK7KAd7T",
    "outputId": "67c19ca2-231f-47d4-fe94-5c9506c020d8"
   },
   "outputs": [
    {
     "name": "stdout",
     "output_type": "stream",
     "text": [
      "(750, 1001)\n",
      "(150, 1001)\n"
     ]
    }
   ],
   "source": [
    "#Read files\n",
    "trainfile = r'/gdrive/My Drive/Asim Roy/Datasets/ECG-TRAIN.csv'\n",
    "trainData = pd.read_csv(trainfile) #creates a dataframe\n",
    "testfile = r'/gdrive/My Drive/Asim Roy/Datasets/ECG-TEST.csv'\n",
    "testData = pd.read_csv(testfile)  #creates a dataframe\n",
    "\n",
    "print(trainData.shape)\n",
    "print(testData.shape)\n"
   ]
  },
  {
   "cell_type": "code",
   "execution_count": 65,
   "metadata": {
    "colab": {
     "base_uri": "https://localhost:8080/",
     "height": 51
    },
    "colab_type": "code",
    "id": "SWOTk6C1Ao45",
    "outputId": "7d8cb231-ea92-4802-b07b-5b8385604842"
   },
   "outputs": [
    {
     "name": "stdout",
     "output_type": "stream",
     "text": [
      "(750, 1000)\n",
      "(150, 1000)\n"
     ]
    }
   ],
   "source": [
    "#Extract training and test data\n",
    "y_train = trainData[\"TARGET\"]\n",
    "X_train = trainData.drop([\"TARGET\"], axis=1) #extracting training data without the target column\n",
    "y_test = testData[\"TARGET\"]\n",
    "X_test = testData.drop([\"TARGET\"], axis=1) #extracting training data without the target column\n",
    "print(X_train.shape)\n",
    "print(X_test.shape)\n"
   ]
  },
  {
   "cell_type": "code",
   "execution_count": 66,
   "metadata": {
    "colab": {
     "base_uri": "https://localhost:8080/",
     "height": 34
    },
    "colab_type": "code",
    "id": "-Yd724taAv3o",
    "outputId": "b7902303-d66a-4857-c254-ef792a3ac73c"
   },
   "outputs": [
    {
     "name": "stdout",
     "output_type": "stream",
     "text": [
      "0.24570212471208303\n"
     ]
    }
   ],
   "source": [
    "#K-Means Clustering ========================================================================\n",
    "#Default Mode - K=8\n",
    "kmeans = KMeans()\n",
    "kmeans.fit(X_train)\n",
    "#kmeans.labels_\n",
    "#kmeans.cluster_centers_\n",
    "#Print Silhouette measure\n",
    "print(silhouette_score(X_train, kmeans.labels_))\n"
   ]
  },
  {
   "cell_type": "code",
   "execution_count": 67,
   "metadata": {
    "colab": {
     "base_uri": "https://localhost:8080/",
     "height": 34
    },
    "colab_type": "code",
    "id": "ZbHRfy6u0Bu5",
    "outputId": "6cd37a91-32cd-4432-fbab-d71d16823872"
   },
   "outputs": [
    {
     "name": "stdout",
     "output_type": "stream",
     "text": [
      "(750, 1001)\n"
     ]
    }
   ],
   "source": [
    "#Add Cluster Number to each datapoint + save file\n",
    "df_kmeans=X_train\n",
    "kmeans_predict_train=kmeans.predict(df_kmeans)\n",
    "df_kmeans['Cluster Number']=kmeans_predict_train\n",
    "print(df_kmeans.shape)\n",
    "#df_kmeans.head()\n",
    "#df_kmeans.dtypes\n",
    "\n",
    "export_csv = df_kmeans.to_csv(r'/gdrive/My Drive/CIS508/KmeansClusters_ECG_Train-8.csv')\n"
   ]
  },
  {
   "cell_type": "code",
   "execution_count": 68,
   "metadata": {
    "colab": {
     "base_uri": "https://localhost:8080/",
     "height": 51
    },
    "colab_type": "code",
    "id": "TR10pJaLuFVM",
    "outputId": "139f5193-5bdc-4027-af30-8d4c693f1e59"
   },
   "outputs": [
    {
     "name": "stdout",
     "output_type": "stream",
     "text": [
      "(750, 1001)\n",
      "0.26633229254392154\n"
     ]
    }
   ],
   "source": [
    "#K-Means Clustering ========================================================================\n",
    "# K=20\n",
    "\n",
    "kmeans = KMeans(n_clusters=20, init='random', algorithm='elkan')\n",
    "kmeans.fit(X_train)\n",
    "kmeans.labels_\n",
    "#kmeans.cluster_centers_\n",
    "print(X_train.shape)\n",
    "#Print Silhouette measure\n",
    "print(silhouette_score(X_train, kmeans.labels_))"
   ]
  },
  {
   "cell_type": "code",
   "execution_count": 69,
   "metadata": {
    "colab": {
     "base_uri": "https://localhost:8080/",
     "height": 34
    },
    "colab_type": "code",
    "id": "qNI2J3V1L4b8",
    "outputId": "28d71a4b-29b9-46be-ff17-fc750cce23e8"
   },
   "outputs": [
    {
     "name": "stdout",
     "output_type": "stream",
     "text": [
      "(750, 1001)\n"
     ]
    }
   ],
   "source": [
    "#Add Cluster Number to each datapoint + save file\n",
    "df_kmeans=X_train\n",
    "kmeans_predict_train=kmeans.predict(X_train)\n",
    "\n",
    "df_kmeans['Cluster Number']=kmeans_predict_train\n",
    "print(df_kmeans.shape)\n",
    "df_kmeans.head()\n",
    "df_kmeans.dtypes\n",
    "\n",
    "export_csv = df_kmeans.to_csv(r'/gdrive/My Drive/CIS508/KmeansClusters_ECG_Train-20.csv')"
   ]
  }
 ],
 "metadata": {
  "accelerator": "GPU",
  "colab": {
   "collapsed_sections": [],
   "name": "K-Means Clustering.ipynb",
   "provenance": []
  },
  "kernelspec": {
   "display_name": "Python 3",
   "language": "python",
   "name": "python3"
  },
  "language_info": {
   "codemirror_mode": {
    "name": "ipython",
    "version": 3
   },
   "file_extension": ".py",
   "mimetype": "text/x-python",
   "name": "python",
   "nbconvert_exporter": "python",
   "pygments_lexer": "ipython3",
   "version": "3.8.3"
  }
 },
 "nbformat": 4,
 "nbformat_minor": 1
}
