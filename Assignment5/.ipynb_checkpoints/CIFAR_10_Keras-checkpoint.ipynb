{
 "cells": [
  {
   "cell_type": "code",
   "execution_count": 1,
   "metadata": {
    "colab": {
     "base_uri": "https://localhost:8080/",
     "height": 1000
    },
    "colab_type": "code",
    "id": "5RJ-ze9tOGMf",
    "outputId": "3d3c7e94-fcc1-40e0-bee2-f60ce7479858"
   },
   "outputs": [
    {
     "name": "stderr",
     "output_type": "stream",
     "text": [
      "Using TensorFlow backend.\n"
     ]
    },
    {
     "data": {
      "text/html": [
       "<p style=\"color: red;\">\n",
       "The default version of TensorFlow in Colab will soon switch to TensorFlow 2.x.<br>\n",
       "We recommend you <a href=\"https://www.tensorflow.org/guide/migrate\" target=\"_blank\">upgrade</a> now \n",
       "or ensure your notebook will continue to use TensorFlow 1.x via the <code>%tensorflow_version 1.x</code> magic:\n",
       "<a href=\"https://colab.research.google.com/notebooks/tensorflow_version.ipynb\" target=\"_blank\">more info</a>.</p>\n"
      ],
      "text/plain": [
       "<IPython.core.display.HTML object>"
      ]
     },
     "metadata": {
      "tags": []
     },
     "output_type": "display_data"
    },
    {
     "name": "stdout",
     "output_type": "stream",
     "text": [
      "Downloading data from https://www.cs.toronto.edu/~kriz/cifar-10-python.tar.gz\n",
      "170500096/170498071 [==============================] - 4s 0us/step\n",
      "x_train shape: (50000, 32, 32, 3)\n",
      "50000 train samples\n",
      "10000 test samples\n",
      "WARNING:tensorflow:From /usr/local/lib/python3.6/dist-packages/keras/backend/tensorflow_backend.py:66: The name tf.get_default_graph is deprecated. Please use tf.compat.v1.get_default_graph instead.\n",
      "\n",
      "WARNING:tensorflow:From /usr/local/lib/python3.6/dist-packages/keras/backend/tensorflow_backend.py:541: The name tf.placeholder is deprecated. Please use tf.compat.v1.placeholder instead.\n",
      "\n",
      "WARNING:tensorflow:From /usr/local/lib/python3.6/dist-packages/keras/backend/tensorflow_backend.py:4432: The name tf.random_uniform is deprecated. Please use tf.random.uniform instead.\n",
      "\n",
      "WARNING:tensorflow:From /usr/local/lib/python3.6/dist-packages/keras/backend/tensorflow_backend.py:4267: The name tf.nn.max_pool is deprecated. Please use tf.nn.max_pool2d instead.\n",
      "\n",
      "WARNING:tensorflow:From /usr/local/lib/python3.6/dist-packages/keras/backend/tensorflow_backend.py:148: The name tf.placeholder_with_default is deprecated. Please use tf.compat.v1.placeholder_with_default instead.\n",
      "\n",
      "WARNING:tensorflow:From /usr/local/lib/python3.6/dist-packages/keras/backend/tensorflow_backend.py:3733: calling dropout (from tensorflow.python.ops.nn_ops) with keep_prob is deprecated and will be removed in a future version.\n",
      "Instructions for updating:\n",
      "Please use `rate` instead of `keep_prob`. Rate should be set to `rate = 1 - keep_prob`.\n",
      "WARNING:tensorflow:From /usr/local/lib/python3.6/dist-packages/keras/optimizers.py:793: The name tf.train.Optimizer is deprecated. Please use tf.compat.v1.train.Optimizer instead.\n",
      "\n",
      "WARNING:tensorflow:From /usr/local/lib/python3.6/dist-packages/keras/backend/tensorflow_backend.py:3576: The name tf.log is deprecated. Please use tf.math.log instead.\n",
      "\n",
      "WARNING:tensorflow:From /usr/local/lib/python3.6/dist-packages/tensorflow_core/python/ops/math_grad.py:1424: where (from tensorflow.python.ops.array_ops) is deprecated and will be removed in a future version.\n",
      "Instructions for updating:\n",
      "Use tf.where in 2.0, which has the same broadcast rule as np.where\n",
      "WARNING:tensorflow:From /usr/local/lib/python3.6/dist-packages/keras/backend/tensorflow_backend.py:1033: The name tf.assign_add is deprecated. Please use tf.compat.v1.assign_add instead.\n",
      "\n",
      "WARNING:tensorflow:From /usr/local/lib/python3.6/dist-packages/keras/backend/tensorflow_backend.py:1020: The name tf.assign is deprecated. Please use tf.compat.v1.assign instead.\n",
      "\n",
      "WARNING:tensorflow:From /usr/local/lib/python3.6/dist-packages/keras/backend/tensorflow_backend.py:3005: The name tf.Session is deprecated. Please use tf.compat.v1.Session instead.\n",
      "\n",
      "Train on 50000 samples, validate on 10000 samples\n",
      "Epoch 1/40\n",
      "WARNING:tensorflow:From /usr/local/lib/python3.6/dist-packages/keras/backend/tensorflow_backend.py:190: The name tf.get_default_session is deprecated. Please use tf.compat.v1.get_default_session instead.\n",
      "\n",
      "WARNING:tensorflow:From /usr/local/lib/python3.6/dist-packages/keras/backend/tensorflow_backend.py:197: The name tf.ConfigProto is deprecated. Please use tf.compat.v1.ConfigProto instead.\n",
      "\n",
      "WARNING:tensorflow:From /usr/local/lib/python3.6/dist-packages/keras/backend/tensorflow_backend.py:207: The name tf.global_variables is deprecated. Please use tf.compat.v1.global_variables instead.\n",
      "\n",
      "WARNING:tensorflow:From /usr/local/lib/python3.6/dist-packages/keras/backend/tensorflow_backend.py:216: The name tf.is_variable_initialized is deprecated. Please use tf.compat.v1.is_variable_initialized instead.\n",
      "\n",
      "WARNING:tensorflow:From /usr/local/lib/python3.6/dist-packages/keras/backend/tensorflow_backend.py:223: The name tf.variables_initializer is deprecated. Please use tf.compat.v1.variables_initializer instead.\n",
      "\n",
      "50000/50000 [==============================] - 27s 539us/step - loss: 1.5300 - acc: 0.4470 - val_loss: 1.2222 - val_acc: 0.5708\n",
      "Epoch 2/40\n",
      "50000/50000 [==============================] - 20s 397us/step - loss: 1.1161 - acc: 0.6048 - val_loss: 0.9206 - val_acc: 0.6808\n",
      "Epoch 3/40\n",
      "50000/50000 [==============================] - 19s 388us/step - loss: 0.9706 - acc: 0.6590 - val_loss: 0.9594 - val_acc: 0.6718\n",
      "Epoch 4/40\n",
      "50000/50000 [==============================] - 20s 392us/step - loss: 0.9021 - acc: 0.6880 - val_loss: 0.8273 - val_acc: 0.7121\n",
      "Epoch 5/40\n",
      "50000/50000 [==============================] - 19s 387us/step - loss: 0.8731 - acc: 0.6984 - val_loss: 0.8121 - val_acc: 0.7191\n",
      "Epoch 6/40\n",
      "50000/50000 [==============================] - 19s 390us/step - loss: 0.8483 - acc: 0.7128 - val_loss: 0.8855 - val_acc: 0.7121\n",
      "Epoch 7/40\n",
      "50000/50000 [==============================] - 19s 387us/step - loss: 0.8424 - acc: 0.7149 - val_loss: 0.8078 - val_acc: 0.7261\n",
      "Epoch 8/40\n",
      "50000/50000 [==============================] - 20s 390us/step - loss: 0.8379 - acc: 0.7166 - val_loss: 0.8197 - val_acc: 0.7328\n",
      "Epoch 9/40\n",
      "50000/50000 [==============================] - 19s 386us/step - loss: 0.8330 - acc: 0.7222 - val_loss: 0.7884 - val_acc: 0.7421\n",
      "Epoch 10/40\n",
      "50000/50000 [==============================] - 19s 387us/step - loss: 0.8296 - acc: 0.7240 - val_loss: 0.8500 - val_acc: 0.7184\n",
      "Epoch 11/40\n",
      "50000/50000 [==============================] - 20s 393us/step - loss: 0.8419 - acc: 0.7235 - val_loss: 0.7890 - val_acc: 0.7448\n",
      "Epoch 12/40\n",
      "50000/50000 [==============================] - 19s 383us/step - loss: 0.8375 - acc: 0.7253 - val_loss: 0.8052 - val_acc: 0.7333\n",
      "Epoch 13/40\n",
      "50000/50000 [==============================] - 19s 382us/step - loss: 0.8448 - acc: 0.7236 - val_loss: 0.8027 - val_acc: 0.7274\n",
      "Epoch 14/40\n",
      "50000/50000 [==============================] - 19s 384us/step - loss: 0.8522 - acc: 0.7227 - val_loss: 0.8159 - val_acc: 0.7332\n",
      "Epoch 15/40\n",
      "50000/50000 [==============================] - 19s 381us/step - loss: 0.8497 - acc: 0.7228 - val_loss: 0.9430 - val_acc: 0.6944\n",
      "Epoch 16/40\n",
      "50000/50000 [==============================] - 19s 380us/step - loss: 0.8636 - acc: 0.7207 - val_loss: 0.9010 - val_acc: 0.7155\n",
      "Epoch 17/40\n",
      "50000/50000 [==============================] - 19s 382us/step - loss: 0.8781 - acc: 0.7173 - val_loss: 0.8792 - val_acc: 0.7124\n",
      "Epoch 18/40\n",
      "50000/50000 [==============================] - 19s 386us/step - loss: 0.8822 - acc: 0.7150 - val_loss: 0.8005 - val_acc: 0.7336\n",
      "Epoch 19/40\n",
      "50000/50000 [==============================] - 19s 384us/step - loss: 0.8892 - acc: 0.7146 - val_loss: 0.8410 - val_acc: 0.7203\n",
      "Epoch 20/40\n",
      "50000/50000 [==============================] - 19s 386us/step - loss: 0.9066 - acc: 0.7109 - val_loss: 0.8694 - val_acc: 0.7169\n",
      "Epoch 21/40\n",
      "50000/50000 [==============================] - 19s 386us/step - loss: 0.9171 - acc: 0.7079 - val_loss: 0.8934 - val_acc: 0.7176\n",
      "Epoch 22/40\n",
      "50000/50000 [==============================] - 19s 388us/step - loss: 0.9258 - acc: 0.7029 - val_loss: 0.8639 - val_acc: 0.7249\n",
      "Epoch 23/40\n",
      "50000/50000 [==============================] - 19s 386us/step - loss: 0.9374 - acc: 0.7008 - val_loss: 0.9104 - val_acc: 0.7131\n",
      "Epoch 24/40\n",
      "50000/50000 [==============================] - 19s 386us/step - loss: 0.9439 - acc: 0.6983 - val_loss: 0.8961 - val_acc: 0.7020\n",
      "Epoch 25/40\n",
      "50000/50000 [==============================] - 19s 380us/step - loss: 0.9577 - acc: 0.6962 - val_loss: 0.9005 - val_acc: 0.7011\n",
      "Epoch 26/40\n",
      "50000/50000 [==============================] - 19s 381us/step - loss: 0.9738 - acc: 0.6922 - val_loss: 0.9361 - val_acc: 0.6984\n",
      "Epoch 27/40\n",
      "50000/50000 [==============================] - 20s 392us/step - loss: 0.9742 - acc: 0.6888 - val_loss: 0.9448 - val_acc: 0.7005\n",
      "Epoch 28/40\n",
      "50000/50000 [==============================] - 19s 380us/step - loss: 0.9930 - acc: 0.6877 - val_loss: 0.9931 - val_acc: 0.6772\n",
      "Epoch 29/40\n",
      "50000/50000 [==============================] - 19s 383us/step - loss: 0.9886 - acc: 0.6858 - val_loss: 1.2184 - val_acc: 0.5967\n",
      "Epoch 30/40\n",
      "50000/50000 [==============================] - 19s 384us/step - loss: 1.0090 - acc: 0.6828 - val_loss: 0.9040 - val_acc: 0.6973\n",
      "Epoch 31/40\n",
      "50000/50000 [==============================] - 19s 386us/step - loss: 1.0072 - acc: 0.6813 - val_loss: 0.9333 - val_acc: 0.6964\n",
      "Epoch 32/40\n",
      "50000/50000 [==============================] - 19s 384us/step - loss: 1.0338 - acc: 0.6733 - val_loss: 0.9209 - val_acc: 0.7028\n",
      "Epoch 33/40\n",
      "50000/50000 [==============================] - 19s 378us/step - loss: 1.0440 - acc: 0.6715 - val_loss: 1.0127 - val_acc: 0.6705\n",
      "Epoch 34/40\n",
      "50000/50000 [==============================] - 19s 383us/step - loss: 1.0425 - acc: 0.6718 - val_loss: 0.9759 - val_acc: 0.6977\n",
      "Epoch 35/40\n",
      "50000/50000 [==============================] - 19s 384us/step - loss: 1.0617 - acc: 0.6640 - val_loss: 0.9682 - val_acc: 0.6869\n",
      "Epoch 36/40\n",
      "50000/50000 [==============================] - 19s 383us/step - loss: 1.0847 - acc: 0.6588 - val_loss: 0.9229 - val_acc: 0.6986\n",
      "Epoch 37/40\n",
      "50000/50000 [==============================] - 19s 383us/step - loss: 1.0976 - acc: 0.6553 - val_loss: 1.0807 - val_acc: 0.6454\n",
      "Epoch 38/40\n",
      "50000/50000 [==============================] - 19s 385us/step - loss: 1.1050 - acc: 0.6526 - val_loss: 0.9331 - val_acc: 0.6830\n",
      "Epoch 39/40\n",
      "50000/50000 [==============================] - 19s 387us/step - loss: 1.1236 - acc: 0.6444 - val_loss: 0.9771 - val_acc: 0.6869\n",
      "Epoch 40/40\n",
      "50000/50000 [==============================] - 19s 385us/step - loss: 1.1385 - acc: 0.6406 - val_loss: 1.0291 - val_acc: 0.6569\n"
     ]
    },
    {
     "data": {
      "text/plain": [
       "<keras.callbacks.History at 0x7fd6055f07f0>"
      ]
     },
     "execution_count": 1,
     "metadata": {
      "tags": []
     },
     "output_type": "execute_result"
    }
   ],
   "source": [
    "from __future__ import print_function\n",
    "import keras\n",
    "from keras.datasets import cifar10\n",
    "from keras.models import Sequential\n",
    "from keras.layers import Dense, Dropout, Activation, Flatten\n",
    "from keras.layers import Conv2D, MaxPooling2D\n",
    "\n",
    "batch_size = 16\n",
    "num_classes = 10\n",
    "epochs = 40\n",
    "#data_augmentation = True\n",
    "num_predictions = 20\n",
    "\n",
    "# The data, split between train and test sets:\n",
    "(x_train, y_train), (x_test, y_test) = cifar10.load_data()\n",
    "print('x_train shape:', x_train.shape)\n",
    "print(x_train.shape[0], 'train samples')\n",
    "print(x_test.shape[0], 'test samples')\n",
    "\n",
    "# Convert class vectors to binary class matrices.\n",
    "y_train = keras.utils.to_categorical(y_train, num_classes)\n",
    "y_test = keras.utils.to_categorical(y_test, num_classes)\n",
    "\n",
    "model = Sequential()\n",
    "model.add(Conv2D(32, (3, 3), padding='same',input_shape=x_train.shape[1:]))\n",
    "model.add(Activation('relu'))\n",
    "model.add(Conv2D(32, (3, 3)))\n",
    "model.add(Activation('relu'))\n",
    "model.add(MaxPooling2D(pool_size=(2, 2)))\n",
    "model.add(Dropout(0.25))\n",
    "\n",
    "model.add(Conv2D(64, (3, 3), padding='same'))\n",
    "model.add(Activation('relu'))\n",
    "model.add(Conv2D(64, (3, 3)))\n",
    "model.add(Activation('relu'))\n",
    "model.add(MaxPooling2D(pool_size=(2, 2)))\n",
    "model.add(Dropout(0.25))\n",
    "\n",
    "model.add(Flatten())\n",
    "model.add(Dense(512))\n",
    "model.add(Activation('relu'))\n",
    "model.add(Dropout(0.5))\n",
    "model.add(Dense(num_classes))\n",
    "model.add(Activation('softmax'))\n",
    "\n",
    "# Let's train the model using RMSprop\n",
    "model.compile(loss='categorical_crossentropy',\n",
    "              optimizer=keras.optimizers.Adadelta(),\n",
    "              metrics=['accuracy'])\n",
    "\n",
    "x_train = x_train.astype('float32')\n",
    "x_test = x_test.astype('float32')\n",
    "x_train /= 255\n",
    "x_test /= 255\n",
    "\n",
    "\n",
    "model.fit(x_train, y_train,batch_size=batch_size,epochs=epochs,validation_data=(x_test, y_test),shuffle=True)\n"
   ]
  },
  {
   "cell_type": "code",
   "execution_count": 2,
   "metadata": {
    "colab": {
     "base_uri": "https://localhost:8080/",
     "height": 68
    },
    "colab_type": "code",
    "id": "ioxGCbNWFJj0",
    "outputId": "00e2f197-e767-4876-9430-9389d23e0585"
   },
   "outputs": [
    {
     "name": "stdout",
     "output_type": "stream",
     "text": [
      "10000/10000 [==============================] - 1s 73us/step\n",
      "Test loss: 1.0290929468154908\n",
      "Test accuracy: 0.6569\n"
     ]
    }
   ],
   "source": [
    "scores = model.evaluate(x_test, y_test, verbose=1)\n",
    "\n",
    "print('Test loss:', scores[0])\n",
    "print('Test accuracy:', scores[1])"
   ]
  }
 ],
 "metadata": {
  "accelerator": "GPU",
  "colab": {
   "collapsed_sections": [],
   "name": "CIFAR-10_Keras.ipynb",
   "provenance": []
  },
  "kernelspec": {
   "display_name": "Python 3",
   "language": "python",
   "name": "python3"
  },
  "language_info": {
   "codemirror_mode": {
    "name": "ipython",
    "version": 3
   },
   "file_extension": ".py",
   "mimetype": "text/x-python",
   "name": "python",
   "nbconvert_exporter": "python",
   "pygments_lexer": "ipython3",
   "version": "3.8.3"
  }
 },
 "nbformat": 4,
 "nbformat_minor": 1
}
