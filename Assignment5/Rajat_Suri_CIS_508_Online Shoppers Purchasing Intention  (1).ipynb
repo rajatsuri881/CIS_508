{
 "cells": [
  {
   "cell_type": "code",
   "execution_count": 1,
   "metadata": {},
   "outputs": [],
   "source": [
    "import pandas as pd\n",
    "import numpy as np\n",
    "import os\n",
    "import matplotlib.pyplot as plt\n",
    "from sklearn.cluster import KMeans\n",
    "from sklearn.metrics import silhouette_score\n",
    "%matplotlib inline"
   ]
  },
  {
   "cell_type": "code",
   "execution_count": 2,
   "metadata": {},
   "outputs": [
    {
     "data": {
      "text/plain": [
       "'/Users/rajatsuri/Desktop/Padhai/CIS 508/assig 5'"
      ]
     },
     "execution_count": 2,
     "metadata": {},
     "output_type": "execute_result"
    }
   ],
   "source": [
    "os.getcwd()"
   ]
  },
  {
   "cell_type": "code",
   "execution_count": 50,
   "metadata": {},
   "outputs": [],
   "source": [
    "#Read files\n",
    "\n",
    "OSI = pd.read_csv('online_shoppers_intention.csv') #creates a dataframe"
   ]
  },
  {
   "cell_type": "code",
   "execution_count": 51,
   "metadata": {},
   "outputs": [
    {
     "name": "stdout",
     "output_type": "stream",
     "text": [
      "(12330, 18)\n"
     ]
    }
   ],
   "source": [
    "print(OSI.shape)"
   ]
  },
  {
   "cell_type": "code",
   "execution_count": 52,
   "metadata": {},
   "outputs": [
    {
     "data": {
      "text/html": [
       "<div>\n",
       "<style scoped>\n",
       "    .dataframe tbody tr th:only-of-type {\n",
       "        vertical-align: middle;\n",
       "    }\n",
       "\n",
       "    .dataframe tbody tr th {\n",
       "        vertical-align: top;\n",
       "    }\n",
       "\n",
       "    .dataframe thead th {\n",
       "        text-align: right;\n",
       "    }\n",
       "</style>\n",
       "<table border=\"1\" class=\"dataframe\">\n",
       "  <thead>\n",
       "    <tr style=\"text-align: right;\">\n",
       "      <th></th>\n",
       "      <th>Administrative</th>\n",
       "      <th>Administrative_Duration</th>\n",
       "      <th>Informational</th>\n",
       "      <th>Informational_Duration</th>\n",
       "      <th>ProductRelated</th>\n",
       "      <th>ProductRelated_Duration</th>\n",
       "      <th>BounceRates</th>\n",
       "      <th>ExitRates</th>\n",
       "      <th>PageValues</th>\n",
       "      <th>SpecialDay</th>\n",
       "      <th>Month</th>\n",
       "      <th>OperatingSystems</th>\n",
       "      <th>Browser</th>\n",
       "      <th>Region</th>\n",
       "      <th>TrafficType</th>\n",
       "      <th>VisitorType</th>\n",
       "      <th>Weekend</th>\n",
       "      <th>Revenue</th>\n",
       "    </tr>\n",
       "  </thead>\n",
       "  <tbody>\n",
       "    <tr>\n",
       "      <th>0</th>\n",
       "      <td>0</td>\n",
       "      <td>0.0</td>\n",
       "      <td>0</td>\n",
       "      <td>0.0</td>\n",
       "      <td>1</td>\n",
       "      <td>0.000000</td>\n",
       "      <td>0.20</td>\n",
       "      <td>0.20</td>\n",
       "      <td>0.0</td>\n",
       "      <td>0.0</td>\n",
       "      <td>Feb</td>\n",
       "      <td>1</td>\n",
       "      <td>1</td>\n",
       "      <td>1</td>\n",
       "      <td>1</td>\n",
       "      <td>Returning_Visitor</td>\n",
       "      <td>False</td>\n",
       "      <td>False</td>\n",
       "    </tr>\n",
       "    <tr>\n",
       "      <th>1</th>\n",
       "      <td>0</td>\n",
       "      <td>0.0</td>\n",
       "      <td>0</td>\n",
       "      <td>0.0</td>\n",
       "      <td>2</td>\n",
       "      <td>64.000000</td>\n",
       "      <td>0.00</td>\n",
       "      <td>0.10</td>\n",
       "      <td>0.0</td>\n",
       "      <td>0.0</td>\n",
       "      <td>Feb</td>\n",
       "      <td>2</td>\n",
       "      <td>2</td>\n",
       "      <td>1</td>\n",
       "      <td>2</td>\n",
       "      <td>Returning_Visitor</td>\n",
       "      <td>False</td>\n",
       "      <td>False</td>\n",
       "    </tr>\n",
       "    <tr>\n",
       "      <th>2</th>\n",
       "      <td>0</td>\n",
       "      <td>0.0</td>\n",
       "      <td>0</td>\n",
       "      <td>0.0</td>\n",
       "      <td>1</td>\n",
       "      <td>0.000000</td>\n",
       "      <td>0.20</td>\n",
       "      <td>0.20</td>\n",
       "      <td>0.0</td>\n",
       "      <td>0.0</td>\n",
       "      <td>Feb</td>\n",
       "      <td>4</td>\n",
       "      <td>1</td>\n",
       "      <td>9</td>\n",
       "      <td>3</td>\n",
       "      <td>Returning_Visitor</td>\n",
       "      <td>False</td>\n",
       "      <td>False</td>\n",
       "    </tr>\n",
       "    <tr>\n",
       "      <th>3</th>\n",
       "      <td>0</td>\n",
       "      <td>0.0</td>\n",
       "      <td>0</td>\n",
       "      <td>0.0</td>\n",
       "      <td>2</td>\n",
       "      <td>2.666667</td>\n",
       "      <td>0.05</td>\n",
       "      <td>0.14</td>\n",
       "      <td>0.0</td>\n",
       "      <td>0.0</td>\n",
       "      <td>Feb</td>\n",
       "      <td>3</td>\n",
       "      <td>2</td>\n",
       "      <td>2</td>\n",
       "      <td>4</td>\n",
       "      <td>Returning_Visitor</td>\n",
       "      <td>False</td>\n",
       "      <td>False</td>\n",
       "    </tr>\n",
       "    <tr>\n",
       "      <th>4</th>\n",
       "      <td>0</td>\n",
       "      <td>0.0</td>\n",
       "      <td>0</td>\n",
       "      <td>0.0</td>\n",
       "      <td>10</td>\n",
       "      <td>627.500000</td>\n",
       "      <td>0.02</td>\n",
       "      <td>0.05</td>\n",
       "      <td>0.0</td>\n",
       "      <td>0.0</td>\n",
       "      <td>Feb</td>\n",
       "      <td>3</td>\n",
       "      <td>3</td>\n",
       "      <td>1</td>\n",
       "      <td>4</td>\n",
       "      <td>Returning_Visitor</td>\n",
       "      <td>True</td>\n",
       "      <td>False</td>\n",
       "    </tr>\n",
       "  </tbody>\n",
       "</table>\n",
       "</div>"
      ],
      "text/plain": [
       "   Administrative  Administrative_Duration  Informational  \\\n",
       "0               0                      0.0              0   \n",
       "1               0                      0.0              0   \n",
       "2               0                      0.0              0   \n",
       "3               0                      0.0              0   \n",
       "4               0                      0.0              0   \n",
       "\n",
       "   Informational_Duration  ProductRelated  ProductRelated_Duration  \\\n",
       "0                     0.0               1                 0.000000   \n",
       "1                     0.0               2                64.000000   \n",
       "2                     0.0               1                 0.000000   \n",
       "3                     0.0               2                 2.666667   \n",
       "4                     0.0              10               627.500000   \n",
       "\n",
       "   BounceRates  ExitRates  PageValues  SpecialDay Month  OperatingSystems  \\\n",
       "0         0.20       0.20         0.0         0.0   Feb                 1   \n",
       "1         0.00       0.10         0.0         0.0   Feb                 2   \n",
       "2         0.20       0.20         0.0         0.0   Feb                 4   \n",
       "3         0.05       0.14         0.0         0.0   Feb                 3   \n",
       "4         0.02       0.05         0.0         0.0   Feb                 3   \n",
       "\n",
       "   Browser  Region  TrafficType        VisitorType  Weekend  Revenue  \n",
       "0        1       1            1  Returning_Visitor    False    False  \n",
       "1        2       1            2  Returning_Visitor    False    False  \n",
       "2        1       9            3  Returning_Visitor    False    False  \n",
       "3        2       2            4  Returning_Visitor    False    False  \n",
       "4        3       1            4  Returning_Visitor     True    False  "
      ]
     },
     "execution_count": 52,
     "metadata": {},
     "output_type": "execute_result"
    }
   ],
   "source": [
    "OSI.head()"
   ]
  },
  {
   "cell_type": "code",
   "execution_count": 53,
   "metadata": {},
   "outputs": [],
   "source": [
    "y_train = OSI[\"Revenue\"]\n",
    "X_train = OSI.drop(columns=[\"Revenue\"]) #extracting training data without the target column"
   ]
  },
  {
   "cell_type": "code",
   "execution_count": 54,
   "metadata": {},
   "outputs": [
    {
     "data": {
      "text/plain": [
       "Administrative               int64\n",
       "Administrative_Duration    float64\n",
       "Informational                int64\n",
       "Informational_Duration     float64\n",
       "ProductRelated               int64\n",
       "ProductRelated_Duration    float64\n",
       "BounceRates                float64\n",
       "ExitRates                  float64\n",
       "PageValues                 float64\n",
       "SpecialDay                 float64\n",
       "Month                       object\n",
       "OperatingSystems             int64\n",
       "Browser                      int64\n",
       "Region                       int64\n",
       "TrafficType                  int64\n",
       "VisitorType                 object\n",
       "Weekend                       bool\n",
       "dtype: object"
      ]
     },
     "execution_count": 54,
     "metadata": {},
     "output_type": "execute_result"
    }
   ],
   "source": [
    "X_train.dtypes"
   ]
  },
  {
   "cell_type": "code",
   "execution_count": 55,
   "metadata": {},
   "outputs": [
    {
     "name": "stdout",
     "output_type": "stream",
     "text": [
      "['VisitorType', 'Month', 'Weekend']\n",
      "(12330, 26)\n"
     ]
    }
   ],
   "source": [
    "#Do one Hot encoding for categorical features\n",
    "X_cat = [\"VisitorType\",\"Month\",\"Weekend\"]\n",
    "#X_cat = combined.select_dtypes(exclude=['int','float64'])\n",
    "print(X_cat)\n",
    "X_train = pd.get_dummies(X_train,columns=X_cat,drop_first=True)\n",
    "print(X_train.shape)\n",
    "export_csv= X_train.to_csv('/Users/rajatsuri/Desktop/Padhai/CIS 508/assig4/X_train.csv')\n"
   ]
  },
  {
   "cell_type": "code",
   "execution_count": 56,
   "metadata": {},
   "outputs": [
    {
     "data": {
      "text/html": [
       "<div>\n",
       "<style scoped>\n",
       "    .dataframe tbody tr th:only-of-type {\n",
       "        vertical-align: middle;\n",
       "    }\n",
       "\n",
       "    .dataframe tbody tr th {\n",
       "        vertical-align: top;\n",
       "    }\n",
       "\n",
       "    .dataframe thead th {\n",
       "        text-align: right;\n",
       "    }\n",
       "</style>\n",
       "<table border=\"1\" class=\"dataframe\">\n",
       "  <thead>\n",
       "    <tr style=\"text-align: right;\">\n",
       "      <th></th>\n",
       "      <th>Administrative</th>\n",
       "      <th>Administrative_Duration</th>\n",
       "      <th>Informational</th>\n",
       "      <th>Informational_Duration</th>\n",
       "      <th>ProductRelated</th>\n",
       "      <th>ProductRelated_Duration</th>\n",
       "      <th>BounceRates</th>\n",
       "      <th>ExitRates</th>\n",
       "      <th>PageValues</th>\n",
       "      <th>SpecialDay</th>\n",
       "      <th>...</th>\n",
       "      <th>Month_Dec</th>\n",
       "      <th>Month_Feb</th>\n",
       "      <th>Month_Jul</th>\n",
       "      <th>Month_June</th>\n",
       "      <th>Month_Mar</th>\n",
       "      <th>Month_May</th>\n",
       "      <th>Month_Nov</th>\n",
       "      <th>Month_Oct</th>\n",
       "      <th>Month_Sep</th>\n",
       "      <th>Weekend_True</th>\n",
       "    </tr>\n",
       "  </thead>\n",
       "  <tbody>\n",
       "    <tr>\n",
       "      <th>0</th>\n",
       "      <td>0</td>\n",
       "      <td>0.0</td>\n",
       "      <td>0</td>\n",
       "      <td>0.0</td>\n",
       "      <td>1</td>\n",
       "      <td>0.000000</td>\n",
       "      <td>0.20</td>\n",
       "      <td>0.20</td>\n",
       "      <td>0.0</td>\n",
       "      <td>0.0</td>\n",
       "      <td>...</td>\n",
       "      <td>0</td>\n",
       "      <td>1</td>\n",
       "      <td>0</td>\n",
       "      <td>0</td>\n",
       "      <td>0</td>\n",
       "      <td>0</td>\n",
       "      <td>0</td>\n",
       "      <td>0</td>\n",
       "      <td>0</td>\n",
       "      <td>0</td>\n",
       "    </tr>\n",
       "    <tr>\n",
       "      <th>1</th>\n",
       "      <td>0</td>\n",
       "      <td>0.0</td>\n",
       "      <td>0</td>\n",
       "      <td>0.0</td>\n",
       "      <td>2</td>\n",
       "      <td>64.000000</td>\n",
       "      <td>0.00</td>\n",
       "      <td>0.10</td>\n",
       "      <td>0.0</td>\n",
       "      <td>0.0</td>\n",
       "      <td>...</td>\n",
       "      <td>0</td>\n",
       "      <td>1</td>\n",
       "      <td>0</td>\n",
       "      <td>0</td>\n",
       "      <td>0</td>\n",
       "      <td>0</td>\n",
       "      <td>0</td>\n",
       "      <td>0</td>\n",
       "      <td>0</td>\n",
       "      <td>0</td>\n",
       "    </tr>\n",
       "    <tr>\n",
       "      <th>2</th>\n",
       "      <td>0</td>\n",
       "      <td>0.0</td>\n",
       "      <td>0</td>\n",
       "      <td>0.0</td>\n",
       "      <td>1</td>\n",
       "      <td>0.000000</td>\n",
       "      <td>0.20</td>\n",
       "      <td>0.20</td>\n",
       "      <td>0.0</td>\n",
       "      <td>0.0</td>\n",
       "      <td>...</td>\n",
       "      <td>0</td>\n",
       "      <td>1</td>\n",
       "      <td>0</td>\n",
       "      <td>0</td>\n",
       "      <td>0</td>\n",
       "      <td>0</td>\n",
       "      <td>0</td>\n",
       "      <td>0</td>\n",
       "      <td>0</td>\n",
       "      <td>0</td>\n",
       "    </tr>\n",
       "    <tr>\n",
       "      <th>3</th>\n",
       "      <td>0</td>\n",
       "      <td>0.0</td>\n",
       "      <td>0</td>\n",
       "      <td>0.0</td>\n",
       "      <td>2</td>\n",
       "      <td>2.666667</td>\n",
       "      <td>0.05</td>\n",
       "      <td>0.14</td>\n",
       "      <td>0.0</td>\n",
       "      <td>0.0</td>\n",
       "      <td>...</td>\n",
       "      <td>0</td>\n",
       "      <td>1</td>\n",
       "      <td>0</td>\n",
       "      <td>0</td>\n",
       "      <td>0</td>\n",
       "      <td>0</td>\n",
       "      <td>0</td>\n",
       "      <td>0</td>\n",
       "      <td>0</td>\n",
       "      <td>0</td>\n",
       "    </tr>\n",
       "    <tr>\n",
       "      <th>4</th>\n",
       "      <td>0</td>\n",
       "      <td>0.0</td>\n",
       "      <td>0</td>\n",
       "      <td>0.0</td>\n",
       "      <td>10</td>\n",
       "      <td>627.500000</td>\n",
       "      <td>0.02</td>\n",
       "      <td>0.05</td>\n",
       "      <td>0.0</td>\n",
       "      <td>0.0</td>\n",
       "      <td>...</td>\n",
       "      <td>0</td>\n",
       "      <td>1</td>\n",
       "      <td>0</td>\n",
       "      <td>0</td>\n",
       "      <td>0</td>\n",
       "      <td>0</td>\n",
       "      <td>0</td>\n",
       "      <td>0</td>\n",
       "      <td>0</td>\n",
       "      <td>1</td>\n",
       "    </tr>\n",
       "  </tbody>\n",
       "</table>\n",
       "<p>5 rows × 26 columns</p>\n",
       "</div>"
      ],
      "text/plain": [
       "   Administrative  Administrative_Duration  Informational  \\\n",
       "0               0                      0.0              0   \n",
       "1               0                      0.0              0   \n",
       "2               0                      0.0              0   \n",
       "3               0                      0.0              0   \n",
       "4               0                      0.0              0   \n",
       "\n",
       "   Informational_Duration  ProductRelated  ProductRelated_Duration  \\\n",
       "0                     0.0               1                 0.000000   \n",
       "1                     0.0               2                64.000000   \n",
       "2                     0.0               1                 0.000000   \n",
       "3                     0.0               2                 2.666667   \n",
       "4                     0.0              10               627.500000   \n",
       "\n",
       "   BounceRates  ExitRates  PageValues  SpecialDay  ...  Month_Dec  Month_Feb  \\\n",
       "0         0.20       0.20         0.0         0.0  ...          0          1   \n",
       "1         0.00       0.10         0.0         0.0  ...          0          1   \n",
       "2         0.20       0.20         0.0         0.0  ...          0          1   \n",
       "3         0.05       0.14         0.0         0.0  ...          0          1   \n",
       "4         0.02       0.05         0.0         0.0  ...          0          1   \n",
       "\n",
       "   Month_Jul  Month_June  Month_Mar  Month_May  Month_Nov  Month_Oct  \\\n",
       "0          0           0          0          0          0          0   \n",
       "1          0           0          0          0          0          0   \n",
       "2          0           0          0          0          0          0   \n",
       "3          0           0          0          0          0          0   \n",
       "4          0           0          0          0          0          0   \n",
       "\n",
       "   Month_Sep  Weekend_True  \n",
       "0          0             0  \n",
       "1          0             0  \n",
       "2          0             0  \n",
       "3          0             0  \n",
       "4          0             1  \n",
       "\n",
       "[5 rows x 26 columns]"
      ]
     },
     "execution_count": 56,
     "metadata": {},
     "output_type": "execute_result"
    }
   ],
   "source": [
    "X_train.dtypes\n",
    "X_train.head()"
   ]
  },
  {
   "cell_type": "code",
   "execution_count": 57,
   "metadata": {},
   "outputs": [
    {
     "name": "stdout",
     "output_type": "stream",
     "text": [
      "[0 0 0 ... 0 0 0]\n",
      "[[ 1.30910709e+00  4.07552783e+01  2.02313853e-01  1.04714107e+01\n",
      "   1.08436666e+01  2.55254720e+02  3.36797544e-02  5.91145395e-02\n",
      "   3.49673456e+00  6.83180065e-02  2.12043904e+00  2.36309700e+00\n",
      "   3.16983091e+00  4.23464847e+00  1.00860279e-02  8.16226639e-01\n",
      "   1.38831207e-01  2.23969149e-02  3.85642243e-02  2.50667458e-02\n",
      "   1.79916939e-01  2.89231682e-01  1.90892910e-01  4.56837734e-02\n",
      "   3.61910412e-02  2.23672501e-01]\n",
      " [ 6.83196721e+00  2.22726051e+02  2.27868852e+00  1.91983163e+02\n",
      "   1.64622951e+02  7.38713688e+03  6.51258647e-03  2.01173050e-02\n",
      "   5.12447590e+00  3.60655738e-02  2.15983607e+00  2.28278689e+00\n",
      "   2.84836066e+00  3.38934426e+00  4.09836066e-03  9.91803279e-01\n",
      "   9.01639344e-02  4.09836066e-03  4.50819672e-02  4.50819672e-02\n",
      "   5.32786885e-02  1.18852459e-01  5.28688525e-01  4.09836066e-02\n",
      "   4.50819672e-02  2.29508197e-01]\n",
      " [ 3.81523938e+00  1.38527001e+02  9.65610249e-01  6.74525572e+01\n",
      "   5.83000674e+01  2.41805302e+03  7.62347198e-03  2.22641464e-02\n",
      "   8.19994089e+00  5.21915037e-02  2.12407283e+00  2.27039784e+00\n",
      "   3.19217802e+00  3.91706001e+00  1.34861767e-03  9.37289278e-01\n",
      "   1.35536076e-01  4.72016183e-03  3.77612947e-02  1.95549562e-02\n",
      "   1.04517869e-01  2.58260283e-01  3.29062711e-01  4.38300742e-02\n",
      "   2.96695887e-02  2.15104518e-01]\n",
      " [ 1.10000000e+01  3.01400198e+03  1.50000000e+01  2.29990417e+03\n",
      "   5.77000000e+02  5.35723778e+04  2.80784550e-03  2.15663890e-02\n",
      "   3.81914478e-01  0.00000000e+00  2.00000000e+00  2.00000000e+00\n",
      "   1.00000000e+00  8.00000000e+00  0.00000000e+00  1.00000000e+00\n",
      "   5.00000000e-01  0.00000000e+00  0.00000000e+00  0.00000000e+00\n",
      "   0.00000000e+00  5.00000000e-01  0.00000000e+00  0.00000000e+00\n",
      "   0.00000000e+00  5.00000000e-01]\n",
      " [ 4.87716535e+00  1.78749235e+02  1.34330709e+00  1.05844140e+02\n",
      "   9.87700787e+01  4.33428419e+03  6.80831526e-03  2.14680154e-02\n",
      "   8.45420827e+00  5.41732283e-02  2.15905512e+00  2.39370079e+00\n",
      "   3.00629921e+00  3.68188976e+00  3.14960630e-03  9.70078740e-01\n",
      "   1.30708661e-01  3.14960630e-03  2.99212598e-02  1.25984252e-02\n",
      "   6.92913386e-02  1.96850394e-01  4.42519685e-01  4.40944882e-02\n",
      "   3.46456693e-02  2.34645669e-01]\n",
      " [ 6.75000000e+00  2.22080050e+02  2.61111111e+00  1.95093981e+02\n",
      "   2.73791667e+02  1.22070864e+04  5.11900918e-03  1.84794809e-02\n",
      "   4.95780138e+00  2.50000000e-02  2.06944444e+00  2.33333333e+00\n",
      "   2.48611111e+00  3.44444444e+00  0.00000000e+00  9.86111111e-01\n",
      "   5.55555556e-02  8.67361738e-18  2.77777778e-02  5.55555556e-02\n",
      "   2.77777778e-02  1.11111111e-01  6.25000000e-01  2.77777778e-02\n",
      "   2.77777778e-02  2.63888889e-01]\n",
      " [ 1.45454545e+01  1.04104652e+03  4.36363636e+00  6.13265152e+02\n",
      "   4.74818182e+02  2.27146613e+04  6.67303709e-03  2.01373415e-02\n",
      "   4.14016512e+00  0.00000000e+00  1.90909091e+00  2.36363636e+00\n",
      "   1.63636364e+00  5.36363636e+00  0.00000000e+00  1.00000000e+00\n",
      "   9.09090909e-02 -1.73472348e-18  1.81818182e-01  3.46944695e-18\n",
      "   0.00000000e+00  0.00000000e+00  4.54545455e-01 -6.93889390e-18\n",
      "   1.81818182e-01  9.09090909e-02]\n",
      " [ 2.74753263e+00  1.00275594e+02  5.53326966e-01  3.66019932e+01\n",
      "   3.26981853e+01  1.15685222e+03  9.19620143e-03  2.52733726e-02\n",
      "   9.50556861e+00  5.55237186e-02  2.12384591e+00  2.38427252e+00\n",
      "   3.15154409e+00  3.92581980e+00  3.82043935e-03  8.64692773e-01\n",
      "   1.52499204e-01  7.32250876e-03  2.61063356e-02  2.13307864e-02\n",
      "   1.52817574e-01  2.76345113e-01  2.42916269e-01  4.32983126e-02\n",
      "   3.91595033e-02  2.59471506e-01]]\n",
      "0.5641529765294729\n"
     ]
    }
   ],
   "source": [
    "#Clustering\n",
    "#K-Means Clustering ========================================================================\n",
    "#Default Mode - K=8\n",
    "kmeans = KMeans()\n",
    "kmeans.fit(X_train)\n",
    "print(kmeans.labels_)\n",
    "print(kmeans.cluster_centers_)\n",
    "#Print Silhouette measure\n",
    "print(silhouette_score(X_train, kmeans.labels_))\n"
   ]
  },
  {
   "cell_type": "code",
   "execution_count": 58,
   "metadata": {},
   "outputs": [
    {
     "name": "stdout",
     "output_type": "stream",
     "text": [
      "(12330, 27)\n"
     ]
    }
   ],
   "source": [
    "#Add Cluster Number to each datapoint + save file\n",
    "df_kmeans=X_train\n",
    "kmeans_predict_train=kmeans.predict(df_kmeans)\n",
    "df_kmeans['Cluster Number']=kmeans_predict_train\n",
    "print(df_kmeans.shape)\n",
    "df_kmeans.head()\n",
    "df_kmeans.dtypes\n",
    "\n",
    "export_csv = df_kmeans.to_csv(r'/Users/rajatsuri/Desktop/Padhai/CIS 508/assig 5/export_csv1.csv')\n"
   ]
  },
  {
   "cell_type": "code",
   "execution_count": 67,
   "metadata": {},
   "outputs": [
    {
     "name": "stdout",
     "output_type": "stream",
     "text": [
      "(12330, 27)\n",
      "0.6471398277116426\n"
     ]
    }
   ],
   "source": [
    "#K-Means Clustering ========================================================================\n",
    "# K=4\n",
    "\n",
    "kmeans = KMeans(n_clusters=4, init='random', algorithm='elkan')\n",
    "kmeans.fit(X_train)\n",
    "kmeans.labels_\n",
    "#kmeans.cluster_centers_\n",
    "print(X_train.shape)\n",
    "#Print Silhouette measure\n",
    "print(silhouette_score(X_train, kmeans.labels_))"
   ]
  },
  {
   "cell_type": "code",
   "execution_count": 68,
   "metadata": {},
   "outputs": [
    {
     "name": "stdout",
     "output_type": "stream",
     "text": [
      "(12330, 27)\n"
     ]
    }
   ],
   "source": [
    "#Add Cluster Number to each datapoint + save file\n",
    "df_kmeans=X_train\n",
    "kmeans_predict_train=kmeans.predict(X_train)\n",
    "\n",
    "df_kmeans['Cluster Number']=kmeans_predict_train\n",
    "print(df_kmeans.shape)\n",
    "df_kmeans.head()\n",
    "df_kmeans.dtypes\n",
    "\n",
    "export_csv = df_kmeans.to_csv( r'/Users/rajatsuri/Desktop/Padhai/CIS 508/assig 5/export_csv2.csv')"
   ]
  },
  {
   "cell_type": "code",
   "execution_count": 69,
   "metadata": {},
   "outputs": [
    {
     "name": "stdout",
     "output_type": "stream",
     "text": [
      "(12330, 27)\n",
      "0.7814616087490754\n"
     ]
    }
   ],
   "source": [
    "#K-Means Clustering ========================================================================\n",
    "# K=2\n",
    "\n",
    "kmeans = KMeans(n_clusters=2, init='k-means++', algorithm='elkan')\n",
    "kmeans.fit(X_train)\n",
    "kmeans.labels_\n",
    "#kmeans.cluster_centers_\n",
    "print(X_train.shape)\n",
    "#Print Silhouette measure\n",
    "print(silhouette_score(X_train, kmeans.labels_))"
   ]
  },
  {
   "cell_type": "code",
   "execution_count": 70,
   "metadata": {},
   "outputs": [
    {
     "name": "stdout",
     "output_type": "stream",
     "text": [
      "(12330, 27)\n"
     ]
    }
   ],
   "source": [
    "#Add Cluster Number to each datapoint + save file\n",
    "df_kmeans=X_train\n",
    "kmeans_predict_train=kmeans.predict(X_train)\n",
    "\n",
    "df_kmeans['Cluster Number']=kmeans_predict_train\n",
    "print(df_kmeans.shape)\n",
    "df_kmeans.head()\n",
    "df_kmeans.dtypes\n",
    "\n",
    "export_csv = df_kmeans.to_csv( r'/Users/rajatsuri/Desktop/Padhai/CIS 508/assig 5/export_csv3.csv')"
   ]
  },
  {
   "cell_type": "code",
   "execution_count": 72,
   "metadata": {},
   "outputs": [
    {
     "name": "stdout",
     "output_type": "stream",
     "text": [
      "accuracy:-\n",
      "0.8154906731549068\n"
     ]
    }
   ],
   "source": [
    "#accuracy of prediction\n",
    "\n",
    "ac=0\n",
    "for i in range (12330):\n",
    "    if y_train[i]==False and kmeans_predict_train[i]==0:\n",
    "        ac=ac+1\n",
    "        \n",
    "    elif y_train[i]==True and kmeans_predict_train[i]==1:\n",
    "        ac=ac+1\n",
    "        \n",
    "print(\"accuracy:-\")\n",
    "print(ac/12330)\n"
   ]
  },
  {
   "cell_type": "code",
   "execution_count": null,
   "metadata": {},
   "outputs": [],
   "source": []
  }
 ],
 "metadata": {
  "kernelspec": {
   "display_name": "Python 3",
   "language": "python",
   "name": "python3"
  },
  "language_info": {
   "codemirror_mode": {
    "name": "ipython",
    "version": 3
   },
   "file_extension": ".py",
   "mimetype": "text/x-python",
   "name": "python",
   "nbconvert_exporter": "python",
   "pygments_lexer": "ipython3",
   "version": "3.8.3"
  }
 },
 "nbformat": 4,
 "nbformat_minor": 4
}
